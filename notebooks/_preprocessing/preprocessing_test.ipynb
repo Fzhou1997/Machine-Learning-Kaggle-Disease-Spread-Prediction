{
 "cells": [
  {
   "cell_type": "code",
   "id": "initial_id",
   "metadata": {
    "collapsed": true,
    "ExecuteTime": {
     "end_time": "2024-12-30T02:02:44.542332Z",
     "start_time": "2024-12-30T02:02:44.539427Z"
    }
   },
   "source": "from utils_data import PopulationData",
   "outputs": [],
   "execution_count": 4
  },
  {
   "metadata": {
    "ExecuteTime": {
     "end_time": "2024-12-30T02:02:50.501472Z",
     "start_time": "2024-12-30T02:02:44.580316Z"
    }
   },
   "cell_type": "code",
   "source": [
    "data_train = PopulationData().load_processed(\"../../data/processed/train.csv\")\n",
    "data_train.data_df[\"Population\"].unique()"
   ],
   "id": "6bd09382b6fc2980",
   "outputs": [
    {
     "data": {
      "text/plain": [
       "array(['A0', 'A1', 'A2', 'A3', 'A4', 'A5', 'A6', 'A7', 'A8', 'A9', 'B0',\n",
       "       'B1', 'B2', 'B3', 'B4', 'B5', 'B6', 'B7', 'B8', 'B9', 'C0', 'C1',\n",
       "       'C2', 'C3', 'C4', 'C5', 'C6', 'C7', 'C8', 'C9', 'D0', 'D1', 'D2',\n",
       "       'D3', 'D4', 'D5', 'D6', 'D7', 'D8', 'D9', 'E0', 'E1', 'E2', 'E3',\n",
       "       'E4', 'E5', 'E6', 'E7', 'E8', 'E9', 'F0', 'F1', 'F2', 'F3', 'F4',\n",
       "       'F5', 'F6', 'F7', 'F8', 'F9', 'G0', 'G1', 'G2', 'G3', 'G4', 'G5',\n",
       "       'G6', 'G7', 'G8', 'G9', 'H0', 'H1', 'H2', 'H3', 'H4', 'H5', 'H6',\n",
       "       'H7', 'H8', 'H9', 'I0', 'I1', 'I2', 'I3', 'I4', 'I5', 'I6', 'I7',\n",
       "       'I8', 'I9', 'J0', 'J1', 'J2', 'J3', 'J4', 'J5', 'J6', 'J7', 'J8',\n",
       "       'J9', 'K0', 'K1', 'K2', 'K3', 'K4', 'K5', 'K6', 'K7', 'K8', 'K9',\n",
       "       'L0', 'L1', 'L2', 'L3', 'L4', 'L5', 'L6', 'L7', 'L8', 'L9', 'M0',\n",
       "       'M1', 'M2', 'M3', 'M4', 'M5', 'M6', 'M7', 'M8', 'M9'], dtype=object)"
      ]
     },
     "execution_count": 5,
     "metadata": {},
     "output_type": "execute_result"
    }
   ],
   "execution_count": 5
  },
  {
   "metadata": {
    "ExecuteTime": {
     "end_time": "2024-12-30T02:02:56.542689Z",
     "start_time": "2024-12-30T02:02:50.580028Z"
    }
   },
   "cell_type": "code",
   "source": [
    "data_test = PopulationData().load_processed(\"../../data/processed/test.csv\")\n",
    "data_test.data_df[\"Population\"].unique()"
   ],
   "id": "b9685c5dcf3e37ef",
   "outputs": [
    {
     "data": {
      "text/plain": [
       "array(['N0', 'N1', 'N2', 'N3', 'N4', 'N5', 'N6', 'N7', 'N8', 'N9', 'O0',\n",
       "       'O1', 'O2', 'O3', 'O4', 'O5', 'O6', 'O7', 'O8', 'O9', 'P0', 'P1',\n",
       "       'P2', 'P3', 'P4', 'P5', 'P6', 'P7', 'P8', 'P9', 'Q0', 'Q1', 'Q2',\n",
       "       'Q3', 'Q4', 'Q5', 'Q6', 'Q7', 'Q8', 'Q9', 'R0', 'R1', 'R2', 'R3',\n",
       "       'R4', 'R5', 'R6', 'R7', 'R8', 'R9', 'S0', 'S1', 'S2', 'S3', 'S4',\n",
       "       'S5', 'S6', 'S7', 'S8', 'S9', 'T0', 'T1', 'T2', 'T3', 'T4', 'T5',\n",
       "       'T6', 'T7', 'T8', 'T9', 'U0', 'U1', 'U2', 'U3', 'U4', 'U5', 'U6',\n",
       "       'U7', 'U8', 'U9', 'V0', 'V1', 'V2', 'V3', 'V4', 'V5', 'V6', 'V7',\n",
       "       'V8', 'V9', 'W0', 'W1', 'W2', 'W3', 'W4', 'W5', 'W6', 'W7', 'W8',\n",
       "       'W9', 'X0', 'X1', 'X2', 'X3', 'X4', 'X5', 'X6', 'X7', 'X8', 'X9',\n",
       "       'Y0', 'Y1', 'Y2', 'Y3', 'Y4', 'Y5', 'Y6', 'Y7', 'Y8', 'Y9', 'Z0',\n",
       "       'Z1', 'Z2', 'Z3', 'Z4', 'Z5', 'Z6', 'Z7', 'Z8', 'Z9'], dtype=object)"
      ]
     },
     "execution_count": 6,
     "metadata": {},
     "output_type": "execute_result"
    }
   ],
   "execution_count": 6
  },
  {
   "metadata": {
    "ExecuteTime": {
     "end_time": "2024-12-30T02:02:56.616917Z",
     "start_time": "2024-12-30T02:02:56.613917Z"
    }
   },
   "cell_type": "code",
   "source": "",
   "id": "d38f27763b9cf7f9",
   "outputs": [],
   "execution_count": null
  }
 ],
 "metadata": {
  "kernelspec": {
   "display_name": "Python 3",
   "language": "python",
   "name": "python3"
  },
  "language_info": {
   "codemirror_mode": {
    "name": "ipython",
    "version": 2
   },
   "file_extension": ".py",
   "mimetype": "text/x-python",
   "name": "python",
   "nbconvert_exporter": "python",
   "pygments_lexer": "ipython2",
   "version": "2.7.6"
  }
 },
 "nbformat": 4,
 "nbformat_minor": 5
}
