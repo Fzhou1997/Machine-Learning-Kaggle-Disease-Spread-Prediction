{
 "cells": [
  {
   "metadata": {},
   "cell_type": "markdown",
   "source": [
    "<H1 align=\"center\">Data Preprocessing</H1>\n",
    "\n",
    "<br>\n",
    "<strong>This notebook performs data preprocessing on the training and testing datasets and saves the preprocessed data to disk.</strong>"
   ],
   "id": "9bf67f54e1723a8e"
  },
  {
   "metadata": {},
   "cell_type": "markdown",
   "source": "## Import Libraries",
   "id": "b9a16284137f9667"
  },
  {
   "metadata": {},
   "cell_type": "markdown",
   "source": "### Python Libraries",
   "id": "22b594409750df3d"
  },
  {
   "metadata": {
    "ExecuteTime": {
     "end_time": "2024-12-30T15:15:50.593161Z",
     "start_time": "2024-12-30T15:15:50.588717Z"
    }
   },
   "cell_type": "code",
   "source": "import warnings",
   "id": "46edd3489119252b",
   "outputs": [],
   "execution_count": 1
  },
  {
   "metadata": {},
   "cell_type": "markdown",
   "source": "### External Libraries",
   "id": "29eae1da29a3c574"
  },
  {
   "metadata": {
    "ExecuteTime": {
     "end_time": "2024-12-30T15:15:50.963410Z",
     "start_time": "2024-12-30T15:15:50.599680Z"
    }
   },
   "cell_type": "code",
   "source": "import pandas as pd",
   "id": "607484ab8c8a5665",
   "outputs": [],
   "execution_count": 2
  },
  {
   "metadata": {},
   "cell_type": "markdown",
   "source": "### Custom Libraries",
   "id": "ba32243a63d1a050"
  },
  {
   "metadata": {
    "ExecuteTime": {
     "end_time": "2024-12-30T15:15:54.798963Z",
     "start_time": "2024-12-30T15:15:51.202539Z"
    }
   },
   "cell_type": "code",
   "source": "from utils_data import PopulationData",
   "id": "e049e0ba46162980",
   "outputs": [],
   "execution_count": 3
  },
  {
   "metadata": {},
   "cell_type": "markdown",
   "source": "## Set Parameters",
   "id": "fa36e3e386184cc4"
  },
  {
   "metadata": {},
   "cell_type": "markdown",
   "source": "### Data Paths",
   "id": "90d1a78a8f9f4a16"
  },
  {
   "cell_type": "code",
   "id": "initial_id",
   "metadata": {
    "collapsed": true,
    "ExecuteTime": {
     "end_time": "2024-12-30T15:15:54.806714Z",
     "start_time": "2024-12-30T15:15:54.803195Z"
    }
   },
   "source": [
    "path_train_raw = '../../data/raw/train.csv'\n",
    "path_test_raw = '../../data/raw/test.csv'\n",
    "path_train_preprocessed = '../../data/processed/train.csv'\n",
    "path_test_preprocessed = '../../data/processed/test.csv'"
   ],
   "outputs": [],
   "execution_count": 4
  },
  {
   "metadata": {},
   "cell_type": "markdown",
   "source": "## Setup Environment",
   "id": "5c52bd5d018431c7"
  },
  {
   "metadata": {},
   "cell_type": "markdown",
   "source": "### Suppress Warnings",
   "id": "cd5b4f2f622f9f24"
  },
  {
   "metadata": {
    "ExecuteTime": {
     "end_time": "2024-12-30T15:15:54.819892Z",
     "start_time": "2024-12-30T15:15:54.817531Z"
    }
   },
   "cell_type": "code",
   "source": "warnings.filterwarnings(\"ignore\", category=pd.errors.PerformanceWarning)",
   "id": "4f026f42756199ec",
   "outputs": [],
   "execution_count": 5
  },
  {
   "metadata": {},
   "cell_type": "markdown",
   "source": "## Load Data",
   "id": "75ca88e1ff769034"
  },
  {
   "metadata": {},
   "cell_type": "markdown",
   "source": "### Load Training Data",
   "id": "b6760d096b08c5a5"
  },
  {
   "metadata": {
    "ExecuteTime": {
     "end_time": "2024-12-30T15:15:55.375570Z",
     "start_time": "2024-12-30T15:15:54.824368Z"
    }
   },
   "cell_type": "code",
   "source": "data_train = PopulationData().load_raw(path_train_raw)",
   "id": "5acb398fb1fdff77",
   "outputs": [],
   "execution_count": 6
  },
  {
   "metadata": {},
   "cell_type": "markdown",
   "source": "### Load Testing Data",
   "id": "5011cf62541510d8"
  },
  {
   "metadata": {
    "ExecuteTime": {
     "end_time": "2024-12-30T15:15:55.937492Z",
     "start_time": "2024-12-30T15:15:55.379982Z"
    }
   },
   "cell_type": "code",
   "source": "data_test = PopulationData().load_raw(path_test_raw)",
   "id": "683043bef5a1ff9c",
   "outputs": [],
   "execution_count": 7
  },
  {
   "metadata": {},
   "cell_type": "markdown",
   "source": "## Preprocess Data",
   "id": "f2ae3c52c026011d"
  },
  {
   "metadata": {},
   "cell_type": "markdown",
   "source": "### Preprocess Training Data",
   "id": "ff49eadb555f224a"
  },
  {
   "metadata": {
    "ExecuteTime": {
     "end_time": "2024-12-30T15:16:50.926978Z",
     "start_time": "2024-12-30T15:15:55.942738Z"
    }
   },
   "cell_type": "code",
   "source": [
    "data_train.encode_normalized_age()\n",
    "data_train.encode_normalized_constitution()\n",
    "data_train.encode_normalized_behavior()\n",
    "data_train.encode_standardized_age()\n",
    "data_train.encode_standardized_constitution()\n",
    "data_train.encode_standardized_behavior()\n",
    "data_train.encode_connection_lists()\n",
    "data_train.encode_graph_nx()\n",
    "data_train.encode_degree()\n",
    "data_train.encode_degree_centrality()\n",
    "data_train.encode_clustering_coefficient()\n",
    "data_train.encode_normalized_degree()\n",
    "data_train.encode_normalized_degree_centrality()\n",
    "data_train.encode_normalized_clustering_coefficient()\n",
    "data_train.encode_standardized_degree()\n",
    "data_train.encode_standardized_degree_centrality()\n",
    "data_train.encode_standardized_clustering_coefficient()\n",
    "data_train.encode_connected_index_patient()\n",
    "data_train.encode_distance_to_index_patient()\n",
    "data_train.encode_normalized_distance_to_index_patient()\n",
    "data_train.encode_standardized_distance_to_index_patient()\n",
    "data_train.encode_sum_neighbor_age()\n",
    "data_train.encode_sum_neighbor_constitution()\n",
    "data_train.encode_sum_neighbor_behavior()\n",
    "data_train.encode_sum_neighbor_degree()\n",
    "data_train.encode_sum_neighbor_degree_centrality()\n",
    "data_train.encode_sum_neighbor_clustering_coefficient()\n",
    "data_train.encode_normalized_sum_neighbor_age()\n",
    "data_train.encode_normalized_sum_neighbor_constitution()\n",
    "data_train.encode_normalized_sum_neighbor_behavior()\n",
    "data_train.encode_normalized_sum_neighbor_degree()\n",
    "data_train.encode_normalized_sum_neighbor_degree_centrality()\n",
    "data_train.encode_normalized_sum_neighbor_clustering_coefficient()\n",
    "data_train.encode_standardized_sum_neighbor_age()\n",
    "data_train.encode_standardized_sum_neighbor_constitution()\n",
    "data_train.encode_standardized_sum_neighbor_behavior()\n",
    "data_train.encode_standardized_sum_neighbor_degree()\n",
    "data_train.encode_standardized_sum_neighbor_degree_centrality()\n",
    "data_train.encode_standardized_sum_neighbor_clustering_coefficient()\n",
    "data_train.encode_mean_neighbor_age()\n",
    "data_train.encode_mean_neighbor_constitution()\n",
    "data_train.encode_mean_neighbor_behavior()\n",
    "data_train.encode_mean_neighbor_degree()\n",
    "data_train.encode_mean_neighbor_degree_centrality()\n",
    "data_train.encode_mean_neighbor_clustering_coefficient()\n",
    "data_train.encode_normalized_mean_neighbor_age()\n",
    "data_train.encode_normalized_mean_neighbor_constitution()\n",
    "data_train.encode_normalized_mean_neighbor_behavior()\n",
    "data_train.encode_normalized_mean_neighbor_degree()\n",
    "data_train.encode_normalized_mean_neighbor_degree_centrality()\n",
    "data_train.encode_normalized_mean_neighbor_clustering_coefficient()\n",
    "data_train.encode_standardized_mean_neighbor_age()\n",
    "data_train.encode_standardized_mean_neighbor_constitution()\n",
    "data_train.encode_standardized_mean_neighbor_behavior()\n",
    "data_train.encode_standardized_mean_neighbor_degree()\n",
    "data_train.encode_standardized_mean_neighbor_degree_centrality()\n",
    "data_train.encode_standardized_mean_neighbor_clustering_coefficient()\n",
    "data_train.encode_sum_population_age()\n",
    "data_train.encode_sum_population_constitution()\n",
    "data_train.encode_sum_population_behavior()\n",
    "data_train.encode_sum_population_degree()\n",
    "data_train.encode_sum_population_degree_centrality()\n",
    "data_train.encode_sum_population_clustering_coefficient()\n",
    "data_train.encode_normalized_sum_population_age()\n",
    "data_train.encode_normalized_sum_population_constitution()\n",
    "data_train.encode_normalized_sum_population_behavior()\n",
    "data_train.encode_normalized_sum_population_degree()\n",
    "data_train.encode_normalized_sum_population_degree_centrality()\n",
    "data_train.encode_normalized_sum_population_clustering_coefficient()\n",
    "data_train.encode_standardized_sum_population_age()\n",
    "data_train.encode_standardized_sum_population_constitution()\n",
    "data_train.encode_standardized_sum_population_behavior()\n",
    "data_train.encode_standardized_sum_population_degree()\n",
    "data_train.encode_standardized_sum_population_degree_centrality()\n",
    "data_train.encode_standardized_sum_population_clustering_coefficient()\n",
    "data_train.encode_mean_population_age()\n",
    "data_train.encode_mean_population_constitution()\n",
    "data_train.encode_mean_population_behavior()\n",
    "data_train.encode_mean_population_degree()\n",
    "data_train.encode_mean_population_degree_centrality()\n",
    "data_train.encode_mean_population_clustering_coefficient()\n",
    "data_train.encode_normalized_mean_population_age()\n",
    "data_train.encode_normalized_mean_population_constitution()\n",
    "data_train.encode_normalized_mean_population_behavior()\n",
    "data_train.encode_normalized_mean_population_degree()\n",
    "data_train.encode_normalized_mean_population_degree_centrality()\n",
    "data_train.encode_normalized_mean_population_clustering_coefficient()\n",
    "data_train.encode_standardized_mean_population_age()\n",
    "data_train.encode_standardized_mean_population_constitution()\n",
    "data_train.encode_standardized_mean_population_behavior()\n",
    "data_train.encode_standardized_mean_population_degree()\n",
    "data_train.encode_standardized_mean_population_degree_centrality()\n",
    "data_train.encode_standardized_mean_population_clustering_coefficient()\n",
    "data_train.encode_sum_population_distance_to_index_patient()\n",
    "data_train.encode_normalized_sum_population_distance_to_index_patient()\n",
    "data_train.encode_standardized_sum_population_distance_to_index_patient()\n",
    "data_train.encode_mean_population_distance_to_index_patient()\n",
    "data_train.encode_normalized_mean_population_distance_to_index_patient()\n",
    "data_train.encode_standardized_mean_population_distance_to_index_patient()"
   ],
   "id": "224a3e07952119c3",
   "outputs": [
    {
     "data": {
      "text/plain": [
       "<utils_data.PopulationData.PopulationData at 0x24f8b57a810>"
      ]
     },
     "execution_count": 8,
     "metadata": {},
     "output_type": "execute_result"
    }
   ],
   "execution_count": 8
  },
  {
   "metadata": {},
   "cell_type": "markdown",
   "source": "### Preprocess Testing Data",
   "id": "fa99889ecf44956a"
  },
  {
   "metadata": {
    "ExecuteTime": {
     "end_time": "2024-12-30T15:17:45.833428Z",
     "start_time": "2024-12-30T15:16:51.009480Z"
    }
   },
   "cell_type": "code",
   "source": [
    "data_test.encode_normalized_age()\n",
    "data_test.encode_normalized_constitution()\n",
    "data_test.encode_normalized_behavior()\n",
    "data_test.encode_standardized_age()\n",
    "data_test.encode_standardized_constitution()\n",
    "data_test.encode_standardized_behavior()\n",
    "data_test.encode_connection_lists()\n",
    "data_test.encode_graph_nx()\n",
    "data_test.encode_degree()\n",
    "data_test.encode_degree_centrality()\n",
    "data_test.encode_clustering_coefficient()\n",
    "data_test.encode_normalized_degree()\n",
    "data_test.encode_normalized_degree_centrality()\n",
    "data_test.encode_normalized_clustering_coefficient()\n",
    "data_test.encode_standardized_degree()\n",
    "data_test.encode_standardized_degree_centrality()\n",
    "data_test.encode_standardized_clustering_coefficient()\n",
    "data_test.encode_connected_index_patient()\n",
    "data_test.encode_distance_to_index_patient()\n",
    "data_test.encode_normalized_distance_to_index_patient()\n",
    "data_test.encode_standardized_distance_to_index_patient()\n",
    "data_test.encode_sum_neighbor_age()\n",
    "data_test.encode_sum_neighbor_constitution()\n",
    "data_test.encode_sum_neighbor_behavior()\n",
    "data_test.encode_sum_neighbor_degree()\n",
    "data_test.encode_sum_neighbor_degree_centrality()\n",
    "data_test.encode_sum_neighbor_clustering_coefficient()\n",
    "data_test.encode_normalized_sum_neighbor_age()\n",
    "data_test.encode_normalized_sum_neighbor_constitution()\n",
    "data_test.encode_normalized_sum_neighbor_behavior()\n",
    "data_test.encode_normalized_sum_neighbor_degree()\n",
    "data_test.encode_normalized_sum_neighbor_degree_centrality()\n",
    "data_test.encode_normalized_sum_neighbor_clustering_coefficient()\n",
    "data_test.encode_standardized_sum_neighbor_age()\n",
    "data_test.encode_standardized_sum_neighbor_constitution()\n",
    "data_test.encode_standardized_sum_neighbor_behavior()\n",
    "data_test.encode_standardized_sum_neighbor_degree()\n",
    "data_test.encode_standardized_sum_neighbor_degree_centrality()\n",
    "data_test.encode_standardized_sum_neighbor_clustering_coefficient()\n",
    "data_test.encode_mean_neighbor_age()\n",
    "data_test.encode_mean_neighbor_constitution()\n",
    "data_test.encode_mean_neighbor_behavior()\n",
    "data_test.encode_mean_neighbor_degree()\n",
    "data_test.encode_mean_neighbor_degree_centrality()\n",
    "data_test.encode_mean_neighbor_clustering_coefficient()\n",
    "data_test.encode_normalized_mean_neighbor_age()\n",
    "data_test.encode_normalized_mean_neighbor_constitution()\n",
    "data_test.encode_normalized_mean_neighbor_behavior()\n",
    "data_test.encode_normalized_mean_neighbor_degree()\n",
    "data_test.encode_normalized_mean_neighbor_degree_centrality()\n",
    "data_test.encode_normalized_mean_neighbor_clustering_coefficient()\n",
    "data_test.encode_standardized_mean_neighbor_age()\n",
    "data_test.encode_standardized_mean_neighbor_constitution()\n",
    "data_test.encode_standardized_mean_neighbor_behavior()\n",
    "data_test.encode_standardized_mean_neighbor_degree()\n",
    "data_test.encode_standardized_mean_neighbor_degree_centrality()\n",
    "data_test.encode_standardized_mean_neighbor_clustering_coefficient()\n",
    "data_test.encode_sum_population_age()\n",
    "data_test.encode_sum_population_constitution()\n",
    "data_test.encode_sum_population_behavior()\n",
    "data_test.encode_sum_population_degree()\n",
    "data_test.encode_sum_population_degree_centrality()\n",
    "data_test.encode_sum_population_clustering_coefficient()\n",
    "data_test.encode_normalized_sum_population_age()\n",
    "data_test.encode_normalized_sum_population_constitution()\n",
    "data_test.encode_normalized_sum_population_behavior()\n",
    "data_test.encode_normalized_sum_population_degree()\n",
    "data_test.encode_normalized_sum_population_degree_centrality()\n",
    "data_test.encode_normalized_sum_population_clustering_coefficient()\n",
    "data_test.encode_standardized_sum_population_age()\n",
    "data_test.encode_standardized_sum_population_constitution()\n",
    "data_test.encode_standardized_sum_population_behavior()\n",
    "data_test.encode_standardized_sum_population_degree()\n",
    "data_test.encode_standardized_sum_population_degree_centrality()\n",
    "data_test.encode_standardized_sum_population_clustering_coefficient()\n",
    "data_test.encode_mean_population_age()\n",
    "data_test.encode_mean_population_constitution()\n",
    "data_test.encode_mean_population_behavior()\n",
    "data_test.encode_mean_population_degree()\n",
    "data_test.encode_mean_population_degree_centrality()\n",
    "data_test.encode_mean_population_clustering_coefficient()\n",
    "data_test.encode_normalized_mean_population_age()\n",
    "data_test.encode_normalized_mean_population_constitution()\n",
    "data_test.encode_normalized_mean_population_behavior()\n",
    "data_test.encode_normalized_mean_population_degree()\n",
    "data_test.encode_normalized_mean_population_degree_centrality()\n",
    "data_test.encode_normalized_mean_population_clustering_coefficient()\n",
    "data_test.encode_standardized_mean_population_age()\n",
    "data_test.encode_standardized_mean_population_constitution()\n",
    "data_test.encode_standardized_mean_population_behavior()\n",
    "data_test.encode_standardized_mean_population_degree()\n",
    "data_test.encode_standardized_mean_population_degree_centrality()\n",
    "data_test.encode_standardized_mean_population_clustering_coefficient()\n",
    "data_test.encode_sum_population_distance_to_index_patient()\n",
    "data_test.encode_normalized_sum_population_distance_to_index_patient()\n",
    "data_test.encode_standardized_sum_population_distance_to_index_patient()\n",
    "data_test.encode_mean_population_distance_to_index_patient()\n",
    "data_test.encode_normalized_mean_population_distance_to_index_patient()\n",
    "data_test.encode_standardized_mean_population_distance_to_index_patient()"
   ],
   "id": "ab4b2a1a8a74b9cc",
   "outputs": [
    {
     "data": {
      "text/plain": [
       "<utils_data.PopulationData.PopulationData at 0x24fda3fa910>"
      ]
     },
     "execution_count": 9,
     "metadata": {},
     "output_type": "execute_result"
    }
   ],
   "execution_count": 9
  },
  {
   "metadata": {},
   "cell_type": "markdown",
   "source": "## Optimize Dataframes",
   "id": "6769ba638dfc2a7c"
  },
  {
   "metadata": {},
   "cell_type": "markdown",
   "source": "### Optimize Training Data",
   "id": "698b495109364f2d"
  },
  {
   "metadata": {
    "ExecuteTime": {
     "end_time": "2024-12-30T15:17:46.181169Z",
     "start_time": "2024-12-30T15:17:45.905677Z"
    }
   },
   "cell_type": "code",
   "source": "data_train.optimize()",
   "id": "30fc6080572b4f82",
   "outputs": [],
   "execution_count": 10
  },
  {
   "metadata": {},
   "cell_type": "markdown",
   "source": "### Optimize Testing Data",
   "id": "c8d8d74114681179"
  },
  {
   "metadata": {
    "ExecuteTime": {
     "end_time": "2024-12-30T15:17:46.453078Z",
     "start_time": "2024-12-30T15:17:46.185253Z"
    }
   },
   "cell_type": "code",
   "source": "data_test.optimize()",
   "id": "9ee9db513342430b",
   "outputs": [],
   "execution_count": 11
  },
  {
   "metadata": {},
   "cell_type": "markdown",
   "source": "## Save Data",
   "id": "32bfa9c6b30976cb"
  },
  {
   "metadata": {},
   "cell_type": "markdown",
   "source": "### Save Training Data",
   "id": "63c1c2d806d446a4"
  },
  {
   "metadata": {
    "ExecuteTime": {
     "end_time": "2024-12-30T15:18:18.835641Z",
     "start_time": "2024-12-30T15:17:46.457718Z"
    }
   },
   "cell_type": "code",
   "source": "data_train.save_processed(path_train_preprocessed)",
   "id": "f5aa675cfe3a04d9",
   "outputs": [],
   "execution_count": 12
  },
  {
   "metadata": {},
   "cell_type": "markdown",
   "source": "### Save Testing Data",
   "id": "4e97506ecd926921"
  },
  {
   "metadata": {
    "ExecuteTime": {
     "end_time": "2024-12-30T15:18:51.153421Z",
     "start_time": "2024-12-30T15:18:18.840159Z"
    }
   },
   "cell_type": "code",
   "source": "data_test.save_processed(path_test_preprocessed)",
   "id": "fb499d6cc333199",
   "outputs": [],
   "execution_count": 13
  }
 ],
 "metadata": {
  "kernelspec": {
   "display_name": "Python 3",
   "language": "python",
   "name": "python3"
  },
  "language_info": {
   "codemirror_mode": {
    "name": "ipython",
    "version": 2
   },
   "file_extension": ".py",
   "mimetype": "text/x-python",
   "name": "python",
   "nbconvert_exporter": "python",
   "pygments_lexer": "ipython2",
   "version": "2.7.6"
  }
 },
 "nbformat": 4,
 "nbformat_minor": 5
}
