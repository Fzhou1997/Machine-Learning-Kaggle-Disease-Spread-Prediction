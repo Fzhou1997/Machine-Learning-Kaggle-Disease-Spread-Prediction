{
 "cells": [
  {
   "metadata": {},
   "cell_type": "code",
   "outputs": [],
   "execution_count": null,
   "source": [
    "from sklearn.linear_model import LogisticRegression\n",
    "\n",
    "from utils_data import *\n",
    "from utils_evaluation import evaluate_numpy\n",
    "from utils_plot import plot_confusion_matrix, plot_roc"
   ]
  },
  {
   "metadata": {},
   "cell_type": "code",
   "outputs": [],
   "execution_count": null,
   "source": [
    "data = PopulationData().load_raw('../../data/raw/train.csv')\n",
    "data.encode_normalized_age()\n",
    "data.encode_normalized_constitution()\n",
    "data.encode_normalized_behavior()\n",
    "data.encode_standardized_age()\n",
    "data.encode_standardized_constitution()\n",
    "data.encode_standardized_behavior()\n",
    "data.encode_connection_lists()\n",
    "data.encode_graph_nx()\n",
    "data.encode_degree()\n",
    "data.encode_degree_centrality()\n",
    "data.encode_clustering_coefficient()\n",
    "data.encode_normalized_degree()\n",
    "data.encode_normalized_degree_centrality()\n",
    "data.encode_normalized_clustering_coefficient()\n",
    "data.encode_standardized_degree()\n",
    "data.encode_standardized_degree_centrality()\n",
    "data.encode_standardized_clustering_coefficient()\n",
    "data.encode_connected_index_patient()\n",
    "data.encode_distance_to_index_patient()\n",
    "data.encode_normalized_distance_to_index_patient()\n",
    "data.encode_standardized_distance_to_index_patient()\n",
    "data.encode_sum_neighbor_age()\n",
    "data.encode_sum_neighbor_constitution()\n",
    "data.encode_sum_neighbor_behavior()\n",
    "data.encode_sum_neighbor_degree()\n",
    "data.encode_sum_neighbor_degree_centrality()\n",
    "data.encode_sum_neighbor_clustering_coefficient()\n",
    "data.encode_normalized_sum_neighbor_age()\n",
    "data.encode_normalized_sum_neighbor_constitution()\n",
    "data.encode_normalized_sum_neighbor_behavior()\n",
    "data.encode_normalized_sum_neighbor_degree()\n",
    "data.encode_normalized_sum_neighbor_degree_centrality()\n",
    "data.encode_normalized_sum_neighbor_clustering_coefficient()\n",
    "data.encode_standardized_sum_neighbor_age()\n",
    "data.encode_standardized_sum_neighbor_constitution()\n",
    "data.encode_standardized_sum_neighbor_behavior()\n",
    "data.encode_standardized_sum_neighbor_degree()\n",
    "data.encode_standardized_sum_neighbor_degree_centrality()\n",
    "data.encode_standardized_sum_neighbor_clustering_coefficient()\n",
    "data.encode_mean_neighbor_age()\n",
    "data.encode_mean_neighbor_constitution()\n",
    "data.encode_mean_neighbor_behavior()\n",
    "data.encode_mean_neighbor_degree()\n",
    "data.encode_mean_neighbor_degree_centrality()\n",
    "data.encode_mean_neighbor_clustering_coefficient()\n",
    "data.encode_normalized_mean_neighbor_age()\n",
    "data.encode_normalized_mean_neighbor_constitution()\n",
    "data.encode_normalized_mean_neighbor_behavior()\n",
    "data.encode_normalized_mean_neighbor_degree()\n",
    "data.encode_normalized_mean_neighbor_degree_centrality()\n",
    "data.encode_normalized_mean_neighbor_clustering_coefficient()\n",
    "data.encode_standardized_mean_neighbor_age()\n",
    "data.encode_standardized_mean_neighbor_constitution()\n",
    "data.encode_standardized_mean_neighbor_behavior()\n",
    "data.encode_standardized_mean_neighbor_degree()\n",
    "data.encode_standardized_mean_neighbor_degree_centrality()\n",
    "data.encode_standardized_mean_neighbor_clustering_coefficient()\n",
    "data.encode_test_train()"
   ]
  },
  {
   "metadata": {},
   "cell_type": "code",
   "outputs": [],
   "execution_count": null,
   "source": [
    "features = ['Age',\n",
    "\t\t\t'Behaviour',\n",
    "\t\t\t'Constitution',\n",
    "\t\t\t'Degree',\n",
    "\t\t\t'Distance_to_Index_Patient',\n",
    "\t\t\t'Sum_Neighbor_Age',\n",
    "\t\t\t'Sum_Neighbor_Behaviour',\n",
    "\t\t\t'Sum_Neighbor_Constitution',\n",
    "\t\t\t'Sum_Neighbor_Degree']\n",
    "train_features, train_labels = data.get_data_numpy(features=features, train='train')\n",
    "test_features, test_labels = data.get_data_numpy(features=features, train='test')"
   ]
  },
  {
   "metadata": {},
   "cell_type": "code",
   "outputs": [],
   "execution_count": null,
   "source": [
    "model = LogisticRegression()\n",
    "model.fit(train_features, train_labels)"
   ]
  },
  {
   "metadata": {},
   "cell_type": "code",
   "outputs": [],
   "execution_count": null,
   "source": [
    "test_predicted = model.predict(test_features)\n",
    "test_probabilities = model.predict_proba(test_features)\n",
    "accuracy, precision, recall, f1, auc_roc, confusion_matrix = evaluate_numpy(test_predicted, test_probabilities, test_labels)\n",
    "print(f'Accuracy: {accuracy:.4f}')\n",
    "print(f'Precision: {precision:.4f}')\n",
    "print(f'Recall: {recall:.4f}')\n",
    "print(f'F1: {f1:.4f}')\n",
    "print(f'AUC-ROC: {auc_roc:.4f}')"
   ]
  },
  {
   "metadata": {},
   "cell_type": "code",
   "outputs": [],
   "execution_count": null,
   "source": "plot_confusion_matrix(confusion_matrix, ['Healthy', 'Infected'])"
  },
  {
   "metadata": {},
   "cell_type": "code",
   "outputs": [],
   "execution_count": null,
   "source": "plot_roc(test_probabilities, test_labels)"
  }
 ],
 "metadata": {
  "kernelspec": {
   "display_name": "Python 3",
   "language": "python",
   "name": "python3"
  },
  "language_info": {
   "codemirror_mode": {
    "name": "ipython",
    "version": 3
   },
   "file_extension": ".py",
   "mimetype": "text/x-python",
   "name": "python",
   "nbconvert_exporter": "python",
   "pygments_lexer": "ipython3",
   "version": "3.11.1"
  }
 },
 "nbformat": 4,
 "nbformat_minor": 2
}
