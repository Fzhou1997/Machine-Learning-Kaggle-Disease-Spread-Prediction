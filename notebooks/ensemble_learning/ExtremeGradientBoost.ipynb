{
 "cells": [
  {
   "metadata": {},
   "cell_type": "markdown",
   "source": [
    "<H1 align=\"middle\">Extreme Gradient Boost for Disease Spread Prediction</H1>\n",
    "\n",
    "<br>\n",
    "<strong>This notebook trains a extreme gradient boost-based classification model on the training dataset and predicts on the testing dataset</strong>"
   ]
  },
  {
   "metadata": {},
   "cell_type": "markdown",
   "source": "## Import Libraries"
  },
  {
   "metadata": {},
   "cell_type": "markdown",
   "source": "### Python Libraries"
  },
  {
   "metadata": {
    "ExecuteTime": {
     "end_time": "2024-12-30T18:12:02.571148Z",
     "start_time": "2024-12-30T18:12:02.566081Z"
    }
   },
   "cell_type": "code",
   "source": "import warnings",
   "outputs": [],
   "execution_count": 1
  },
  {
   "metadata": {},
   "cell_type": "markdown",
   "source": "### External Libraries"
  },
  {
   "cell_type": "code",
   "metadata": {
    "ExecuteTime": {
     "end_time": "2024-12-30T18:12:03.849262Z",
     "start_time": "2024-12-30T18:12:02.573154Z"
    }
   },
   "source": [
    "from sklearn.model_selection import train_test_split\n",
    "import dask.array as da\n",
    "import xgboost as xgb\n",
    "from dask.distributed import Client"
   ],
   "outputs": [],
   "execution_count": 2
  },
  {
   "metadata": {},
   "cell_type": "markdown",
   "source": "### Custom Libraries"
  },
  {
   "metadata": {
    "ExecuteTime": {
     "end_time": "2024-12-30T18:12:08.872647Z",
     "start_time": "2024-12-30T18:12:04.071091Z"
    }
   },
   "cell_type": "code",
   "source": [
    "from utils_data import PopulationData\n",
    "from utils_evaluation import evaluate_numpy\n",
    "from utils_plot import plot_confusion_matrix, plot_roc"
   ],
   "outputs": [],
   "execution_count": 3
  },
  {
   "metadata": {},
   "cell_type": "markdown",
   "source": "## Setup Environment"
  },
  {
   "metadata": {},
   "cell_type": "markdown",
   "source": "### Suppress Warnings"
  },
  {
   "metadata": {
    "ExecuteTime": {
     "end_time": "2024-12-30T18:12:08.879519Z",
     "start_time": "2024-12-30T18:12:08.876508Z"
    }
   },
   "cell_type": "code",
   "source": [
    "warnings.filterwarnings('ignore', category=FutureWarning)\n",
    "warnings.filterwarnings('ignore', category=UserWarning)"
   ],
   "outputs": [],
   "execution_count": 4
  },
  {
   "metadata": {},
   "cell_type": "markdown",
   "source": "## Set Parameters"
  },
  {
   "metadata": {},
   "cell_type": "markdown",
   "source": "### Select Features"
  },
  {
   "metadata": {
    "ExecuteTime": {
     "end_time": "2024-12-30T18:12:08.890298Z",
     "start_time": "2024-12-30T18:12:08.884300Z"
    }
   },
   "cell_type": "code",
   "source": [
    "features = ['Normalized_Age',\n",
    "            'Normalized_Behaviour',\n",
    "            'Normalized_Constitution',\n",
    "            'Normalized_Degree',\n",
    "            'Normalized_Distance_to_Index_Patient',\n",
    "            'Normalized_Sum_Neighbor_Age',\n",
    "            'Normalized_Sum_Neighbor_Behaviour',\n",
    "            'Normalized_Sum_Neighbor_Constitution',\n",
    "            'Normalized_Sum_Neighbor_Degree',\n",
    "            'Normalized_Sum_Population_Age',\n",
    "            'Normalized_Sum_Population_Behaviour',\n",
    "            'Normalized_Sum_Population_Constitution',\n",
    "            'Normalized_Sum_Population_Distance_to_Index_Patient']"
   ],
   "outputs": [],
   "execution_count": 5
  },
  {
   "metadata": {},
   "cell_type": "markdown",
   "source": "### Set Model Parameters"
  },
  {
   "metadata": {
    "ExecuteTime": {
     "end_time": "2024-12-30T18:12:08.903196Z",
     "start_time": "2024-12-30T18:12:08.900296Z"
    }
   },
   "cell_type": "code",
   "source": [
    "params = {\n",
    "    'objective': 'binary:logistic',\n",
    "    'max_depth': 8,\n",
    "    'eta': 0.1,\n",
    "    'subsample': 0.8,\n",
    "    'colsample_bytree': 0.8,\n",
    "    'eval_metric': 'error',\n",
    "    'n_estimators': 256\n",
    "}"
   ],
   "outputs": [],
   "execution_count": 6
  },
  {
   "metadata": {},
   "cell_type": "markdown",
   "source": "## Initialize Dask Cluster"
  },
  {
   "metadata": {
    "ExecuteTime": {
     "end_time": "2024-12-30T18:12:10.180028Z",
     "start_time": "2024-12-30T18:12:08.907199Z"
    }
   },
   "cell_type": "code",
   "source": "client = Client()",
   "outputs": [],
   "execution_count": 7
  },
  {
   "metadata": {},
   "cell_type": "markdown",
   "source": "## Load Data"
  },
  {
   "metadata": {},
   "cell_type": "markdown",
   "source": "### Load Processed Training Data"
  },
  {
   "metadata": {
    "ExecuteTime": {
     "end_time": "2024-12-30T18:12:16.356872Z",
     "start_time": "2024-12-30T18:12:10.184602Z"
    }
   },
   "cell_type": "code",
   "source": "train_data = PopulationData().load_processed('../../data/processed/train.csv')",
   "outputs": [],
   "execution_count": 8
  },
  {
   "metadata": {},
   "cell_type": "markdown",
   "source": "### Load Processed Testing Data"
  },
  {
   "metadata": {
    "ExecuteTime": {
     "end_time": "2024-12-30T18:12:22.376261Z",
     "start_time": "2024-12-30T18:12:16.363428Z"
    }
   },
   "cell_type": "code",
   "source": "test_data = PopulationData().load_processed('../../data/processed/test.csv')",
   "outputs": [],
   "execution_count": 9
  },
  {
   "metadata": {},
   "cell_type": "markdown",
   "source": "### Split Train Eval Data"
  },
  {
   "metadata": {
    "ExecuteTime": {
     "end_time": "2024-12-30T18:12:22.533900Z",
     "start_time": "2024-12-30T18:12:22.381785Z"
    }
   },
   "cell_type": "code",
   "source": [
    "train_features, train_labels = train_data.get_feature_label_numpy(features=features)\n",
    "train_features, eval_features, train_labels, eval_labels = train_test_split(train_features, train_labels, test_size=0.2)"
   ],
   "outputs": [],
   "execution_count": 10
  },
  {
   "metadata": {},
   "cell_type": "markdown",
   "source": "## Get id and Test Data"
  },
  {
   "metadata": {
    "ExecuteTime": {
     "end_time": "2024-12-30T18:12:22.637220Z",
     "start_time": "2024-12-30T18:12:22.540743Z"
    }
   },
   "cell_type": "code",
   "source": "test_ids, test_features = test_data.get_id_feature_numpy(features=features)",
   "outputs": [],
   "execution_count": 11
  },
  {
   "metadata": {},
   "cell_type": "markdown",
   "source": "### Convert Train and Eval Data to Dask Arrays"
  },
  {
   "metadata": {
    "ExecuteTime": {
     "end_time": "2024-12-30T18:12:22.652350Z",
     "start_time": "2024-12-30T18:12:22.642996Z"
    }
   },
   "cell_type": "code",
   "source": [
    "train_features = da.from_array(train_features, chunks=1000)\n",
    "eval_features = da.from_array(eval_features, chunks=1000)\n",
    "train_labels = da.from_array(train_labels, chunks=1000)\n",
    "eval_labels = da.from_array(eval_labels, chunks=1000)"
   ],
   "outputs": [],
   "execution_count": 12
  },
  {
   "metadata": {},
   "cell_type": "markdown",
   "source": "### Convert Test Data to Dask Array"
  },
  {
   "metadata": {
    "ExecuteTime": {
     "end_time": "2024-12-30T18:12:22.665943Z",
     "start_time": "2024-12-30T18:12:22.657372Z"
    }
   },
   "cell_type": "code",
   "source": "test_features = da.from_array(test_features, chunks=1000)",
   "outputs": [],
   "execution_count": 13
  },
  {
   "metadata": {},
   "cell_type": "markdown",
   "source": "### Create Train and Eval Dask DMatrix"
  },
  {
   "metadata": {
    "ExecuteTime": {
     "end_time": "2024-12-30T18:12:23.625651Z",
     "start_time": "2024-12-30T18:12:22.670466Z"
    }
   },
   "cell_type": "code",
   "source": [
    "dtrain = xgb.dask.DaskDMatrix(client, train_features, train_labels)\n",
    "deval = xgb.dask.DaskDMatrix(client, eval_features, eval_labels)"
   ],
   "outputs": [
    {
     "name": "stderr",
     "output_type": "stream",
     "text": [
      "Windows is not officially supported for dask/xgboost, contribution are welcomed.\n",
      "Windows is not officially supported for dask/xgboost, contribution are welcomed.\n"
     ]
    }
   ],
   "execution_count": 14
  },
  {
   "metadata": {},
   "cell_type": "markdown",
   "source": "### Create Test Dask DMatrix"
  },
  {
   "metadata": {
    "ExecuteTime": {
     "end_time": "2024-12-30T18:12:24.212413Z",
     "start_time": "2024-12-30T18:12:23.632669Z"
    }
   },
   "cell_type": "code",
   "source": "dtest = xgb.dask.DaskDMatrix(client, test_features)",
   "outputs": [
    {
     "name": "stderr",
     "output_type": "stream",
     "text": [
      "Windows is not officially supported for dask/xgboost, contribution are welcomed.\n"
     ]
    }
   ],
   "execution_count": 15
  },
  {
   "metadata": {},
   "cell_type": "markdown",
   "source": "## Create Model"
  },
  {
   "metadata": {
    "ExecuteTime": {
     "end_time": "2024-12-30T18:12:24.221917Z",
     "start_time": "2024-12-30T18:12:24.218870Z"
    }
   },
   "cell_type": "code",
   "source": "model = xgb.XGBClassifier(**params, use_label_encoder=False)",
   "outputs": [],
   "execution_count": 16
  },
  {
   "metadata": {},
   "cell_type": "markdown",
   "source": "## Train Model"
  },
  {
   "cell_type": "code",
   "metadata": {
    "ExecuteTime": {
     "end_time": "2024-12-30T18:12:28.873096Z",
     "start_time": "2024-12-30T18:12:24.227950Z"
    }
   },
   "source": "model.fit(train_features, train_labels, eval_set=[(eval_features, eval_labels)], verbose=True)",
   "outputs": [
    {
     "name": "stdout",
     "output_type": "stream",
     "text": [
      "[0]\tvalidation_0-error:0.40177\n",
      "[1]\tvalidation_0-error:0.31556\n",
      "[2]\tvalidation_0-error:0.26407\n",
      "[3]\tvalidation_0-error:0.24039\n",
      "[4]\tvalidation_0-error:0.22782\n",
      "[5]\tvalidation_0-error:0.22138\n",
      "[6]\tvalidation_0-error:0.21564\n",
      "[7]\tvalidation_0-error:0.21169\n",
      "[8]\tvalidation_0-error:0.20885\n",
      "[9]\tvalidation_0-error:0.20622\n",
      "[10]\tvalidation_0-error:0.20620\n",
      "[11]\tvalidation_0-error:0.20579\n",
      "[12]\tvalidation_0-error:0.20482\n",
      "[13]\tvalidation_0-error:0.20512\n",
      "[14]\tvalidation_0-error:0.20455\n",
      "[15]\tvalidation_0-error:0.20458\n",
      "[16]\tvalidation_0-error:0.20363\n",
      "[17]\tvalidation_0-error:0.20306\n",
      "[18]\tvalidation_0-error:0.20208\n",
      "[19]\tvalidation_0-error:0.20153\n",
      "[20]\tvalidation_0-error:0.20203\n",
      "[21]\tvalidation_0-error:0.20161\n",
      "[22]\tvalidation_0-error:0.20131\n",
      "[23]\tvalidation_0-error:0.20061\n",
      "[24]\tvalidation_0-error:0.20084\n",
      "[25]\tvalidation_0-error:0.20053\n",
      "[26]\tvalidation_0-error:0.20059\n",
      "[27]\tvalidation_0-error:0.20025\n",
      "[28]\tvalidation_0-error:0.20002\n",
      "[29]\tvalidation_0-error:0.20007\n",
      "[30]\tvalidation_0-error:0.19998\n",
      "[31]\tvalidation_0-error:0.19982\n",
      "[32]\tvalidation_0-error:0.19994\n",
      "[33]\tvalidation_0-error:0.19990\n",
      "[34]\tvalidation_0-error:0.19956\n",
      "[35]\tvalidation_0-error:0.19954\n",
      "[36]\tvalidation_0-error:0.19965\n",
      "[37]\tvalidation_0-error:0.19919\n",
      "[38]\tvalidation_0-error:0.19925\n",
      "[39]\tvalidation_0-error:0.19934\n",
      "[40]\tvalidation_0-error:0.19880\n",
      "[41]\tvalidation_0-error:0.19879\n",
      "[42]\tvalidation_0-error:0.19842\n",
      "[43]\tvalidation_0-error:0.19830\n",
      "[44]\tvalidation_0-error:0.19814\n",
      "[45]\tvalidation_0-error:0.19813\n",
      "[46]\tvalidation_0-error:0.19819\n",
      "[47]\tvalidation_0-error:0.19825\n",
      "[48]\tvalidation_0-error:0.19825\n",
      "[49]\tvalidation_0-error:0.19806\n",
      "[50]\tvalidation_0-error:0.19800\n",
      "[51]\tvalidation_0-error:0.19775\n",
      "[52]\tvalidation_0-error:0.19781\n",
      "[53]\tvalidation_0-error:0.19792\n",
      "[54]\tvalidation_0-error:0.19759\n",
      "[55]\tvalidation_0-error:0.19754\n",
      "[56]\tvalidation_0-error:0.19758\n",
      "[57]\tvalidation_0-error:0.19756\n",
      "[58]\tvalidation_0-error:0.19762\n",
      "[59]\tvalidation_0-error:0.19764\n",
      "[60]\tvalidation_0-error:0.19748\n",
      "[61]\tvalidation_0-error:0.19755\n",
      "[62]\tvalidation_0-error:0.19745\n",
      "[63]\tvalidation_0-error:0.19741\n",
      "[64]\tvalidation_0-error:0.19733\n",
      "[65]\tvalidation_0-error:0.19738\n",
      "[66]\tvalidation_0-error:0.19728\n",
      "[67]\tvalidation_0-error:0.19738\n",
      "[68]\tvalidation_0-error:0.19751\n",
      "[69]\tvalidation_0-error:0.19743\n",
      "[70]\tvalidation_0-error:0.19732\n",
      "[71]\tvalidation_0-error:0.19734\n",
      "[72]\tvalidation_0-error:0.19747\n",
      "[73]\tvalidation_0-error:0.19742\n",
      "[74]\tvalidation_0-error:0.19748\n",
      "[75]\tvalidation_0-error:0.19757\n",
      "[76]\tvalidation_0-error:0.19751\n",
      "[77]\tvalidation_0-error:0.19754\n",
      "[78]\tvalidation_0-error:0.19755\n",
      "[79]\tvalidation_0-error:0.19754\n",
      "[80]\tvalidation_0-error:0.19748\n",
      "[81]\tvalidation_0-error:0.19744\n",
      "[82]\tvalidation_0-error:0.19753\n",
      "[83]\tvalidation_0-error:0.19738\n",
      "[84]\tvalidation_0-error:0.19745\n",
      "[85]\tvalidation_0-error:0.19747\n",
      "[86]\tvalidation_0-error:0.19745\n",
      "[87]\tvalidation_0-error:0.19738\n",
      "[88]\tvalidation_0-error:0.19740\n",
      "[89]\tvalidation_0-error:0.19736\n",
      "[90]\tvalidation_0-error:0.19733\n",
      "[91]\tvalidation_0-error:0.19713\n",
      "[92]\tvalidation_0-error:0.19722\n",
      "[93]\tvalidation_0-error:0.19728\n",
      "[94]\tvalidation_0-error:0.19732\n",
      "[95]\tvalidation_0-error:0.19731\n",
      "[96]\tvalidation_0-error:0.19731\n",
      "[97]\tvalidation_0-error:0.19728\n",
      "[98]\tvalidation_0-error:0.19734\n",
      "[99]\tvalidation_0-error:0.19737\n",
      "[100]\tvalidation_0-error:0.19730\n",
      "[101]\tvalidation_0-error:0.19722\n",
      "[102]\tvalidation_0-error:0.19725\n",
      "[103]\tvalidation_0-error:0.19733\n",
      "[104]\tvalidation_0-error:0.19742\n",
      "[105]\tvalidation_0-error:0.19731\n",
      "[106]\tvalidation_0-error:0.19735\n",
      "[107]\tvalidation_0-error:0.19744\n",
      "[108]\tvalidation_0-error:0.19747\n",
      "[109]\tvalidation_0-error:0.19738\n",
      "[110]\tvalidation_0-error:0.19726\n",
      "[111]\tvalidation_0-error:0.19725\n",
      "[112]\tvalidation_0-error:0.19719\n",
      "[113]\tvalidation_0-error:0.19725\n",
      "[114]\tvalidation_0-error:0.19733\n",
      "[115]\tvalidation_0-error:0.19733\n",
      "[116]\tvalidation_0-error:0.19731\n",
      "[117]\tvalidation_0-error:0.19725\n",
      "[118]\tvalidation_0-error:0.19727\n",
      "[119]\tvalidation_0-error:0.19725\n",
      "[120]\tvalidation_0-error:0.19727\n",
      "[121]\tvalidation_0-error:0.19713\n",
      "[122]\tvalidation_0-error:0.19703\n",
      "[123]\tvalidation_0-error:0.19702\n",
      "[124]\tvalidation_0-error:0.19707\n",
      "[125]\tvalidation_0-error:0.19703\n",
      "[126]\tvalidation_0-error:0.19698\n",
      "[127]\tvalidation_0-error:0.19698\n",
      "[128]\tvalidation_0-error:0.19702\n",
      "[129]\tvalidation_0-error:0.19712\n",
      "[130]\tvalidation_0-error:0.19713\n",
      "[131]\tvalidation_0-error:0.19715\n",
      "[132]\tvalidation_0-error:0.19698\n",
      "[133]\tvalidation_0-error:0.19683\n",
      "[134]\tvalidation_0-error:0.19680\n",
      "[135]\tvalidation_0-error:0.19678\n",
      "[136]\tvalidation_0-error:0.19678\n",
      "[137]\tvalidation_0-error:0.19673\n",
      "[138]\tvalidation_0-error:0.19672\n",
      "[139]\tvalidation_0-error:0.19674\n",
      "[140]\tvalidation_0-error:0.19675\n",
      "[141]\tvalidation_0-error:0.19658\n",
      "[142]\tvalidation_0-error:0.19655\n",
      "[143]\tvalidation_0-error:0.19652\n",
      "[144]\tvalidation_0-error:0.19652\n",
      "[145]\tvalidation_0-error:0.19648\n",
      "[146]\tvalidation_0-error:0.19648\n",
      "[147]\tvalidation_0-error:0.19653\n",
      "[148]\tvalidation_0-error:0.19649\n",
      "[149]\tvalidation_0-error:0.19652\n",
      "[150]\tvalidation_0-error:0.19653\n",
      "[151]\tvalidation_0-error:0.19652\n",
      "[152]\tvalidation_0-error:0.19658\n",
      "[153]\tvalidation_0-error:0.19660\n",
      "[154]\tvalidation_0-error:0.19651\n",
      "[155]\tvalidation_0-error:0.19652\n",
      "[156]\tvalidation_0-error:0.19654\n",
      "[157]\tvalidation_0-error:0.19639\n",
      "[158]\tvalidation_0-error:0.19649\n",
      "[159]\tvalidation_0-error:0.19650\n",
      "[160]\tvalidation_0-error:0.19648\n",
      "[161]\tvalidation_0-error:0.19657\n",
      "[162]\tvalidation_0-error:0.19660\n",
      "[163]\tvalidation_0-error:0.19656\n",
      "[164]\tvalidation_0-error:0.19644\n",
      "[165]\tvalidation_0-error:0.19652\n",
      "[166]\tvalidation_0-error:0.19656\n",
      "[167]\tvalidation_0-error:0.19660\n",
      "[168]\tvalidation_0-error:0.19655\n",
      "[169]\tvalidation_0-error:0.19650\n",
      "[170]\tvalidation_0-error:0.19654\n",
      "[171]\tvalidation_0-error:0.19656\n",
      "[172]\tvalidation_0-error:0.19646\n",
      "[173]\tvalidation_0-error:0.19658\n",
      "[174]\tvalidation_0-error:0.19661\n",
      "[175]\tvalidation_0-error:0.19655\n",
      "[176]\tvalidation_0-error:0.19656\n",
      "[177]\tvalidation_0-error:0.19655\n",
      "[178]\tvalidation_0-error:0.19652\n",
      "[179]\tvalidation_0-error:0.19655\n",
      "[180]\tvalidation_0-error:0.19664\n",
      "[181]\tvalidation_0-error:0.19655\n",
      "[182]\tvalidation_0-error:0.19658\n",
      "[183]\tvalidation_0-error:0.19658\n",
      "[184]\tvalidation_0-error:0.19654\n",
      "[185]\tvalidation_0-error:0.19654\n",
      "[186]\tvalidation_0-error:0.19638\n",
      "[187]\tvalidation_0-error:0.19638\n",
      "[188]\tvalidation_0-error:0.19640\n",
      "[189]\tvalidation_0-error:0.19652\n",
      "[190]\tvalidation_0-error:0.19656\n",
      "[191]\tvalidation_0-error:0.19656\n",
      "[192]\tvalidation_0-error:0.19654\n",
      "[193]\tvalidation_0-error:0.19650\n",
      "[194]\tvalidation_0-error:0.19655\n",
      "[195]\tvalidation_0-error:0.19658\n",
      "[196]\tvalidation_0-error:0.19647\n",
      "[197]\tvalidation_0-error:0.19652\n",
      "[198]\tvalidation_0-error:0.19647\n",
      "[199]\tvalidation_0-error:0.19639\n",
      "[200]\tvalidation_0-error:0.19642\n",
      "[201]\tvalidation_0-error:0.19639\n",
      "[202]\tvalidation_0-error:0.19645\n",
      "[203]\tvalidation_0-error:0.19648\n",
      "[204]\tvalidation_0-error:0.19644\n",
      "[205]\tvalidation_0-error:0.19645\n",
      "[206]\tvalidation_0-error:0.19647\n",
      "[207]\tvalidation_0-error:0.19642\n",
      "[208]\tvalidation_0-error:0.19641\n",
      "[209]\tvalidation_0-error:0.19638\n",
      "[210]\tvalidation_0-error:0.19637\n",
      "[211]\tvalidation_0-error:0.19645\n",
      "[212]\tvalidation_0-error:0.19642\n",
      "[213]\tvalidation_0-error:0.19654\n",
      "[214]\tvalidation_0-error:0.19657\n",
      "[215]\tvalidation_0-error:0.19661\n",
      "[216]\tvalidation_0-error:0.19658\n",
      "[217]\tvalidation_0-error:0.19655\n",
      "[218]\tvalidation_0-error:0.19664\n",
      "[219]\tvalidation_0-error:0.19659\n",
      "[220]\tvalidation_0-error:0.19662\n",
      "[221]\tvalidation_0-error:0.19663\n",
      "[222]\tvalidation_0-error:0.19665\n",
      "[223]\tvalidation_0-error:0.19664\n",
      "[224]\tvalidation_0-error:0.19664\n",
      "[225]\tvalidation_0-error:0.19674\n",
      "[226]\tvalidation_0-error:0.19665\n",
      "[227]\tvalidation_0-error:0.19660\n",
      "[228]\tvalidation_0-error:0.19662\n",
      "[229]\tvalidation_0-error:0.19662\n",
      "[230]\tvalidation_0-error:0.19662\n",
      "[231]\tvalidation_0-error:0.19662\n",
      "[232]\tvalidation_0-error:0.19662\n",
      "[233]\tvalidation_0-error:0.19658\n",
      "[234]\tvalidation_0-error:0.19664\n",
      "[235]\tvalidation_0-error:0.19667\n",
      "[236]\tvalidation_0-error:0.19660\n",
      "[237]\tvalidation_0-error:0.19658\n",
      "[238]\tvalidation_0-error:0.19660\n",
      "[239]\tvalidation_0-error:0.19660\n",
      "[240]\tvalidation_0-error:0.19656\n",
      "[241]\tvalidation_0-error:0.19651\n",
      "[242]\tvalidation_0-error:0.19662\n",
      "[243]\tvalidation_0-error:0.19659\n",
      "[244]\tvalidation_0-error:0.19656\n",
      "[245]\tvalidation_0-error:0.19652\n",
      "[246]\tvalidation_0-error:0.19654\n",
      "[247]\tvalidation_0-error:0.19648\n",
      "[248]\tvalidation_0-error:0.19649\n",
      "[249]\tvalidation_0-error:0.19648\n",
      "[250]\tvalidation_0-error:0.19647\n",
      "[251]\tvalidation_0-error:0.19641\n",
      "[252]\tvalidation_0-error:0.19642\n",
      "[253]\tvalidation_0-error:0.19646\n",
      "[254]\tvalidation_0-error:0.19649\n",
      "[255]\tvalidation_0-error:0.19645\n"
     ]
    },
    {
     "data": {
      "text/plain": [
       "XGBClassifier(base_score=None, booster=None, callbacks=None,\n",
       "              colsample_bylevel=None, colsample_bynode=None,\n",
       "              colsample_bytree=0.8, device=None, early_stopping_rounds=None,\n",
       "              enable_categorical=False, eta=0.1, eval_metric='error',\n",
       "              feature_types=None, gamma=None, grow_policy=None,\n",
       "              importance_type=None, interaction_constraints=None,\n",
       "              learning_rate=None, max_bin=None, max_cat_threshold=None,\n",
       "              max_cat_to_onehot=None, max_delta_step=None, max_depth=8,\n",
       "              max_leaves=None, min_child_weight=None, missing=nan,\n",
       "              monotone_constraints=None, multi_strategy=None, n_estimators=256,\n",
       "              n_jobs=None, num_parallel_tree=None, ...)"
      ],
      "text/html": [
       "<style>#sk-container-id-1 {\n",
       "  /* Definition of color scheme common for light and dark mode */\n",
       "  --sklearn-color-text: black;\n",
       "  --sklearn-color-line: gray;\n",
       "  /* Definition of color scheme for unfitted estimators */\n",
       "  --sklearn-color-unfitted-level-0: #fff5e6;\n",
       "  --sklearn-color-unfitted-level-1: #f6e4d2;\n",
       "  --sklearn-color-unfitted-level-2: #ffe0b3;\n",
       "  --sklearn-color-unfitted-level-3: chocolate;\n",
       "  /* Definition of color scheme for fitted estimators */\n",
       "  --sklearn-color-fitted-level-0: #f0f8ff;\n",
       "  --sklearn-color-fitted-level-1: #d4ebff;\n",
       "  --sklearn-color-fitted-level-2: #b3dbfd;\n",
       "  --sklearn-color-fitted-level-3: cornflowerblue;\n",
       "\n",
       "  /* Specific color for light theme */\n",
       "  --sklearn-color-text-on-default-background: var(--sg-text-color, var(--theme-code-foreground, var(--jp-content-font-color1, black)));\n",
       "  --sklearn-color-background: var(--sg-background-color, var(--theme-background, var(--jp-layout-color0, white)));\n",
       "  --sklearn-color-border-box: var(--sg-text-color, var(--theme-code-foreground, var(--jp-content-font-color1, black)));\n",
       "  --sklearn-color-icon: #696969;\n",
       "\n",
       "  @media (prefers-color-scheme: dark) {\n",
       "    /* Redefinition of color scheme for dark theme */\n",
       "    --sklearn-color-text-on-default-background: var(--sg-text-color, var(--theme-code-foreground, var(--jp-content-font-color1, white)));\n",
       "    --sklearn-color-background: var(--sg-background-color, var(--theme-background, var(--jp-layout-color0, #111)));\n",
       "    --sklearn-color-border-box: var(--sg-text-color, var(--theme-code-foreground, var(--jp-content-font-color1, white)));\n",
       "    --sklearn-color-icon: #878787;\n",
       "  }\n",
       "}\n",
       "\n",
       "#sk-container-id-1 {\n",
       "  color: var(--sklearn-color-text);\n",
       "}\n",
       "\n",
       "#sk-container-id-1 pre {\n",
       "  padding: 0;\n",
       "}\n",
       "\n",
       "#sk-container-id-1 input.sk-hidden--visually {\n",
       "  border: 0;\n",
       "  clip: rect(1px 1px 1px 1px);\n",
       "  clip: rect(1px, 1px, 1px, 1px);\n",
       "  height: 1px;\n",
       "  margin: -1px;\n",
       "  overflow: hidden;\n",
       "  padding: 0;\n",
       "  position: absolute;\n",
       "  width: 1px;\n",
       "}\n",
       "\n",
       "#sk-container-id-1 div.sk-dashed-wrapped {\n",
       "  border: 1px dashed var(--sklearn-color-line);\n",
       "  margin: 0 0.4em 0.5em 0.4em;\n",
       "  box-sizing: border-box;\n",
       "  padding-bottom: 0.4em;\n",
       "  background-color: var(--sklearn-color-background);\n",
       "}\n",
       "\n",
       "#sk-container-id-1 div.sk-container {\n",
       "  /* jupyter's `normalize.less` sets `[hidden] { display: none; }`\n",
       "     but bootstrap.min.css set `[hidden] { display: none !important; }`\n",
       "     so we also need the `!important` here to be able to override the\n",
       "     default hidden behavior on the sphinx rendered scikit-learn.org.\n",
       "     See: https://github.com/scikit-learn/scikit-learn/issues/21755 */\n",
       "  display: inline-block !important;\n",
       "  position: relative;\n",
       "}\n",
       "\n",
       "#sk-container-id-1 div.sk-text-repr-fallback {\n",
       "  display: none;\n",
       "}\n",
       "\n",
       "div.sk-parallel-item,\n",
       "div.sk-serial,\n",
       "div.sk-item {\n",
       "  /* draw centered vertical line to link estimators */\n",
       "  background-image: linear-gradient(var(--sklearn-color-text-on-default-background), var(--sklearn-color-text-on-default-background));\n",
       "  background-size: 2px 100%;\n",
       "  background-repeat: no-repeat;\n",
       "  background-position: center center;\n",
       "}\n",
       "\n",
       "/* Parallel-specific style estimator block */\n",
       "\n",
       "#sk-container-id-1 div.sk-parallel-item::after {\n",
       "  content: \"\";\n",
       "  width: 100%;\n",
       "  border-bottom: 2px solid var(--sklearn-color-text-on-default-background);\n",
       "  flex-grow: 1;\n",
       "}\n",
       "\n",
       "#sk-container-id-1 div.sk-parallel {\n",
       "  display: flex;\n",
       "  align-items: stretch;\n",
       "  justify-content: center;\n",
       "  background-color: var(--sklearn-color-background);\n",
       "  position: relative;\n",
       "}\n",
       "\n",
       "#sk-container-id-1 div.sk-parallel-item {\n",
       "  display: flex;\n",
       "  flex-direction: column;\n",
       "}\n",
       "\n",
       "#sk-container-id-1 div.sk-parallel-item:first-child::after {\n",
       "  align-self: flex-end;\n",
       "  width: 50%;\n",
       "}\n",
       "\n",
       "#sk-container-id-1 div.sk-parallel-item:last-child::after {\n",
       "  align-self: flex-start;\n",
       "  width: 50%;\n",
       "}\n",
       "\n",
       "#sk-container-id-1 div.sk-parallel-item:only-child::after {\n",
       "  width: 0;\n",
       "}\n",
       "\n",
       "/* Serial-specific style estimator block */\n",
       "\n",
       "#sk-container-id-1 div.sk-serial {\n",
       "  display: flex;\n",
       "  flex-direction: column;\n",
       "  align-items: center;\n",
       "  background-color: var(--sklearn-color-background);\n",
       "  padding-right: 1em;\n",
       "  padding-left: 1em;\n",
       "}\n",
       "\n",
       "\n",
       "/* Toggleable style: style used for estimator/Pipeline/ColumnTransformer box that is\n",
       "clickable and can be expanded/collapsed.\n",
       "- Pipeline and ColumnTransformer use this feature and define the default style\n",
       "- Estimators will overwrite some part of the style using the `sk-estimator` class\n",
       "*/\n",
       "\n",
       "/* Pipeline and ColumnTransformer style (default) */\n",
       "\n",
       "#sk-container-id-1 div.sk-toggleable {\n",
       "  /* Default theme specific background. It is overwritten whether we have a\n",
       "  specific estimator or a Pipeline/ColumnTransformer */\n",
       "  background-color: var(--sklearn-color-background);\n",
       "}\n",
       "\n",
       "/* Toggleable label */\n",
       "#sk-container-id-1 label.sk-toggleable__label {\n",
       "  cursor: pointer;\n",
       "  display: block;\n",
       "  width: 100%;\n",
       "  margin-bottom: 0;\n",
       "  padding: 0.5em;\n",
       "  box-sizing: border-box;\n",
       "  text-align: center;\n",
       "}\n",
       "\n",
       "#sk-container-id-1 label.sk-toggleable__label-arrow:before {\n",
       "  /* Arrow on the left of the label */\n",
       "  content: \"▸\";\n",
       "  float: left;\n",
       "  margin-right: 0.25em;\n",
       "  color: var(--sklearn-color-icon);\n",
       "}\n",
       "\n",
       "#sk-container-id-1 label.sk-toggleable__label-arrow:hover:before {\n",
       "  color: var(--sklearn-color-text);\n",
       "}\n",
       "\n",
       "/* Toggleable content - dropdown */\n",
       "\n",
       "#sk-container-id-1 div.sk-toggleable__content {\n",
       "  max-height: 0;\n",
       "  max-width: 0;\n",
       "  overflow: hidden;\n",
       "  text-align: left;\n",
       "  /* unfitted */\n",
       "  background-color: var(--sklearn-color-unfitted-level-0);\n",
       "}\n",
       "\n",
       "#sk-container-id-1 div.sk-toggleable__content.fitted {\n",
       "  /* fitted */\n",
       "  background-color: var(--sklearn-color-fitted-level-0);\n",
       "}\n",
       "\n",
       "#sk-container-id-1 div.sk-toggleable__content pre {\n",
       "  margin: 0.2em;\n",
       "  border-radius: 0.25em;\n",
       "  color: var(--sklearn-color-text);\n",
       "  /* unfitted */\n",
       "  background-color: var(--sklearn-color-unfitted-level-0);\n",
       "}\n",
       "\n",
       "#sk-container-id-1 div.sk-toggleable__content.fitted pre {\n",
       "  /* unfitted */\n",
       "  background-color: var(--sklearn-color-fitted-level-0);\n",
       "}\n",
       "\n",
       "#sk-container-id-1 input.sk-toggleable__control:checked~div.sk-toggleable__content {\n",
       "  /* Expand drop-down */\n",
       "  max-height: 200px;\n",
       "  max-width: 100%;\n",
       "  overflow: auto;\n",
       "}\n",
       "\n",
       "#sk-container-id-1 input.sk-toggleable__control:checked~label.sk-toggleable__label-arrow:before {\n",
       "  content: \"▾\";\n",
       "}\n",
       "\n",
       "/* Pipeline/ColumnTransformer-specific style */\n",
       "\n",
       "#sk-container-id-1 div.sk-label input.sk-toggleable__control:checked~label.sk-toggleable__label {\n",
       "  color: var(--sklearn-color-text);\n",
       "  background-color: var(--sklearn-color-unfitted-level-2);\n",
       "}\n",
       "\n",
       "#sk-container-id-1 div.sk-label.fitted input.sk-toggleable__control:checked~label.sk-toggleable__label {\n",
       "  background-color: var(--sklearn-color-fitted-level-2);\n",
       "}\n",
       "\n",
       "/* Estimator-specific style */\n",
       "\n",
       "/* Colorize estimator box */\n",
       "#sk-container-id-1 div.sk-estimator input.sk-toggleable__control:checked~label.sk-toggleable__label {\n",
       "  /* unfitted */\n",
       "  background-color: var(--sklearn-color-unfitted-level-2);\n",
       "}\n",
       "\n",
       "#sk-container-id-1 div.sk-estimator.fitted input.sk-toggleable__control:checked~label.sk-toggleable__label {\n",
       "  /* fitted */\n",
       "  background-color: var(--sklearn-color-fitted-level-2);\n",
       "}\n",
       "\n",
       "#sk-container-id-1 div.sk-label label.sk-toggleable__label,\n",
       "#sk-container-id-1 div.sk-label label {\n",
       "  /* The background is the default theme color */\n",
       "  color: var(--sklearn-color-text-on-default-background);\n",
       "}\n",
       "\n",
       "/* On hover, darken the color of the background */\n",
       "#sk-container-id-1 div.sk-label:hover label.sk-toggleable__label {\n",
       "  color: var(--sklearn-color-text);\n",
       "  background-color: var(--sklearn-color-unfitted-level-2);\n",
       "}\n",
       "\n",
       "/* Label box, darken color on hover, fitted */\n",
       "#sk-container-id-1 div.sk-label.fitted:hover label.sk-toggleable__label.fitted {\n",
       "  color: var(--sklearn-color-text);\n",
       "  background-color: var(--sklearn-color-fitted-level-2);\n",
       "}\n",
       "\n",
       "/* Estimator label */\n",
       "\n",
       "#sk-container-id-1 div.sk-label label {\n",
       "  font-family: monospace;\n",
       "  font-weight: bold;\n",
       "  display: inline-block;\n",
       "  line-height: 1.2em;\n",
       "}\n",
       "\n",
       "#sk-container-id-1 div.sk-label-container {\n",
       "  text-align: center;\n",
       "}\n",
       "\n",
       "/* Estimator-specific */\n",
       "#sk-container-id-1 div.sk-estimator {\n",
       "  font-family: monospace;\n",
       "  border: 1px dotted var(--sklearn-color-border-box);\n",
       "  border-radius: 0.25em;\n",
       "  box-sizing: border-box;\n",
       "  margin-bottom: 0.5em;\n",
       "  /* unfitted */\n",
       "  background-color: var(--sklearn-color-unfitted-level-0);\n",
       "}\n",
       "\n",
       "#sk-container-id-1 div.sk-estimator.fitted {\n",
       "  /* fitted */\n",
       "  background-color: var(--sklearn-color-fitted-level-0);\n",
       "}\n",
       "\n",
       "/* on hover */\n",
       "#sk-container-id-1 div.sk-estimator:hover {\n",
       "  /* unfitted */\n",
       "  background-color: var(--sklearn-color-unfitted-level-2);\n",
       "}\n",
       "\n",
       "#sk-container-id-1 div.sk-estimator.fitted:hover {\n",
       "  /* fitted */\n",
       "  background-color: var(--sklearn-color-fitted-level-2);\n",
       "}\n",
       "\n",
       "/* Specification for estimator info (e.g. \"i\" and \"?\") */\n",
       "\n",
       "/* Common style for \"i\" and \"?\" */\n",
       "\n",
       ".sk-estimator-doc-link,\n",
       "a:link.sk-estimator-doc-link,\n",
       "a:visited.sk-estimator-doc-link {\n",
       "  float: right;\n",
       "  font-size: smaller;\n",
       "  line-height: 1em;\n",
       "  font-family: monospace;\n",
       "  background-color: var(--sklearn-color-background);\n",
       "  border-radius: 1em;\n",
       "  height: 1em;\n",
       "  width: 1em;\n",
       "  text-decoration: none !important;\n",
       "  margin-left: 1ex;\n",
       "  /* unfitted */\n",
       "  border: var(--sklearn-color-unfitted-level-1) 1pt solid;\n",
       "  color: var(--sklearn-color-unfitted-level-1);\n",
       "}\n",
       "\n",
       ".sk-estimator-doc-link.fitted,\n",
       "a:link.sk-estimator-doc-link.fitted,\n",
       "a:visited.sk-estimator-doc-link.fitted {\n",
       "  /* fitted */\n",
       "  border: var(--sklearn-color-fitted-level-1) 1pt solid;\n",
       "  color: var(--sklearn-color-fitted-level-1);\n",
       "}\n",
       "\n",
       "/* On hover */\n",
       "div.sk-estimator:hover .sk-estimator-doc-link:hover,\n",
       ".sk-estimator-doc-link:hover,\n",
       "div.sk-label-container:hover .sk-estimator-doc-link:hover,\n",
       ".sk-estimator-doc-link:hover {\n",
       "  /* unfitted */\n",
       "  background-color: var(--sklearn-color-unfitted-level-3);\n",
       "  color: var(--sklearn-color-background);\n",
       "  text-decoration: none;\n",
       "}\n",
       "\n",
       "div.sk-estimator.fitted:hover .sk-estimator-doc-link.fitted:hover,\n",
       ".sk-estimator-doc-link.fitted:hover,\n",
       "div.sk-label-container:hover .sk-estimator-doc-link.fitted:hover,\n",
       ".sk-estimator-doc-link.fitted:hover {\n",
       "  /* fitted */\n",
       "  background-color: var(--sklearn-color-fitted-level-3);\n",
       "  color: var(--sklearn-color-background);\n",
       "  text-decoration: none;\n",
       "}\n",
       "\n",
       "/* Span, style for the box shown on hovering the info icon */\n",
       ".sk-estimator-doc-link span {\n",
       "  display: none;\n",
       "  z-index: 9999;\n",
       "  position: relative;\n",
       "  font-weight: normal;\n",
       "  right: .2ex;\n",
       "  padding: .5ex;\n",
       "  margin: .5ex;\n",
       "  width: min-content;\n",
       "  min-width: 20ex;\n",
       "  max-width: 50ex;\n",
       "  color: var(--sklearn-color-text);\n",
       "  box-shadow: 2pt 2pt 4pt #999;\n",
       "  /* unfitted */\n",
       "  background: var(--sklearn-color-unfitted-level-0);\n",
       "  border: .5pt solid var(--sklearn-color-unfitted-level-3);\n",
       "}\n",
       "\n",
       ".sk-estimator-doc-link.fitted span {\n",
       "  /* fitted */\n",
       "  background: var(--sklearn-color-fitted-level-0);\n",
       "  border: var(--sklearn-color-fitted-level-3);\n",
       "}\n",
       "\n",
       ".sk-estimator-doc-link:hover span {\n",
       "  display: block;\n",
       "}\n",
       "\n",
       "/* \"?\"-specific style due to the `<a>` HTML tag */\n",
       "\n",
       "#sk-container-id-1 a.estimator_doc_link {\n",
       "  float: right;\n",
       "  font-size: 1rem;\n",
       "  line-height: 1em;\n",
       "  font-family: monospace;\n",
       "  background-color: var(--sklearn-color-background);\n",
       "  border-radius: 1rem;\n",
       "  height: 1rem;\n",
       "  width: 1rem;\n",
       "  text-decoration: none;\n",
       "  /* unfitted */\n",
       "  color: var(--sklearn-color-unfitted-level-1);\n",
       "  border: var(--sklearn-color-unfitted-level-1) 1pt solid;\n",
       "}\n",
       "\n",
       "#sk-container-id-1 a.estimator_doc_link.fitted {\n",
       "  /* fitted */\n",
       "  border: var(--sklearn-color-fitted-level-1) 1pt solid;\n",
       "  color: var(--sklearn-color-fitted-level-1);\n",
       "}\n",
       "\n",
       "/* On hover */\n",
       "#sk-container-id-1 a.estimator_doc_link:hover {\n",
       "  /* unfitted */\n",
       "  background-color: var(--sklearn-color-unfitted-level-3);\n",
       "  color: var(--sklearn-color-background);\n",
       "  text-decoration: none;\n",
       "}\n",
       "\n",
       "#sk-container-id-1 a.estimator_doc_link.fitted:hover {\n",
       "  /* fitted */\n",
       "  background-color: var(--sklearn-color-fitted-level-3);\n",
       "}\n",
       "</style><div id=\"sk-container-id-1\" class=\"sk-top-container\"><div class=\"sk-text-repr-fallback\"><pre>XGBClassifier(base_score=None, booster=None, callbacks=None,\n",
       "              colsample_bylevel=None, colsample_bynode=None,\n",
       "              colsample_bytree=0.8, device=None, early_stopping_rounds=None,\n",
       "              enable_categorical=False, eta=0.1, eval_metric=&#x27;error&#x27;,\n",
       "              feature_types=None, gamma=None, grow_policy=None,\n",
       "              importance_type=None, interaction_constraints=None,\n",
       "              learning_rate=None, max_bin=None, max_cat_threshold=None,\n",
       "              max_cat_to_onehot=None, max_delta_step=None, max_depth=8,\n",
       "              max_leaves=None, min_child_weight=None, missing=nan,\n",
       "              monotone_constraints=None, multi_strategy=None, n_estimators=256,\n",
       "              n_jobs=None, num_parallel_tree=None, ...)</pre><b>In a Jupyter environment, please rerun this cell to show the HTML representation or trust the notebook. <br />On GitHub, the HTML representation is unable to render, please try loading this page with nbviewer.org.</b></div><div class=\"sk-container\" hidden><div class=\"sk-item\"><div class=\"sk-estimator fitted sk-toggleable\"><input class=\"sk-toggleable__control sk-hidden--visually\" id=\"sk-estimator-id-1\" type=\"checkbox\" checked><label for=\"sk-estimator-id-1\" class=\"sk-toggleable__label fitted sk-toggleable__label-arrow fitted\">&nbsp;XGBClassifier<span class=\"sk-estimator-doc-link fitted\">i<span>Fitted</span></span></label><div class=\"sk-toggleable__content fitted\"><pre>XGBClassifier(base_score=None, booster=None, callbacks=None,\n",
       "              colsample_bylevel=None, colsample_bynode=None,\n",
       "              colsample_bytree=0.8, device=None, early_stopping_rounds=None,\n",
       "              enable_categorical=False, eta=0.1, eval_metric=&#x27;error&#x27;,\n",
       "              feature_types=None, gamma=None, grow_policy=None,\n",
       "              importance_type=None, interaction_constraints=None,\n",
       "              learning_rate=None, max_bin=None, max_cat_threshold=None,\n",
       "              max_cat_to_onehot=None, max_delta_step=None, max_depth=8,\n",
       "              max_leaves=None, min_child_weight=None, missing=nan,\n",
       "              monotone_constraints=None, multi_strategy=None, n_estimators=256,\n",
       "              n_jobs=None, num_parallel_tree=None, ...)</pre></div> </div></div></div></div>"
      ]
     },
     "execution_count": 17,
     "metadata": {},
     "output_type": "execute_result"
    }
   ],
   "execution_count": 17
  },
  {
   "metadata": {},
   "cell_type": "markdown",
   "source": "## Evaluate Model"
  },
  {
   "metadata": {},
   "cell_type": "markdown",
   "source": "### Predict on Eval Data"
  },
  {
   "cell_type": "code",
   "metadata": {
    "ExecuteTime": {
     "end_time": "2024-12-30T18:12:29.414982Z",
     "start_time": "2024-12-30T18:12:28.880638Z"
    }
   },
   "source": [
    "eval_predicted = model.predict(eval_features)\n",
    "eval_probabilities = model.predict_proba(eval_features)\n",
    "eval_probabilities = eval_probabilities[:, 1]"
   ],
   "outputs": [],
   "execution_count": 18
  },
  {
   "metadata": {},
   "cell_type": "markdown",
   "source": "### Compute Evaluation Metrics"
  },
  {
   "metadata": {
    "ExecuteTime": {
     "end_time": "2024-12-30T18:12:31.630083Z",
     "start_time": "2024-12-30T18:12:29.424064Z"
    }
   },
   "cell_type": "code",
   "source": [
    "accuracy, precision, recall, f1, auc_roc, confusion_matrix = evaluate_numpy(eval_predicted,\n",
    "                                                                            eval_probabilities,\n",
    "                                                                            eval_labels)"
   ],
   "outputs": [],
   "execution_count": 19
  },
  {
   "metadata": {},
   "cell_type": "markdown",
   "source": "### Print Evaluation Metrics"
  },
  {
   "metadata": {
    "ExecuteTime": {
     "end_time": "2024-12-30T18:12:31.639175Z",
     "start_time": "2024-12-30T18:12:31.635891Z"
    }
   },
   "cell_type": "code",
   "source": [
    "print(f'Accuracy: {accuracy:.4f}')\n",
    "print(f'Precision: {precision:.4f}')\n",
    "print(f'Recall: {recall:.4f}')\n",
    "print(f'F1: {f1:.4f}')\n",
    "print(f'AUC-ROC: {auc_roc:.4f}')"
   ],
   "outputs": [
    {
     "name": "stdout",
     "output_type": "stream",
     "text": [
      "Accuracy: 0.8036\n",
      "Precision: 0.7296\n",
      "Recall: 0.9223\n",
      "F1: 0.8147\n",
      "AUC-ROC: 0.8716\n"
     ]
    }
   ],
   "execution_count": 20
  },
  {
   "metadata": {},
   "cell_type": "markdown",
   "source": "## Plot Evaluation Metrics"
  },
  {
   "metadata": {},
   "cell_type": "markdown",
   "source": "### Plot Confusion Matrix"
  },
  {
   "cell_type": "code",
   "metadata": {
    "ExecuteTime": {
     "end_time": "2024-12-30T18:12:31.717092Z",
     "start_time": "2024-12-30T18:12:31.646030Z"
    }
   },
   "source": [
    "plot_confusion_matrix(confusion_matrix, ['Healthy', 'Infected'])"
   ],
   "outputs": [
    {
     "data": {
      "text/plain": [
       "<Figure size 600x600 with 1 Axes>"
      ],
      "image/png": "[encoded data removed]"
     },
     "metadata": {},
     "output_type": "display_data"
    }
   ],
   "execution_count": 21
  },
  {
   "metadata": {},
   "cell_type": "markdown",
   "source": "### Plot ROC"
  },
  {
   "cell_type": "code",
   "metadata": {
    "ExecuteTime": {
     "end_time": "2024-12-30T18:12:32.481815Z",
     "start_time": "2024-12-30T18:12:31.724202Z"
    }
   },
   "source": "plot_roc(eval_probabilities, eval_labels)",
   "outputs": [
    {
     "data": {
      "text/plain": [
       "<Figure size 600x600 with 1 Axes>"
      ],
      "image/png": "[encoded data removed]"
     },
     "metadata": {},
     "output_type": "display_data"
    }
   ],
   "execution_count": 22
  },
  {
   "metadata": {},
   "cell_type": "markdown",
   "source": "## Save Model"
  },
  {
   "metadata": {
    "ExecuteTime": {
     "end_time": "2024-12-30T18:12:32.561757Z",
     "start_time": "2024-12-30T18:12:32.488421Z"
    }
   },
   "cell_type": "code",
   "source": "model.save_model(\"../../models/xgb_model.json\")",
   "outputs": [],
   "execution_count": 23
  },
  {
   "metadata": {},
   "cell_type": "markdown",
   "source": "## Predict on Test Data"
  },
  {
   "metadata": {
    "ExecuteTime": {
     "end_time": "2024-12-30T18:12:33.765034Z",
     "start_time": "2024-12-30T18:12:32.570283Z"
    }
   },
   "cell_type": "code",
   "source": [
    "test_probabilities = model.predict_proba(test_features)\n",
    "test_probabilities = test_probabilities[:, 1]"
   ],
   "outputs": [],
   "execution_count": 24
  },
  {
   "metadata": {},
   "cell_type": "markdown",
   "source": "## Save Predictions"
  },
  {
   "metadata": {
    "ExecuteTime": {
     "end_time": "2024-12-30T18:12:34.707400Z",
     "start_time": "2024-12-30T18:12:33.775566Z"
    }
   },
   "cell_type": "code",
   "source": "test_data.save_predicted_probabilities(\"../../data/out/xgb_predictions.csv\", test_probabilities)",
   "outputs": [],
   "execution_count": 25
  }
 ],
 "metadata": {
  "kernelspec": {
   "display_name": "Python 3",
   "language": "python",
   "name": "python3"
  },
  "language_info": {
   "codemirror_mode": {
    "name": "ipython",
    "version": 3
   },
   "file_extension": ".py",
   "mimetype": "text/x-python",
   "name": "python",
   "nbconvert_exporter": "python",
   "pygments_lexer": "ipython3",
   "version": "3.11.1"
  }
 },
 "nbformat": 4,
 "nbformat_minor": 2
}
