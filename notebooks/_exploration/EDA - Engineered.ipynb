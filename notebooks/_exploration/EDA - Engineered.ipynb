{
 "cells": [
  {
   "cell_type": "code",
   "id": "initial_id",
   "metadata": {
    "collapsed": true
   },
   "source": "from utils_data import PopulationData",
   "outputs": [],
   "execution_count": null
  },
  {
   "metadata": {},
   "cell_type": "code",
   "source": [
    "data = PopulationData().load_raw('../../data/raw/train.csv')\n",
    "data.encode_normalized_age()\n",
    "data.encode_normalized_constitution()\n",
    "data.encode_normalized_behavior()\n",
    "data.encode_standardized_age()\n",
    "data.encode_standardized_constitution()\n",
    "data.encode_standardized_behavior()\n",
    "data.encode_connection_lists()\n",
    "data.encode_graph_nx()\n",
    "data.encode_degree()\n",
    "data.encode_degree_centrality()\n",
    "data.encode_clustering_coefficient()\n",
    "data.encode_normalized_degree()\n",
    "data.encode_normalized_degree_centrality()\n",
    "data.encode_normalized_clustering_coefficient()\n",
    "data.encode_standardized_degree()\n",
    "data.encode_standardized_degree_centrality()\n",
    "data.encode_standardized_clustering_coefficient()\n",
    "data.encode_connected_index_patient()\n",
    "data.encode_distance_to_index_patient()\n",
    "data.encode_normalized_distance_to_index_patient()\n",
    "data.encode_standardized_distance_to_index_patient()\n",
    "data.encode_sum_neighbor_age()\n",
    "data.encode_sum_neighbor_constitution()\n",
    "data.encode_sum_neighbor_behavior()\n",
    "data.encode_sum_neighbor_degree()\n",
    "data.encode_sum_neighbor_degree_centrality()\n",
    "data.encode_sum_neighbor_clustering_coefficient()\n",
    "data.encode_normalized_sum_neighbor_age()\n",
    "data.encode_normalized_sum_neighbor_constitution()\n",
    "data.encode_normalized_sum_neighbor_behavior()\n",
    "data.encode_normalized_sum_neighbor_degree()\n",
    "data.encode_normalized_sum_neighbor_degree_centrality()\n",
    "data.encode_normalized_sum_neighbor_clustering_coefficient()\n",
    "data.encode_standardized_sum_neighbor_age()\n",
    "data.encode_standardized_sum_neighbor_constitution()\n",
    "data.encode_standardized_sum_neighbor_behavior()\n",
    "data.encode_standardized_sum_neighbor_degree()\n",
    "data.encode_standardized_sum_neighbor_degree_centrality()\n",
    "data.encode_standardized_sum_neighbor_clustering_coefficient()\n",
    "data.encode_mean_neighbor_age()\n",
    "data.encode_mean_neighbor_constitution()\n",
    "data.encode_mean_neighbor_behavior()\n",
    "data.encode_mean_neighbor_degree()\n",
    "data.encode_mean_neighbor_degree_centrality()\n",
    "data.encode_mean_neighbor_clustering_coefficient()\n",
    "data.encode_normalized_mean_neighbor_age()\n",
    "data.encode_normalized_mean_neighbor_constitution()\n",
    "data.encode_normalized_mean_neighbor_behavior()\n",
    "data.encode_normalized_mean_neighbor_degree()\n",
    "data.encode_normalized_mean_neighbor_degree_centrality()\n",
    "data.encode_normalized_mean_neighbor_clustering_coefficient()\n",
    "data.encode_standardized_mean_neighbor_age()\n",
    "data.encode_standardized_mean_neighbor_constitution()\n",
    "data.encode_standardized_mean_neighbor_behavior()\n",
    "data.encode_standardized_mean_neighbor_degree()\n",
    "data.encode_standardized_mean_neighbor_degree_centrality()\n",
    "data.encode_standardized_mean_neighbor_clustering_coefficient()\n",
    "data.encode_test_train()\n",
    "data.data_df"
   ],
   "id": "e4d38852f6607bbc",
   "outputs": [],
   "execution_count": null
  }
 ],
 "metadata": {
  "kernelspec": {
   "display_name": "Python 3",
   "language": "python",
   "name": "python3"
  },
  "language_info": {
   "codemirror_mode": {
    "name": "ipython",
    "version": 2
   },
   "file_extension": ".py",
   "mimetype": "text/x-python",
   "name": "python",
   "nbconvert_exporter": "python",
   "pygments_lexer": "ipython2",
   "version": "2.7.6"
  }
 },
 "nbformat": 4,
 "nbformat_minor": 5
}
