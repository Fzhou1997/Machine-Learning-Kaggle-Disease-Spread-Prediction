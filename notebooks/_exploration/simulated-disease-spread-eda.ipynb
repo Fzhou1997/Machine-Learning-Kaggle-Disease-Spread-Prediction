{
 "cells": [
  {
   "cell_type": "markdown",
   "id": "333761ac",
   "metadata": {
    "papermill": {
     "duration": 0.006776,
     "end_time": "2023-10-10T22:39:51.364815",
     "exception": false,
     "start_time": "2023-10-10T22:39:51.358039",
     "status": "completed"
    },
    "tags": []
   },
   "source": [
    "# Simulated disease spread"
   ]
  },
  {
   "cell_type": "markdown",
   "id": "f9aeefe9",
   "metadata": {
    "papermill": {
     "duration": 0.005303,
     "end_time": "2023-10-10T22:39:51.375813",
     "exception": false,
     "start_time": "2023-10-10T22:39:51.370510",
     "status": "completed"
    },
    "tags": []
   },
   "source": [
    "In this simulated problem we will be faced with simulation of infection spread, where in every stage of simulation more people are added to dataset and they are connected two some of people that was already in population. Our task is to predict if the people are infected during this simulation or not."
   ]
  },
  {
   "cell_type": "code",
   "id": "31ca1eef",
   "metadata": {
    "_cell_guid": "b1076dfc-b9ad-4769-8c92-a6c4dae69d19",
    "_uuid": "8f2839f25d086af736a60e9eeb907d3b93b6e0e5",
    "execution": {
     "iopub.execute_input": "2023-10-10T22:39:51.389008Z",
     "iopub.status.busy": "2023-10-10T22:39:51.388580Z",
     "iopub.status.idle": "2023-10-10T22:39:53.532543Z",
     "shell.execute_reply": "2023-10-10T22:39:53.531197Z"
    },
    "papermill": {
     "duration": 2.154096,
     "end_time": "2023-10-10T22:39:53.535367",
     "exception": false,
     "start_time": "2023-10-10T22:39:51.381271",
     "status": "completed"
    },
    "tags": [],
    "ExecuteTime": {
     "end_time": "2024-08-01T20:21:33.803803Z",
     "start_time": "2024-08-01T20:21:33.801592Z"
    }
   },
   "source": [
    "import pandas as pd\n",
    "import numpy as np\n",
    "import matplotlib.pyplot as plt\n",
    "import seaborn as sns"
   ],
   "outputs": [],
   "execution_count": 1
  },
  {
   "cell_type": "code",
   "id": "f54090b2",
   "metadata": {
    "execution": {
     "iopub.execute_input": "2023-10-10T22:39:53.548734Z",
     "iopub.status.busy": "2023-10-10T22:39:53.548122Z",
     "iopub.status.idle": "2023-10-10T22:39:56.036872Z",
     "shell.execute_reply": "2023-10-10T22:39:56.035807Z"
    },
    "papermill": {
     "duration": 2.499112,
     "end_time": "2023-10-10T22:39:56.040064",
     "exception": false,
     "start_time": "2023-10-10T22:39:53.540952",
     "status": "completed"
    },
    "tags": [],
    "ExecuteTime": {
     "end_time": "2024-08-01T20:21:34.363639Z",
     "start_time": "2024-08-01T20:21:33.803803Z"
    }
   },
   "source": [
    "df=pd.read_csv('/kaggle/input/predict-simulated-disease-spread-classification/train.csv', index_col='id')\n",
    "df"
   ],
   "outputs": [
    {
     "ename": "FileNotFoundError",
     "evalue": "[Errno 2] No such file or directory: '/kaggle/input/predict-simulated-disease-spread-classification/train.csv'",
     "output_type": "error",
     "traceback": [
      "\u001B[1;31m---------------------------------------------------------------------------\u001B[0m",
      "\u001B[1;31mFileNotFoundError\u001B[0m                         Traceback (most recent call last)",
      "Cell \u001B[1;32mIn[2], line 1\u001B[0m\n\u001B[1;32m----> 1\u001B[0m df\u001B[38;5;241m=\u001B[39m\u001B[43mpd\u001B[49m\u001B[38;5;241;43m.\u001B[39;49m\u001B[43mread_csv\u001B[49m\u001B[43m(\u001B[49m\u001B[38;5;124;43m'\u001B[39;49m\u001B[38;5;124;43m/kaggle/input/predict-simulated-disease-spread-classification/train.csv\u001B[39;49m\u001B[38;5;124;43m'\u001B[39;49m\u001B[43m,\u001B[49m\u001B[43m \u001B[49m\u001B[43mindex_col\u001B[49m\u001B[38;5;241;43m=\u001B[39;49m\u001B[38;5;124;43m'\u001B[39;49m\u001B[38;5;124;43mid\u001B[39;49m\u001B[38;5;124;43m'\u001B[39;49m\u001B[43m)\u001B[49m\n\u001B[0;32m      2\u001B[0m df\n",
      "File \u001B[1;32m~\\AppData\\Local\\Programs\\Python\\Python311\\Lib\\site-packages\\pandas\\io\\parsers\\readers.py:1026\u001B[0m, in \u001B[0;36mread_csv\u001B[1;34m(filepath_or_buffer, sep, delimiter, header, names, index_col, usecols, dtype, engine, converters, true_values, false_values, skipinitialspace, skiprows, skipfooter, nrows, na_values, keep_default_na, na_filter, verbose, skip_blank_lines, parse_dates, infer_datetime_format, keep_date_col, date_parser, date_format, dayfirst, cache_dates, iterator, chunksize, compression, thousands, decimal, lineterminator, quotechar, quoting, doublequote, escapechar, comment, encoding, encoding_errors, dialect, on_bad_lines, delim_whitespace, low_memory, memory_map, float_precision, storage_options, dtype_backend)\u001B[0m\n\u001B[0;32m   1013\u001B[0m kwds_defaults \u001B[38;5;241m=\u001B[39m _refine_defaults_read(\n\u001B[0;32m   1014\u001B[0m     dialect,\n\u001B[0;32m   1015\u001B[0m     delimiter,\n\u001B[1;32m   (...)\u001B[0m\n\u001B[0;32m   1022\u001B[0m     dtype_backend\u001B[38;5;241m=\u001B[39mdtype_backend,\n\u001B[0;32m   1023\u001B[0m )\n\u001B[0;32m   1024\u001B[0m kwds\u001B[38;5;241m.\u001B[39mupdate(kwds_defaults)\n\u001B[1;32m-> 1026\u001B[0m \u001B[38;5;28;01mreturn\u001B[39;00m \u001B[43m_read\u001B[49m\u001B[43m(\u001B[49m\u001B[43mfilepath_or_buffer\u001B[49m\u001B[43m,\u001B[49m\u001B[43m \u001B[49m\u001B[43mkwds\u001B[49m\u001B[43m)\u001B[49m\n",
      "File \u001B[1;32m~\\AppData\\Local\\Programs\\Python\\Python311\\Lib\\site-packages\\pandas\\io\\parsers\\readers.py:620\u001B[0m, in \u001B[0;36m_read\u001B[1;34m(filepath_or_buffer, kwds)\u001B[0m\n\u001B[0;32m    617\u001B[0m _validate_names(kwds\u001B[38;5;241m.\u001B[39mget(\u001B[38;5;124m\"\u001B[39m\u001B[38;5;124mnames\u001B[39m\u001B[38;5;124m\"\u001B[39m, \u001B[38;5;28;01mNone\u001B[39;00m))\n\u001B[0;32m    619\u001B[0m \u001B[38;5;66;03m# Create the parser.\u001B[39;00m\n\u001B[1;32m--> 620\u001B[0m parser \u001B[38;5;241m=\u001B[39m \u001B[43mTextFileReader\u001B[49m\u001B[43m(\u001B[49m\u001B[43mfilepath_or_buffer\u001B[49m\u001B[43m,\u001B[49m\u001B[43m \u001B[49m\u001B[38;5;241;43m*\u001B[39;49m\u001B[38;5;241;43m*\u001B[39;49m\u001B[43mkwds\u001B[49m\u001B[43m)\u001B[49m\n\u001B[0;32m    622\u001B[0m \u001B[38;5;28;01mif\u001B[39;00m chunksize \u001B[38;5;129;01mor\u001B[39;00m iterator:\n\u001B[0;32m    623\u001B[0m     \u001B[38;5;28;01mreturn\u001B[39;00m parser\n",
      "File \u001B[1;32m~\\AppData\\Local\\Programs\\Python\\Python311\\Lib\\site-packages\\pandas\\io\\parsers\\readers.py:1620\u001B[0m, in \u001B[0;36mTextFileReader.__init__\u001B[1;34m(self, f, engine, **kwds)\u001B[0m\n\u001B[0;32m   1617\u001B[0m     \u001B[38;5;28mself\u001B[39m\u001B[38;5;241m.\u001B[39moptions[\u001B[38;5;124m\"\u001B[39m\u001B[38;5;124mhas_index_names\u001B[39m\u001B[38;5;124m\"\u001B[39m] \u001B[38;5;241m=\u001B[39m kwds[\u001B[38;5;124m\"\u001B[39m\u001B[38;5;124mhas_index_names\u001B[39m\u001B[38;5;124m\"\u001B[39m]\n\u001B[0;32m   1619\u001B[0m \u001B[38;5;28mself\u001B[39m\u001B[38;5;241m.\u001B[39mhandles: IOHandles \u001B[38;5;241m|\u001B[39m \u001B[38;5;28;01mNone\u001B[39;00m \u001B[38;5;241m=\u001B[39m \u001B[38;5;28;01mNone\u001B[39;00m\n\u001B[1;32m-> 1620\u001B[0m \u001B[38;5;28mself\u001B[39m\u001B[38;5;241m.\u001B[39m_engine \u001B[38;5;241m=\u001B[39m \u001B[38;5;28;43mself\u001B[39;49m\u001B[38;5;241;43m.\u001B[39;49m\u001B[43m_make_engine\u001B[49m\u001B[43m(\u001B[49m\u001B[43mf\u001B[49m\u001B[43m,\u001B[49m\u001B[43m \u001B[49m\u001B[38;5;28;43mself\u001B[39;49m\u001B[38;5;241;43m.\u001B[39;49m\u001B[43mengine\u001B[49m\u001B[43m)\u001B[49m\n",
      "File \u001B[1;32m~\\AppData\\Local\\Programs\\Python\\Python311\\Lib\\site-packages\\pandas\\io\\parsers\\readers.py:1880\u001B[0m, in \u001B[0;36mTextFileReader._make_engine\u001B[1;34m(self, f, engine)\u001B[0m\n\u001B[0;32m   1878\u001B[0m     \u001B[38;5;28;01mif\u001B[39;00m \u001B[38;5;124m\"\u001B[39m\u001B[38;5;124mb\u001B[39m\u001B[38;5;124m\"\u001B[39m \u001B[38;5;129;01mnot\u001B[39;00m \u001B[38;5;129;01min\u001B[39;00m mode:\n\u001B[0;32m   1879\u001B[0m         mode \u001B[38;5;241m+\u001B[39m\u001B[38;5;241m=\u001B[39m \u001B[38;5;124m\"\u001B[39m\u001B[38;5;124mb\u001B[39m\u001B[38;5;124m\"\u001B[39m\n\u001B[1;32m-> 1880\u001B[0m \u001B[38;5;28mself\u001B[39m\u001B[38;5;241m.\u001B[39mhandles \u001B[38;5;241m=\u001B[39m \u001B[43mget_handle\u001B[49m\u001B[43m(\u001B[49m\n\u001B[0;32m   1881\u001B[0m \u001B[43m    \u001B[49m\u001B[43mf\u001B[49m\u001B[43m,\u001B[49m\n\u001B[0;32m   1882\u001B[0m \u001B[43m    \u001B[49m\u001B[43mmode\u001B[49m\u001B[43m,\u001B[49m\n\u001B[0;32m   1883\u001B[0m \u001B[43m    \u001B[49m\u001B[43mencoding\u001B[49m\u001B[38;5;241;43m=\u001B[39;49m\u001B[38;5;28;43mself\u001B[39;49m\u001B[38;5;241;43m.\u001B[39;49m\u001B[43moptions\u001B[49m\u001B[38;5;241;43m.\u001B[39;49m\u001B[43mget\u001B[49m\u001B[43m(\u001B[49m\u001B[38;5;124;43m\"\u001B[39;49m\u001B[38;5;124;43mencoding\u001B[39;49m\u001B[38;5;124;43m\"\u001B[39;49m\u001B[43m,\u001B[49m\u001B[43m \u001B[49m\u001B[38;5;28;43;01mNone\u001B[39;49;00m\u001B[43m)\u001B[49m\u001B[43m,\u001B[49m\n\u001B[0;32m   1884\u001B[0m \u001B[43m    \u001B[49m\u001B[43mcompression\u001B[49m\u001B[38;5;241;43m=\u001B[39;49m\u001B[38;5;28;43mself\u001B[39;49m\u001B[38;5;241;43m.\u001B[39;49m\u001B[43moptions\u001B[49m\u001B[38;5;241;43m.\u001B[39;49m\u001B[43mget\u001B[49m\u001B[43m(\u001B[49m\u001B[38;5;124;43m\"\u001B[39;49m\u001B[38;5;124;43mcompression\u001B[39;49m\u001B[38;5;124;43m\"\u001B[39;49m\u001B[43m,\u001B[49m\u001B[43m \u001B[49m\u001B[38;5;28;43;01mNone\u001B[39;49;00m\u001B[43m)\u001B[49m\u001B[43m,\u001B[49m\n\u001B[0;32m   1885\u001B[0m \u001B[43m    \u001B[49m\u001B[43mmemory_map\u001B[49m\u001B[38;5;241;43m=\u001B[39;49m\u001B[38;5;28;43mself\u001B[39;49m\u001B[38;5;241;43m.\u001B[39;49m\u001B[43moptions\u001B[49m\u001B[38;5;241;43m.\u001B[39;49m\u001B[43mget\u001B[49m\u001B[43m(\u001B[49m\u001B[38;5;124;43m\"\u001B[39;49m\u001B[38;5;124;43mmemory_map\u001B[39;49m\u001B[38;5;124;43m\"\u001B[39;49m\u001B[43m,\u001B[49m\u001B[43m \u001B[49m\u001B[38;5;28;43;01mFalse\u001B[39;49;00m\u001B[43m)\u001B[49m\u001B[43m,\u001B[49m\n\u001B[0;32m   1886\u001B[0m \u001B[43m    \u001B[49m\u001B[43mis_text\u001B[49m\u001B[38;5;241;43m=\u001B[39;49m\u001B[43mis_text\u001B[49m\u001B[43m,\u001B[49m\n\u001B[0;32m   1887\u001B[0m \u001B[43m    \u001B[49m\u001B[43merrors\u001B[49m\u001B[38;5;241;43m=\u001B[39;49m\u001B[38;5;28;43mself\u001B[39;49m\u001B[38;5;241;43m.\u001B[39;49m\u001B[43moptions\u001B[49m\u001B[38;5;241;43m.\u001B[39;49m\u001B[43mget\u001B[49m\u001B[43m(\u001B[49m\u001B[38;5;124;43m\"\u001B[39;49m\u001B[38;5;124;43mencoding_errors\u001B[39;49m\u001B[38;5;124;43m\"\u001B[39;49m\u001B[43m,\u001B[49m\u001B[43m \u001B[49m\u001B[38;5;124;43m\"\u001B[39;49m\u001B[38;5;124;43mstrict\u001B[39;49m\u001B[38;5;124;43m\"\u001B[39;49m\u001B[43m)\u001B[49m\u001B[43m,\u001B[49m\n\u001B[0;32m   1888\u001B[0m \u001B[43m    \u001B[49m\u001B[43mstorage_options\u001B[49m\u001B[38;5;241;43m=\u001B[39;49m\u001B[38;5;28;43mself\u001B[39;49m\u001B[38;5;241;43m.\u001B[39;49m\u001B[43moptions\u001B[49m\u001B[38;5;241;43m.\u001B[39;49m\u001B[43mget\u001B[49m\u001B[43m(\u001B[49m\u001B[38;5;124;43m\"\u001B[39;49m\u001B[38;5;124;43mstorage_options\u001B[39;49m\u001B[38;5;124;43m\"\u001B[39;49m\u001B[43m,\u001B[49m\u001B[43m \u001B[49m\u001B[38;5;28;43;01mNone\u001B[39;49;00m\u001B[43m)\u001B[49m\u001B[43m,\u001B[49m\n\u001B[0;32m   1889\u001B[0m \u001B[43m\u001B[49m\u001B[43m)\u001B[49m\n\u001B[0;32m   1890\u001B[0m \u001B[38;5;28;01massert\u001B[39;00m \u001B[38;5;28mself\u001B[39m\u001B[38;5;241m.\u001B[39mhandles \u001B[38;5;129;01mis\u001B[39;00m \u001B[38;5;129;01mnot\u001B[39;00m \u001B[38;5;28;01mNone\u001B[39;00m\n\u001B[0;32m   1891\u001B[0m f \u001B[38;5;241m=\u001B[39m \u001B[38;5;28mself\u001B[39m\u001B[38;5;241m.\u001B[39mhandles\u001B[38;5;241m.\u001B[39mhandle\n",
      "File \u001B[1;32m~\\AppData\\Local\\Programs\\Python\\Python311\\Lib\\site-packages\\pandas\\io\\common.py:873\u001B[0m, in \u001B[0;36mget_handle\u001B[1;34m(path_or_buf, mode, encoding, compression, memory_map, is_text, errors, storage_options)\u001B[0m\n\u001B[0;32m    868\u001B[0m \u001B[38;5;28;01melif\u001B[39;00m \u001B[38;5;28misinstance\u001B[39m(handle, \u001B[38;5;28mstr\u001B[39m):\n\u001B[0;32m    869\u001B[0m     \u001B[38;5;66;03m# Check whether the filename is to be opened in binary mode.\u001B[39;00m\n\u001B[0;32m    870\u001B[0m     \u001B[38;5;66;03m# Binary mode does not support 'encoding' and 'newline'.\u001B[39;00m\n\u001B[0;32m    871\u001B[0m     \u001B[38;5;28;01mif\u001B[39;00m ioargs\u001B[38;5;241m.\u001B[39mencoding \u001B[38;5;129;01mand\u001B[39;00m \u001B[38;5;124m\"\u001B[39m\u001B[38;5;124mb\u001B[39m\u001B[38;5;124m\"\u001B[39m \u001B[38;5;129;01mnot\u001B[39;00m \u001B[38;5;129;01min\u001B[39;00m ioargs\u001B[38;5;241m.\u001B[39mmode:\n\u001B[0;32m    872\u001B[0m         \u001B[38;5;66;03m# Encoding\u001B[39;00m\n\u001B[1;32m--> 873\u001B[0m         handle \u001B[38;5;241m=\u001B[39m \u001B[38;5;28;43mopen\u001B[39;49m\u001B[43m(\u001B[49m\n\u001B[0;32m    874\u001B[0m \u001B[43m            \u001B[49m\u001B[43mhandle\u001B[49m\u001B[43m,\u001B[49m\n\u001B[0;32m    875\u001B[0m \u001B[43m            \u001B[49m\u001B[43mioargs\u001B[49m\u001B[38;5;241;43m.\u001B[39;49m\u001B[43mmode\u001B[49m\u001B[43m,\u001B[49m\n\u001B[0;32m    876\u001B[0m \u001B[43m            \u001B[49m\u001B[43mencoding\u001B[49m\u001B[38;5;241;43m=\u001B[39;49m\u001B[43mioargs\u001B[49m\u001B[38;5;241;43m.\u001B[39;49m\u001B[43mencoding\u001B[49m\u001B[43m,\u001B[49m\n\u001B[0;32m    877\u001B[0m \u001B[43m            \u001B[49m\u001B[43merrors\u001B[49m\u001B[38;5;241;43m=\u001B[39;49m\u001B[43merrors\u001B[49m\u001B[43m,\u001B[49m\n\u001B[0;32m    878\u001B[0m \u001B[43m            \u001B[49m\u001B[43mnewline\u001B[49m\u001B[38;5;241;43m=\u001B[39;49m\u001B[38;5;124;43m\"\u001B[39;49m\u001B[38;5;124;43m\"\u001B[39;49m\u001B[43m,\u001B[49m\n\u001B[0;32m    879\u001B[0m \u001B[43m        \u001B[49m\u001B[43m)\u001B[49m\n\u001B[0;32m    880\u001B[0m     \u001B[38;5;28;01melse\u001B[39;00m:\n\u001B[0;32m    881\u001B[0m         \u001B[38;5;66;03m# Binary mode\u001B[39;00m\n\u001B[0;32m    882\u001B[0m         handle \u001B[38;5;241m=\u001B[39m \u001B[38;5;28mopen\u001B[39m(handle, ioargs\u001B[38;5;241m.\u001B[39mmode)\n",
      "\u001B[1;31mFileNotFoundError\u001B[0m: [Errno 2] No such file or directory: '/kaggle/input/predict-simulated-disease-spread-classification/train.csv'"
     ]
    }
   ],
   "execution_count": 2
  },
  {
   "cell_type": "code",
   "id": "97688f6f",
   "metadata": {
    "execution": {
     "iopub.execute_input": "2023-10-10T22:39:56.053654Z",
     "iopub.status.busy": "2023-10-10T22:39:56.053262Z",
     "iopub.status.idle": "2023-10-10T22:39:56.182738Z",
     "shell.execute_reply": "2023-10-10T22:39:56.181454Z"
    },
    "papermill": {
     "duration": 0.13913,
     "end_time": "2023-10-10T22:39:56.185019",
     "exception": false,
     "start_time": "2023-10-10T22:39:56.045889",
     "status": "completed"
    },
    "tags": [],
    "ExecuteTime": {
     "end_time": "2024-08-01T20:21:34.363639Z",
     "start_time": "2024-08-01T20:21:34.363639Z"
    }
   },
   "source": [
    "df.describe()"
   ],
   "outputs": [],
   "execution_count": null
  },
  {
   "cell_type": "markdown",
   "id": "9d8f46ce",
   "metadata": {
    "papermill": {
     "duration": 0.005806,
     "end_time": "2023-10-10T22:39:56.196995",
     "exception": false,
     "start_time": "2023-10-10T22:39:56.191189",
     "status": "completed"
    },
    "tags": []
   },
   "source": [
    "We can check some of basic descriptive statistics to get introduction to our data. Nothing unusual here."
   ]
  },
  {
   "cell_type": "code",
   "id": "6a11dd8d",
   "metadata": {
    "execution": {
     "iopub.execute_input": "2023-10-10T22:39:56.212191Z",
     "iopub.status.busy": "2023-10-10T22:39:56.211610Z",
     "iopub.status.idle": "2023-10-10T22:39:56.587248Z",
     "shell.execute_reply": "2023-10-10T22:39:56.585815Z"
    },
    "papermill": {
     "duration": 0.387135,
     "end_time": "2023-10-10T22:39:56.590152",
     "exception": false,
     "start_time": "2023-10-10T22:39:56.203017",
     "status": "completed"
    },
    "tags": []
   },
   "source": [
    "df.isna().sum().plot(kind='bar')\n",
    "plt.show()"
   ],
   "outputs": [],
   "execution_count": null
  },
  {
   "cell_type": "markdown",
   "id": "85525aa6",
   "metadata": {
    "papermill": {
     "duration": 0.006157,
     "end_time": "2023-10-10T22:39:56.602919",
     "exception": false,
     "start_time": "2023-10-10T22:39:56.596762",
     "status": "completed"
    },
    "tags": []
   },
   "source": [
    "Because this is simulation, no atributes should have missing values. All values are randomly given in this sample of people."
   ]
  },
  {
   "cell_type": "markdown",
   "id": "0795a9d5",
   "metadata": {
    "execution": {
     "iopub.execute_input": "2023-10-10T22:12:32.948099Z",
     "iopub.status.busy": "2023-10-10T22:12:32.947714Z",
     "iopub.status.idle": "2023-10-10T22:12:32.970603Z",
     "shell.execute_reply": "2023-10-10T22:12:32.969885Z",
     "shell.execute_reply.started": "2023-10-10T22:12:32.948068Z"
    },
    "papermill": {
     "duration": 0.006289,
     "end_time": "2023-10-10T22:39:56.615482",
     "exception": false,
     "start_time": "2023-10-10T22:39:56.609193",
     "status": "completed"
    },
    "tags": []
   },
   "source": "## Exploratory data analysis"
  },
  {
   "cell_type": "markdown",
   "id": "d14c5c57",
   "metadata": {
    "papermill": {
     "duration": 0.00697,
     "end_time": "2023-10-10T22:39:56.629964",
     "exception": false,
     "start_time": "2023-10-10T22:39:56.622994",
     "status": "completed"
    },
    "tags": []
   },
   "source": [
    "Let's plot some simple diagrams that shows basic stats in this problem."
   ]
  },
  {
   "cell_type": "code",
   "id": "9c71206a",
   "metadata": {
    "execution": {
     "iopub.execute_input": "2023-10-10T22:39:56.647592Z",
     "iopub.status.busy": "2023-10-10T22:39:56.646988Z",
     "iopub.status.idle": "2023-10-10T22:39:56.927091Z",
     "shell.execute_reply": "2023-10-10T22:39:56.925589Z"
    },
    "papermill": {
     "duration": 0.293053,
     "end_time": "2023-10-10T22:39:56.930069",
     "exception": false,
     "start_time": "2023-10-10T22:39:56.637016",
     "status": "completed"
    },
    "tags": []
   },
   "source": [
    "sns.countplot(x=df.Infected)\n",
    "plt.show()"
   ],
   "outputs": [],
   "execution_count": null
  },
  {
   "cell_type": "markdown",
   "id": "f7ba6b6c",
   "metadata": {
    "papermill": {
     "duration": 0.007159,
     "end_time": "2023-10-10T22:39:56.946798",
     "exception": false,
     "start_time": "2023-10-10T22:39:56.939639",
     "status": "completed"
    },
    "tags": []
   },
   "source": [
    "We can see that variable `Infected` is our output variable and that distribution of groups are very simular, there are little bit more people that are not infected, but difference is not that big."
   ]
  },
  {
   "cell_type": "code",
   "id": "cd029d3b",
   "metadata": {
    "execution": {
     "iopub.execute_input": "2023-10-10T22:39:56.965964Z",
     "iopub.status.busy": "2023-10-10T22:39:56.964069Z",
     "iopub.status.idle": "2023-10-10T22:40:09.588024Z",
     "shell.execute_reply": "2023-10-10T22:40:09.586533Z"
    },
    "papermill": {
     "duration": 12.636461,
     "end_time": "2023-10-10T22:40:09.590332",
     "exception": false,
     "start_time": "2023-10-10T22:39:56.953871",
     "status": "completed"
    },
    "tags": []
   },
   "source": [
    "df.Constitution.plot(kind='kde')\n",
    "plt.show()"
   ],
   "outputs": [],
   "execution_count": null
  },
  {
   "cell_type": "markdown",
   "id": "23a45b8d",
   "metadata": {
    "papermill": {
     "duration": 0.007243,
     "end_time": "2023-10-10T22:40:09.604851",
     "exception": false,
     "start_time": "2023-10-10T22:40:09.597608",
     "status": "completed"
    },
    "tags": []
   },
   "source": [
    "`Constitution` is variable that gives information about all around healt of a people. Higher it is, healtier people are. We see that there is distribution very simular to normal, with two pikes on values 1 and 0. It is normal for all continous variables to have normal like distribution because sample is very big (650000 rows of data), so by central limit theorem there is very likelihood that distributions will be normal. "
   ]
  },
  {
   "cell_type": "code",
   "id": "e726b7dd",
   "metadata": {
    "execution": {
     "iopub.execute_input": "2023-10-10T22:40:09.622105Z",
     "iopub.status.busy": "2023-10-10T22:40:09.620698Z",
     "iopub.status.idle": "2023-10-10T22:40:21.725861Z",
     "shell.execute_reply": "2023-10-10T22:40:21.724725Z"
    },
    "papermill": {
     "duration": 12.116427,
     "end_time": "2023-10-10T22:40:21.728551",
     "exception": false,
     "start_time": "2023-10-10T22:40:09.612124",
     "status": "completed"
    },
    "tags": []
   },
   "source": [
    "df.Age.plot(kind='kde')\n",
    "plt.show()"
   ],
   "outputs": [],
   "execution_count": null
  },
  {
   "cell_type": "code",
   "id": "d07c5f76",
   "metadata": {
    "execution": {
     "iopub.execute_input": "2023-10-10T22:40:21.746921Z",
     "iopub.status.busy": "2023-10-10T22:40:21.745785Z",
     "iopub.status.idle": "2023-10-10T22:40:21.765894Z",
     "shell.execute_reply": "2023-10-10T22:40:21.764737Z"
    },
    "papermill": {
     "duration": 0.03163,
     "end_time": "2023-10-10T22:40:21.768062",
     "exception": false,
     "start_time": "2023-10-10T22:40:21.736432",
     "status": "completed"
    },
    "tags": []
   },
   "source": [
    "from scipy.stats import skew\n",
    "skew(df.Age)"
   ],
   "outputs": [],
   "execution_count": null
  },
  {
   "cell_type": "markdown",
   "id": "a9d16bf8",
   "metadata": {
    "papermill": {
     "duration": 0.008028,
     "end_time": "2023-10-10T22:40:21.783963",
     "exception": false,
     "start_time": "2023-10-10T22:40:21.775935",
     "status": "completed"
    },
    "tags": []
   },
   "source": [
    "Same story is for `Age` variable. Distribution is pretty normal but we can se skewness is a litlebit higher than ususal. We can check coeffiecient of skewness and see that value is almost 0, so we assume that skewness is normal, even if distribution looks little more spiky."
   ]
  },
  {
   "cell_type": "code",
   "id": "a1570a21",
   "metadata": {
    "execution": {
     "iopub.execute_input": "2023-10-10T22:40:21.801909Z",
     "iopub.status.busy": "2023-10-10T22:40:21.801200Z",
     "iopub.status.idle": "2023-10-10T22:40:22.049029Z",
     "shell.execute_reply": "2023-10-10T22:40:22.047829Z"
    },
    "papermill": {
     "duration": 0.259535,
     "end_time": "2023-10-10T22:40:22.051416",
     "exception": false,
     "start_time": "2023-10-10T22:40:21.791881",
     "status": "completed"
    },
    "tags": []
   },
   "source": [
    "sns.countplot(x=df.Behaviour)\n",
    "plt.show()"
   ],
   "outputs": [],
   "execution_count": null
  },
  {
   "cell_type": "code",
   "id": "6260623d",
   "metadata": {
    "execution": {
     "iopub.execute_input": "2023-10-10T22:40:22.069770Z",
     "iopub.status.busy": "2023-10-10T22:40:22.069313Z",
     "iopub.status.idle": "2023-10-10T22:40:22.085050Z",
     "shell.execute_reply": "2023-10-10T22:40:22.083953Z"
    },
    "papermill": {
     "duration": 0.027597,
     "end_time": "2023-10-10T22:40:22.087273",
     "exception": false,
     "start_time": "2023-10-10T22:40:22.059676",
     "status": "completed"
    },
    "tags": []
   },
   "source": [
    "from scipy.stats import chisquare\n",
    "chisquare(df.Age)"
   ],
   "outputs": [],
   "execution_count": null
  },
  {
   "cell_type": "markdown",
   "id": "ba84d83c",
   "metadata": {
    "papermill": {
     "duration": 0.007954,
     "end_time": "2023-10-10T22:40:22.103410",
     "exception": false,
     "start_time": "2023-10-10T22:40:22.095456",
     "status": "completed"
    },
    "tags": []
   },
   "source": [
    "Variable `Behaviour` gives as information how people are reacting to infection spreading. There are three types of people: cautios, moderate and reckless. Because there is much more moderate people that other two groups we assume that values for this variable are not just randomly given and that there must be added some higher weigth to moderate people so there are more of them in dataset. We can check with hi-squared test and see if there is statistically significant difference in observed and expected values."
   ]
  },
  {
   "cell_type": "code",
   "id": "b1b1a1c8",
   "metadata": {
    "execution": {
     "iopub.execute_input": "2023-10-10T22:40:22.121671Z",
     "iopub.status.busy": "2023-10-10T22:40:22.121036Z",
     "iopub.status.idle": "2023-10-10T22:40:23.440522Z",
     "shell.execute_reply": "2023-10-10T22:40:23.439262Z"
    },
    "papermill": {
     "duration": 1.331634,
     "end_time": "2023-10-10T22:40:23.443027",
     "exception": false,
     "start_time": "2023-10-10T22:40:22.111393",
     "status": "completed"
    },
    "tags": []
   },
   "source": [
    "plt.figure(figsize=(12,5))\n",
    "sns.countplot(x=df.Population)\n",
    "plt.show()"
   ],
   "outputs": [],
   "execution_count": null
  },
  {
   "cell_type": "markdown",
   "id": "d199dc51",
   "metadata": {
    "papermill": {
     "duration": 0.008791,
     "end_time": "2023-10-10T22:40:23.461196",
     "exception": false,
     "start_time": "2023-10-10T22:40:23.452405",
     "status": "completed"
    },
    "tags": []
   },
   "source": [
    "In this diagram we can see that in every value of `Population` there is equal numberof people. That gives as information about that in every simulation stage, equal numebr of people are added to dataset."
   ]
  },
  {
   "cell_type": "code",
   "id": "579ca0b2",
   "metadata": {
    "execution": {
     "iopub.execute_input": "2023-10-10T22:40:23.481124Z",
     "iopub.status.busy": "2023-10-10T22:40:23.480616Z",
     "iopub.status.idle": "2023-10-10T22:40:26.433398Z",
     "shell.execute_reply": "2023-10-10T22:40:26.432001Z"
    },
    "papermill": {
     "duration": 2.966074,
     "end_time": "2023-10-10T22:40:26.436117",
     "exception": false,
     "start_time": "2023-10-10T22:40:23.470043",
     "status": "completed"
    },
    "tags": []
   },
   "source": [
    "sns.kdeplot(x=df.Constitution, hue=df.Infected)\n",
    "plt.show()"
   ],
   "outputs": [],
   "execution_count": null
  },
  {
   "cell_type": "markdown",
   "id": "99e8fd7d",
   "metadata": {
    "papermill": {
     "duration": 0.009289,
     "end_time": "2023-10-10T22:40:26.455186",
     "exception": false,
     "start_time": "2023-10-10T22:40:26.445897",
     "status": "completed"
    },
    "tags": []
   },
   "source": [
    "We can further explore distributions of `Constitution` but divide it into groups by value of `Infected` variable. We can see that this distributions are pritty much same (difference is in number of people, but that is because there is difference in frequencies in those two groups). This can indicate that maybe this variable is not good predictor, but we will see it later."
   ]
  },
  {
   "cell_type": "code",
   "id": "0b559f5a",
   "metadata": {
    "execution": {
     "iopub.execute_input": "2023-10-10T22:40:26.476526Z",
     "iopub.status.busy": "2023-10-10T22:40:26.476132Z",
     "iopub.status.idle": "2023-10-10T22:40:29.742174Z",
     "shell.execute_reply": "2023-10-10T22:40:29.740970Z"
    },
    "papermill": {
     "duration": 3.279483,
     "end_time": "2023-10-10T22:40:29.744464",
     "exception": false,
     "start_time": "2023-10-10T22:40:26.464981",
     "status": "completed"
    },
    "tags": []
   },
   "source": [
    "sns.kdeplot(x=df.Age, hue=df.Infected)\n",
    "plt.show()"
   ],
   "outputs": [],
   "execution_count": null
  },
  {
   "cell_type": "markdown",
   "id": "ce6d362e",
   "metadata": {
    "papermill": {
     "duration": 0.010861,
     "end_time": "2023-10-10T22:40:29.767072",
     "exception": false,
     "start_time": "2023-10-10T22:40:29.756211",
     "status": "completed"
    },
    "tags": []
   },
   "source": [
    "Same thing is for variable `Age`."
   ]
  },
  {
   "cell_type": "code",
   "id": "ffbb8245",
   "metadata": {
    "execution": {
     "iopub.execute_input": "2023-10-10T22:40:29.791294Z",
     "iopub.status.busy": "2023-10-10T22:40:29.790191Z",
     "iopub.status.idle": "2023-10-10T22:40:30.273340Z",
     "shell.execute_reply": "2023-10-10T22:40:30.272322Z"
    },
    "papermill": {
     "duration": 0.498303,
     "end_time": "2023-10-10T22:40:30.276221",
     "exception": false,
     "start_time": "2023-10-10T22:40:29.777918",
     "status": "completed"
    },
    "tags": []
   },
   "source": [
    "plt.figure(figsize=(12,5))\n",
    "df.groupby('Population')['Infected'].sum().plot(kind='line')\n",
    "plt.show()"
   ],
   "outputs": [],
   "execution_count": null
  },
  {
   "cell_type": "markdown",
   "id": "6966d678",
   "metadata": {
    "papermill": {
     "duration": 0.012214,
     "end_time": "2023-10-10T22:40:30.301095",
     "exception": false,
     "start_time": "2023-10-10T22:40:30.288881",
     "status": "completed"
    },
    "tags": []
   },
   "source": [
    "On this diagram we can see how number of infected people is changed in every simulation stage. We can see that there is not constant increase in number of infected people, rather there is no particular trending in this values. There are stages with a lot of infected people, but in other hand there is a very few infected people in other stages, so we can't determine if there will in future be more or less infected people in one stage, without using some advanced methods like time series."
   ]
  },
  {
   "cell_type": "code",
   "id": "7e960b25",
   "metadata": {
    "execution": {
     "iopub.execute_input": "2023-10-10T22:40:30.328653Z",
     "iopub.status.busy": "2023-10-10T22:40:30.327539Z",
     "iopub.status.idle": "2023-10-10T22:40:30.939043Z",
     "shell.execute_reply": "2023-10-10T22:40:30.937645Z"
    },
    "papermill": {
     "duration": 0.628082,
     "end_time": "2023-10-10T22:40:30.941499",
     "exception": false,
     "start_time": "2023-10-10T22:40:30.313417",
     "status": "completed"
    },
    "tags": []
   },
   "source": [
    "df.Connections.apply(lambda x: len(x.split())).value_counts().plot(kind='bar')\n",
    "plt.show()"
   ],
   "outputs": [],
   "execution_count": null
  },
  {
   "cell_type": "markdown",
   "id": "8d60bf7e",
   "metadata": {
    "papermill": {
     "duration": 0.011996,
     "end_time": "2023-10-10T22:40:30.965683",
     "exception": false,
     "start_time": "2023-10-10T22:40:30.953687",
     "status": "completed"
    },
    "tags": []
   },
   "source": [
    "Variable `Connections` is giving information about which people was connected with others and on this diagram we can see how many people is conneceted to how many other people. Thsi variable will be our main sorce of new features that we will create, but that is going to be problem for other notebook."
   ]
  },
  {
   "cell_type": "markdown",
   "id": "8da25d33",
   "metadata": {
    "papermill": {
     "duration": 0.012176,
     "end_time": "2023-10-10T22:40:30.990683",
     "exception": false,
     "start_time": "2023-10-10T22:40:30.978507",
     "status": "completed"
    },
    "tags": []
   },
   "source": [
    "With this we have went through all important points in this problem and in other notebook we will be solving this classification problem with all feature engineering and modeling. "
   ]
  }
 ],
 "metadata": {
  "kernelspec": {
   "display_name": "Python 3",
   "language": "python",
   "name": "python3"
  },
  "language_info": {
   "codemirror_mode": {
    "name": "ipython",
    "version": 3
   },
   "file_extension": ".py",
   "mimetype": "text/x-python",
   "name": "python",
   "nbconvert_exporter": "python",
   "pygments_lexer": "ipython3",
   "version": "3.10.12"
  },
  "papermill": {
   "default_parameters": {},
   "duration": 43.848972,
   "end_time": "2023-10-10T22:40:31.732835",
   "environment_variables": {},
   "exception": null,
   "input_path": "__notebook__.ipynb",
   "output_path": "__notebook__.ipynb",
   "parameters": {},
   "start_time": "2023-10-10T22:39:47.883863",
   "version": "2.4.0"
  }
 },
 "nbformat": 4,
 "nbformat_minor": 5
}
