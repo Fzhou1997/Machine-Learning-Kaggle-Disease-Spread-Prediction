{
 "cells": [
  {
   "cell_type": "code",
   "id": "initial_id",
   "metadata": {
    "collapsed": true,
    "ExecuteTime": {
     "end_time": "2024-08-07T18:47:45.311424Z",
     "start_time": "2024-08-07T18:47:45.308089Z"
    }
   },
   "source": [
    "import torch\n",
    "from torch.nn import BCELoss\n",
    "from sklearn.model_selection import train_test_split\n",
    "\n",
    "from utils_data import *\n",
    "from utils_classification import MultiLayerPerceptron\n",
    "from utils_training import Trainer\n",
    "from utils_running import Runner\n",
    "from utils_evaluation import evaluate_tensor\n",
    "from utils_plot import plot_confusion_matrix, plot_roc"
   ],
   "outputs": [],
   "execution_count": 23
  },
  {
   "metadata": {
    "ExecuteTime": {
     "end_time": "2024-08-07T18:47:45.321795Z",
     "start_time": "2024-08-07T18:47:45.312421Z"
    }
   },
   "cell_type": "code",
   "source": [
    "device = 'cpu'\n",
    "if torch.cuda.is_available():\n",
    "    device = 'cuda'\n",
    "elif torch.backends.mps.is_available():\n",
    "    device = \"mps\""
   ],
   "id": "4a8561102fbd21c5",
   "outputs": [],
   "execution_count": 24
  },
  {
   "metadata": {
    "ExecuteTime": {
     "end_time": "2024-08-07T18:48:15.932437Z",
     "start_time": "2024-08-07T18:47:45.321795Z"
    }
   },
   "cell_type": "code",
   "source": [
    "data = PopulationData().load_raw('../../data/raw/train.csv')\n",
    "data.encode_normalized_age()\n",
    "data.encode_normalized_constitution()\n",
    "data.encode_normalized_behavior()\n",
    "# data.encode_standardized_age()\n",
    "# data.encode_standardized_constitution()\n",
    "# data.encode_standardized_behavior()\n",
    "data.encode_connection_lists()\n",
    "data.encode_graph_nx()\n",
    "data.encode_degree()\n",
    "# data.encode_degree_centrality()\n",
    "# data.encode_clustering_coefficient()\n",
    "data.encode_normalized_degree()\n",
    "# data.encode_normalized_degree_centrality()\n",
    "# data.encode_normalized_clustering_coefficient()\n",
    "# data.encode_standardized_degree()\n",
    "# data.encode_standardized_degree_centrality()\n",
    "# data.encode_standardized_clustering_coefficient()\n",
    "# data.encode_connected_index_patient()\n",
    "data.encode_distance_to_index_patient()\n",
    "data.encode_normalized_distance_to_index_patient()\n",
    "# data.encode_standardized_distance_to_index_patient()\n",
    "data.encode_sum_neighbor_age()\n",
    "data.encode_sum_neighbor_constitution()\n",
    "data.encode_sum_neighbor_behavior()\n",
    "data.encode_sum_neighbor_degree()\n",
    "# data.encode_sum_neighbor_degree_centrality()\n",
    "# data.encode_sum_neighbor_clustering_coefficient()\n",
    "data.encode_normalized_sum_neighbor_age()\n",
    "data.encode_normalized_sum_neighbor_constitution()\n",
    "data.encode_normalized_sum_neighbor_behavior()\n",
    "data.encode_normalized_sum_neighbor_degree()\n",
    "# data.encode_normalized_sum_neighbor_degree_centrality()\n",
    "# data.encode_normalized_sum_neighbor_clustering_coefficient()\n",
    "# data.encode_standardized_sum_neighbor_age()\n",
    "# data.encode_standardized_sum_neighbor_constitution()\n",
    "# data.encode_standardized_sum_neighbor_behavior()\n",
    "# data.encode_standardized_sum_neighbor_degree()\n",
    "# data.encode_standardized_sum_neighbor_degree_centrality()\n",
    "# data.encode_standardized_sum_neighbor_clustering_coefficient()\n",
    "# data.encode_mean_neighbor_age()\n",
    "# data.encode_mean_neighbor_constitution()\n",
    "# data.encode_mean_neighbor_behavior()\n",
    "# data.encode_mean_neighbor_degree()\n",
    "# data.encode_mean_neighbor_degree_centrality()\n",
    "# data.encode_mean_neighbor_clustering_coefficient()\n",
    "# data.encode_normalized_mean_neighbor_age()\n",
    "# data.encode_normalized_mean_neighbor_constitution()\n",
    "# data.encode_normalized_mean_neighbor_behavior()\n",
    "# data.encode_normalized_mean_neighbor_degree()\n",
    "# data.encode_normalized_mean_neighbor_degree_centrality()\n",
    "# data.encode_normalized_mean_neighbor_clustering_coefficient()\n",
    "# data.encode_standardized_mean_neighbor_age()\n",
    "# data.encode_standardized_mean_neighbor_constitution()\n",
    "# data.encode_standardized_mean_neighbor_behavior()\n",
    "# data.encode_standardized_mean_neighbor_degree()\n",
    "# data.encode_standardized_mean_neighbor_degree_centrality()\n",
    "# data.encode_standardized_mean_neighbor_clustering_coefficient()\n",
    "data.encode_test_train()"
   ],
   "id": "e22300d9feb711ac",
   "outputs": [
    {
     "data": {
      "text/plain": [
       "<utils_data.PopulationData.PopulationData at 0x23767d5b110>"
      ]
     },
     "execution_count": 25,
     "metadata": {},
     "output_type": "execute_result"
    }
   ],
   "execution_count": 25
  },
  {
   "metadata": {
    "ExecuteTime": {
     "end_time": "2024-08-07T18:48:16.080Z",
     "start_time": "2024-08-07T18:48:15.933687Z"
    }
   },
   "cell_type": "code",
   "source": [
    "features = ['Normalized_Age',\n",
    "            'Normalized_Constitution',\n",
    "            'Normalized_Behaviour',\n",
    "            'Normalized_Degree',\n",
    "            'Normalized_Distance_to_Index_Patient',\n",
    "            'Normalized_Sum_Neighbor_Age',\n",
    "            'Normalized_Sum_Neighbor_Constitution',\n",
    "            'Normalized_Sum_Neighbor_Behaviour',\n",
    "            'Normalized_Sum_Neighbor_Degree']\n",
    "train_features, train_labels = data.get_data_numpy(features=features, train='Train')\n",
    "test_features, test_labels = data.get_data_tensors(features=features, train='Test')\n",
    "test_features, test_labels = test_features.to(device), test_labels.to(device)"
   ],
   "id": "a2c273d41308e23d",
   "outputs": [],
   "execution_count": 26
  },
  {
   "metadata": {
    "ExecuteTime": {
     "end_time": "2024-08-07T18:48:16.150152Z",
     "start_time": "2024-08-07T18:48:16.080997Z"
    }
   },
   "cell_type": "code",
   "source": [
    "train_features, eval_features, train_labels, eval_labels = train_test_split(train_features, train_labels, test_size=0.2, random_state=42)\n",
    "train_features = torch.tensor(train_features, dtype=torch.float32).to(device)\n",
    "train_labels = torch.tensor(train_labels, dtype=torch.float32).to(device)\n",
    "eval_features = torch.tensor(eval_features, dtype=torch.float32).to(device)\n",
    "eval_labels = torch.tensor(eval_labels, dtype=torch.float32).to(device)\n",
    "train_dataset = PopulationDataset(train_features, train_labels)\n",
    "eval_dataset = PopulationDataset(eval_features, eval_labels)\n",
    "test_dataset = PopulationDataset(test_features, test_labels)"
   ],
   "id": "d147f9bc64e05b82",
   "outputs": [],
   "execution_count": 27
  },
  {
   "metadata": {
    "ExecuteTime": {
     "end_time": "2024-08-07T18:48:16.153718Z",
     "start_time": "2024-08-07T18:48:16.150152Z"
    }
   },
   "cell_type": "code",
   "source": [
    "hidden_sizes = [64, 32, 16]\n",
    "activations = ['relu', 'relu', 'relu']\n",
    "model = MultiLayerPerceptron(input_size=len(features),\n",
    "                             hidden_sizes=hidden_sizes,\n",
    "                             activations=activations,\n",
    "                             output_activation='sigmoid')"
   ],
   "id": "5b1fd0b2ffac5c80",
   "outputs": [],
   "execution_count": 28
  },
  {
   "metadata": {
    "ExecuteTime": {
     "end_time": "2024-08-07T19:03:16.473181Z",
     "start_time": "2024-08-07T18:48:16.153718Z"
    }
   },
   "cell_type": "code",
   "source": [
    "criterion = BCELoss()\n",
    "optimizer = torch.optim.Adam(model.parameters(), lr=0.001)\n",
    "trainer = Trainer(model, criterion, optimizer)\n",
    "trainer.train(train_dataset, eval_dataset, batch_size=32, num_epochs=50, device=device)"
   ],
   "id": "432c8d53f9ef7a6e",
   "outputs": [
    {
     "name": "stderr",
     "output_type": "stream",
     "text": [
      "100%|██████████| 50/50 [15:00<00:00, 18.01s/it]"
     ]
    },
    {
     "name": "stdout",
     "output_type": "stream",
     "text": [
      "Best model found at epoch 44 with evaluation loss: 0.6713\n"
     ]
    },
    {
     "name": "stderr",
     "output_type": "stream",
     "text": [
      "\n"
     ]
    }
   ],
   "execution_count": 29
  },
  {
   "metadata": {
    "ExecuteTime": {
     "end_time": "2024-08-07T19:03:18.245184Z",
     "start_time": "2024-08-07T19:03:16.473181Z"
    }
   },
   "cell_type": "code",
   "source": "trainer.test(test_dataset, batch_size=32, device=device)",
   "id": "bf45926c94772ab8",
   "outputs": [
    {
     "name": "stdout",
     "output_type": "stream",
     "text": [
      "Test loss: 0.6698\n"
     ]
    }
   ],
   "execution_count": 30
  },
  {
   "metadata": {
    "ExecuteTime": {
     "end_time": "2024-08-07T19:03:21.201852Z",
     "start_time": "2024-08-07T19:03:18.245184Z"
    }
   },
   "cell_type": "code",
   "source": [
    "runner = Runner(model)\n",
    "test_predicted = runner.predict(test_dataset, batch_size=32, device=device).to(device)\n",
    "test_probabilities = runner.predict_proba(test_dataset, batch_size=32, device=device).to(device)\n",
    "accuracy, precision, recall, f1, auc_roc, confusion_matrix = evaluate_tensor(test_predicted, test_probabilities, test_labels, device=device)\n",
    "print(f'Accuracy: {accuracy:.4f}')\n",
    "print(f'Precision: {precision:.4f}')\n",
    "print(f'Recall: {recall:.4f}')\n",
    "print(f'F1: {f1:.4f}')\n",
    "print(f'AUC-ROC: {auc_roc:.4f}')"
   ],
   "id": "248c0d85cfc190bb",
   "outputs": [
    {
     "name": "stdout",
     "output_type": "stream",
     "text": [
      "Accuracy: 0.5874\n",
      "Precision: 0.5727\n",
      "Recall: 0.4787\n",
      "F1: 0.5215\n",
      "AUC-ROC: 0.6153\n"
     ]
    }
   ],
   "execution_count": 31
  },
  {
   "metadata": {
    "ExecuteTime": {
     "end_time": "2024-08-07T19:03:21.265961Z",
     "start_time": "2024-08-07T19:03:21.202853Z"
    }
   },
   "cell_type": "code",
   "source": "plot_confusion_matrix(confusion_matrix, ['Healthy', 'Infected'])",
   "id": "2ac77093edceffad",
   "outputs": [
    {
     "data": {
      "text/plain": [
       "<Figure size 640x480 with 2 Axes>"
      ],
      "image/png": "[encoded data removed]"
     },
     "metadata": {},
     "output_type": "display_data"
    }
   ],
   "execution_count": 32
  },
  {
   "metadata": {
    "ExecuteTime": {
     "end_time": "2024-08-07T19:03:21.278579Z",
     "start_time": "2024-08-07T19:03:21.265961Z"
    }
   },
   "cell_type": "code",
   "source": "plot_roc(test_probabilities.numpy(), test_labels.numpy())",
   "id": "bfe9580e3515878f",
   "outputs": [
    {
     "ename": "TypeError",
     "evalue": "can't convert cuda:0 device type tensor to numpy. Use Tensor.cpu() to copy the tensor to host memory first.",
     "output_type": "error",
     "traceback": [
      "\u001B[1;31m---------------------------------------------------------------------------\u001B[0m",
      "\u001B[1;31mTypeError\u001B[0m                                 Traceback (most recent call last)",
      "Cell \u001B[1;32mIn[33], line 1\u001B[0m\n\u001B[1;32m----> 1\u001B[0m plot_roc(\u001B[43mtest_probabilities\u001B[49m\u001B[38;5;241;43m.\u001B[39;49m\u001B[43mnumpy\u001B[49m\u001B[43m(\u001B[49m\u001B[43m)\u001B[49m, test_labels\u001B[38;5;241m.\u001B[39mnumpy())\n",
      "\u001B[1;31mTypeError\u001B[0m: can't convert cuda:0 device type tensor to numpy. Use Tensor.cpu() to copy the tensor to host memory first."
     ]
    }
   ],
   "execution_count": 33
  }
 ],
 "metadata": {
  "kernelspec": {
   "display_name": "Python 3",
   "language": "python",
   "name": "python3"
  },
  "language_info": {
   "codemirror_mode": {
    "name": "ipython",
    "version": 2
   },
   "file_extension": ".py",
   "mimetype": "text/x-python",
   "name": "python",
   "nbconvert_exporter": "python",
   "pygments_lexer": "ipython2",
   "version": "2.7.6"
  }
 },
 "nbformat": 4,
 "nbformat_minor": 5
}
