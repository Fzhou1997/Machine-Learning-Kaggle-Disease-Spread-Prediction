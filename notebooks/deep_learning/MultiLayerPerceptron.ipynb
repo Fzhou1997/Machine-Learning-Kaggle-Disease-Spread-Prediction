{
 "cells": [
  {
   "metadata": {},
   "cell_type": "markdown",
   "source": [
    "<H1 align=\"center\">Multi Layer Perceptron for Disease Spread Prediction</H1>\n",
    "\n",
    "<strong>This notebook trains a multi-lyaer perceptron-based classification model on the training dataset and predicts on the inference dataset.</strong>"
   ],
   "id": "b45b19519f4060b2"
  },
  {
   "metadata": {},
   "cell_type": "markdown",
   "source": "## Import Libraries",
   "id": "3e024475fe5dc61e"
  },
  {
   "metadata": {},
   "cell_type": "markdown",
   "source": "### Python Libraries",
   "id": "59d4b4c1ec5b2e04"
  },
  {
   "cell_type": "code",
   "id": "initial_id",
   "metadata": {
    "collapsed": true
   },
   "source": "",
   "outputs": [],
   "execution_count": null
  },
  {
   "metadata": {},
   "cell_type": "markdown",
   "source": "### External Libraries",
   "id": "34932f602823c8fd"
  },
  {
   "metadata": {},
   "cell_type": "code",
   "source": [
    "import torch\n",
    "from torch.nn import ReLU, BCEWithLogitsLoss\n",
    "from torch.utils.data import TensorDataset, DataLoader\n",
    "\n",
    "from utils_classification.models.TrainerMultiLayerPerceptron import TrainerMultiLayerPerceptron"
   ],
   "id": "d7e69accac9c8866",
   "outputs": [],
   "execution_count": null
  },
  {
   "metadata": {},
   "cell_type": "markdown",
   "source": "### Custom Libraries",
   "id": "9c1a97a640fbb6d0"
  },
  {
   "metadata": {},
   "cell_type": "code",
   "source": [
    "from utils_classification.models import ModelMultiLayerPerceptron\n",
    "from utils_classification.data import DatasetMultiLayerPerceptron\n",
    "from utils_torch.data import stratified_random_split\n",
    "from utils_data import *\n",
    "from utils_plot import plot_confusion_matrix, plot_roc"
   ],
   "id": "6d3f8632a8b3c410",
   "outputs": [],
   "execution_count": null
  },
  {
   "metadata": {},
   "cell_type": "markdown",
   "source": "## Set Parameters",
   "id": "e22aeb7da714a2"
  },
  {
   "metadata": {},
   "cell_type": "markdown",
   "source": "### Select Features",
   "id": "8deaf8a0cb7e758f"
  },
  {
   "metadata": {},
   "cell_type": "code",
   "source": [
    "features = ['Normalized_Age',\n",
    "            'Normalized_Behaviour',\n",
    "            'Normalized_Constitution',\n",
    "            'Normalized_Degree',\n",
    "            'Normalized_Distance_to_Index_Patient',\n",
    "            'Normalized_Sum_Neighbor_Age',\n",
    "            'Normalized_Sum_Neighbor_Behaviour',\n",
    "            'Normalized_Sum_Neighbor_Constitution',\n",
    "            'Normalized_Sum_Neighbor_Degree',\n",
    "            'Normalized_Sum_Population_Age',\n",
    "            'Normalized_Sum_Population_Behaviour',\n",
    "            'Normalized_Sum_Population_Constitution',\n",
    "            'Normalized_Sum_Population_Distance_to_Index_Patient']"
   ],
   "id": "fdd88d202e1d00fc",
   "outputs": [],
   "execution_count": null
  },
  {
   "metadata": {},
   "cell_type": "markdown",
   "source": "### Set Dataset Parameters",
   "id": "8bac21c371502c3a"
  },
  {
   "metadata": {},
   "cell_type": "code",
   "source": "train_eval_test_split = [0.7, 0.15, 0.15]",
   "id": "d90de2558b1ca7ed",
   "outputs": [],
   "execution_count": null
  },
  {
   "metadata": {},
   "cell_type": "markdown",
   "source": "### Set Dataloader Parameters",
   "id": "c3059c85a35f2b73"
  },
  {
   "metadata": {},
   "cell_type": "code",
   "source": "batch_size = 32",
   "id": "8e949ddb66743bab",
   "outputs": [],
   "execution_count": null
  },
  {
   "metadata": {},
   "cell_type": "markdown",
   "source": "### Set Model Parameters",
   "id": "3e45ba308e7cdc97"
  },
  {
   "metadata": {},
   "cell_type": "code",
   "source": [
    "num_layers = 3\n",
    "num_features_in = len(features)\n",
    "num_features_hidden = [64, 32, 16]\n",
    "bias = True\n",
    "activation = ReLU\n",
    "activation_kwargs = None\n",
    "dropout_p = 0.5\n",
    "dropout_inplace = False\n",
    "dropout_first = True\n",
    "batch_norm = True\n",
    "batch_norm_momentum = 0.1"
   ],
   "id": "de53f49dcd3f05fb",
   "outputs": [],
   "execution_count": null
  },
  {
   "metadata": {},
   "cell_type": "markdown",
   "source": "### Set Trainer Parameters",
   "id": "fd92bd4ab0a5dfd5"
  },
  {
   "metadata": {},
   "cell_type": "code",
   "source": [
    "num_epochs = 64\n",
    "learning_rate = 0.001"
   ],
   "id": "ebebd13bda37f0b",
   "outputs": [],
   "execution_count": null
  },
  {
   "metadata": {},
   "cell_type": "markdown",
   "source": "## Setup Environment",
   "id": "fe0f35a246bb7aca"
  },
  {
   "metadata": {},
   "cell_type": "markdown",
   "source": "### Set Torch Device",
   "id": "c398498abe511aca"
  },
  {
   "metadata": {},
   "cell_type": "code",
   "source": [
    "device = 'cpu'\n",
    "if torch.cuda.is_available():\n",
    "    device = 'cuda'\n",
    "elif torch.backends.mps.is_available():\n",
    "    device = \"mps\""
   ],
   "id": "4a8561102fbd21c5",
   "outputs": [],
   "execution_count": null
  },
  {
   "metadata": {},
   "cell_type": "markdown",
   "source": "## Load Data",
   "id": "7f8337ba96c67c72"
  },
  {
   "metadata": {},
   "cell_type": "markdown",
   "source": "### Load Processed Training Data",
   "id": "78da8f7eb43b324b"
  },
  {
   "metadata": {},
   "cell_type": "code",
   "source": "train_data = PopulationData().load_processed('../../data/processed/train.csv')",
   "id": "e22300d9feb711ac",
   "outputs": [],
   "execution_count": null
  },
  {
   "metadata": {},
   "cell_type": "markdown",
   "source": "### Load Processed Inference Data",
   "id": "a837efa553f7e1d6"
  },
  {
   "metadata": {},
   "cell_type": "code",
   "source": "inference_data = PopulationData().load_processed('../../data/processed/test.csv')",
   "id": "51b650cf171a547d",
   "outputs": [],
   "execution_count": null
  },
  {
   "metadata": {},
   "cell_type": "markdown",
   "source": "### Create Train Eval Test Datasets",
   "id": "427bf9cbc0b26596"
  },
  {
   "metadata": {},
   "cell_type": "code",
   "source": [
    "train_features, train_labels = train_data.get_feature_label_tensors(features=features)\n",
    "train_dataset = DatasetMultiLayerPerceptron(features=train_features, targets=train_labels)\n",
    "train_subset, eval_subset, test_subset = stratified_random_split(dataset=train_dataset,\n",
    "                                                                 ratios=train_eval_test_split)"
   ],
   "id": "a2c273d41308e23d",
   "outputs": [],
   "execution_count": null
  },
  {
   "metadata": {},
   "cell_type": "markdown",
   "source": "### Create Train Eval Test DataLoaders",
   "id": "2a32c8dd0ca5c152"
  },
  {
   "metadata": {},
   "cell_type": "code",
   "source": [
    "dataloader_train = DataLoader(train_subset, batch_size=batch_size, shuffle=True)\n",
    "dataloader_eval = DataLoader(eval_subset, batch_size=batch_size, shuffle=False)\n",
    "dataloader_test = DataLoader(test_subset, batch_size=batch_size, shuffle=False)"
   ],
   "id": "6e097a1cf9d455b9",
   "outputs": [],
   "execution_count": null
  },
  {
   "metadata": {},
   "cell_type": "markdown",
   "source": "### Create Inference Dataset",
   "id": "a432a98c075a9836"
  },
  {
   "metadata": {},
   "cell_type": "code",
   "source": [
    "tensor_inference_features = inference_data.get_feature_tensor(features=features)\n",
    "dataset_inference = TensorDataset(tensor_inference_features)"
   ],
   "id": "ba91499bb0594775",
   "outputs": [],
   "execution_count": null
  },
  {
   "metadata": {},
   "cell_type": "markdown",
   "source": "### Create Inference DataLoader",
   "id": "c4687570c6524153"
  },
  {
   "metadata": {},
   "cell_type": "code",
   "source": "dataloader_inference = DataLoader(dataset_inference, batch_size=batch_size, shuffle=False)",
   "id": "744d6de5728e5cf0",
   "outputs": [],
   "execution_count": null
  },
  {
   "metadata": {},
   "cell_type": "markdown",
   "source": "## Create Model",
   "id": "fca8bc884138e925"
  },
  {
   "metadata": {},
   "cell_type": "code",
   "source": [
    "model = ModelMultiLayerPerceptron(num_layers=num_layers,\n",
    "                                  num_features_in=num_features_in,\n",
    "                                  num_features_hidden=num_features_hidden,\n",
    "                                  bias=bias,\n",
    "                                  activation=activation,\n",
    "                                  activation_kwargs=activation_kwargs,\n",
    "                                  dropout_p=dropout_p,\n",
    "                                  dropout_inplace=dropout_inplace,\n",
    "                                  dropout_first=dropout_first,\n",
    "                                  batch_norm=batch_norm,\n",
    "                                  batch_norm_momentum=batch_norm_momentum,\n",
    "                                  device=device)"
   ],
   "id": "5b1fd0b2ffac5c80",
   "outputs": [],
   "execution_count": null
  },
  {
   "metadata": {},
   "cell_type": "markdown",
   "source": "## Create Trainer",
   "id": "2529a19b5d0a9640"
  },
  {
   "metadata": {},
   "cell_type": "markdown",
   "source": "### Create Criterion and Optimizer",
   "id": "3f797a98e5a93646"
  },
  {
   "metadata": {},
   "cell_type": "code",
   "source": [
    "criterion = BCEWithLogitsLoss()\n",
    "optimizer = torch.optim.Adam(model.parameters(), lr=learning_rate)"
   ],
   "id": "432c8d53f9ef7a6e",
   "outputs": [],
   "execution_count": null
  },
  {
   "metadata": {},
   "cell_type": "markdown",
   "source": "### Create Trainer",
   "id": "89887a0fdbba1b3d"
  },
  {
   "metadata": {},
   "cell_type": "code",
   "outputs": [],
   "execution_count": null,
   "source": [
    "trainer = TrainerMultiLayerPerceptron(model=model,\n",
    "                                      criterion=criterion,\n",
    "                                      optimizer=optimizer,\n",
    "                                      train_loader=dataloader_train,\n",
    "                                      eval_loader=dataloader_eval,\n",
    "                                      device=device)"
   ],
   "id": "b04d74b22a62f12d"
  },
  {
   "metadata": {},
   "cell_type": "markdown",
   "source": "## Create Tester",
   "id": "b95d5c21a2491f03"
  },
  {
   "metadata": {},
   "cell_type": "code",
   "outputs": [],
   "execution_count": null,
   "source": "",
   "id": "c9092ebb89b4da54"
  },
  {
   "metadata": {},
   "cell_type": "markdown",
   "source": "## Create Runner",
   "id": "d998f65f4ac4a270"
  },
  {
   "metadata": {},
   "cell_type": "code",
   "outputs": [],
   "execution_count": null,
   "source": "",
   "id": "191ddb32330c3e39"
  },
  {
   "metadata": {},
   "cell_type": "code",
   "source": "trainer.test(test_dataset, batch_size=32, device=device)",
   "id": "bf45926c94772ab8",
   "outputs": [],
   "execution_count": null
  },
  {
   "metadata": {},
   "cell_type": "code",
   "source": [
    "runner = Runner(model)\n",
    "test_predicted = runner.predict(test_dataset, batch_size=32, device=device).to(device)\n",
    "test_probabilities = runner.predict_proba(test_dataset, batch_size=32, device=device).to(device)\n",
    "accuracy, precision, recall, f1, auc_roc, confusion_matrix = evaluate_tensor(test_predicted,\n",
    "                                                                             test_probabilities,\n",
    "                                                                             test_labels,\n",
    "                                                                             device=device)\n",
    "print(f'Accuracy: {accuracy:.4f}')\n",
    "print(f'Precision: {precision:.4f}')\n",
    "print(f'Recall: {recall:.4f}')\n",
    "print(f'F1: {f1:.4f}')\n",
    "print(f'AUC-ROC: {auc_roc:.4f}')"
   ],
   "id": "248c0d85cfc190bb",
   "outputs": [],
   "execution_count": null
  },
  {
   "metadata": {},
   "cell_type": "code",
   "source": "plot_confusion_matrix(confusion_matrix, ['Healthy', 'Infected'])",
   "id": "2ac77093edceffad",
   "outputs": [],
   "execution_count": null
  },
  {
   "metadata": {},
   "cell_type": "code",
   "source": "plot_roc(test_probabilities.cpu().numpy(), test_labels.cpu().numpy())",
   "id": "bfe9580e3515878f",
   "outputs": [],
   "execution_count": null
  },
  {
   "metadata": {},
   "cell_type": "code",
   "source": "model.save(\"../../models/mlp_model.pth\")",
   "id": "bae7bc72690d257d",
   "outputs": [],
   "execution_count": null
  }
 ],
 "metadata": {
  "kernelspec": {
   "display_name": "Python 3",
   "language": "python",
   "name": "python3"
  },
  "language_info": {
   "codemirror_mode": {
    "name": "ipython",
    "version": 2
   },
   "file_extension": ".py",
   "mimetype": "text/x-python",
   "name": "python",
   "nbconvert_exporter": "python",
   "pygments_lexer": "ipython2",
   "version": "2.7.6"
  }
 },
 "nbformat": 4,
 "nbformat_minor": 5
}
