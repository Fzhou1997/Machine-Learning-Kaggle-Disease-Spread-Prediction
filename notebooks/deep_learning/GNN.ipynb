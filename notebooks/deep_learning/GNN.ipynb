{
 "cells": [
  {
   "cell_type": "code",
   "execution_count": 3,
   "id": "initial_id",
   "metadata": {
    "collapsed": true
   },
   "outputs": [],
   "source": [
    "import warnings\n",
    "warnings.filterwarnings(\"ignore\")\n",
    "\n",
    "from utils_data import *\n",
    "from utils_classification import *"
   ]
  },
  {
   "cell_type": "code",
   "execution_count": 2,
   "id": "c11e3f5c",
   "metadata": {},
   "outputs": [
    {
     "data": {
      "text/plain": [
       "<utils_data.PopulationData.PopulationData at 0x19f06d72e90>"
      ]
     },
     "execution_count": 2,
     "metadata": {},
     "output_type": "execute_result"
    }
   ],
   "source": [
    "# Initialize PopulationData object\n",
    "population_data = PopulationData()\n",
    "\n",
    "# Load the data\n",
    "population_data.load('data/raw/train.csv') \\\n",
    "               .encode_connection_lists() \\\n",
    "\t\t\t   .encode_connection_int() \\\n",
    "               .encode_population_int() \\\n",
    "               .encode_degrees() \\\n",
    "               .encode_test_train()\n",
    "\n",
    "# Drop unnecessary columns\n",
    "population_data.drop_index_patient() \\\n",
    "               .drop_degrees()"
   ]
  },
  {
   "cell_type": "code",
   "execution_count": 3,
   "id": "ad586307",
   "metadata": {},
   "outputs": [
    {
     "name": "stdout",
     "output_type": "stream",
     "text": [
      "    Population  Infected  Age  Constitution  Behaviour   \n",
      "id                                                       \n",
      "0            0         1   49      0.347675          2  \\\n",
      "1            0         1   80      0.324719          1   \n",
      "2            0         1   71      0.583583          1   \n",
      "3            0         1   60      0.439978          2   \n",
      "4            0         1   49      0.553221          1   \n",
      "\n",
      "                                          Connections      ID  Train   Test  \n",
      "id                                                                           \n",
      "0   [426772, 605181, 411853, 402744, 606709, 2682,...  236820   True  False  \n",
      "1   [236820, 416760, 52886, 166688, 492683, 488836...  426772   True  False  \n",
      "2   [236820, 340585, 317233, 191364, 300426, 12111...  605181   True  False  \n",
      "3   [236820, 442947, 105665, 454248, 518789, 23003...  411853   True  False  \n",
      "4   [426772, 257110, 405989, 45562, 145756, 145171...  416760  False   True  \n"
     ]
    }
   ],
   "source": [
    "# print the data\n",
    "print(population_data.data.head())"
   ]
  },
  {
   "cell_type": "code",
   "execution_count": 4,
   "id": "2247001e",
   "metadata": {},
   "outputs": [
    {
     "name": "stderr",
     "output_type": "stream",
     "text": [
      "c:\\Users\\Ryan\\AppData\\Local\\Programs\\Python\\Python311\\Lib\\site-packages\\torch_geometric\\deprecation.py:26: UserWarning: 'data.DataLoader' is deprecated, use 'loader.DataLoader' instead\n",
      "  warnings.warn(out)\n"
     ]
    }
   ],
   "source": [
    "# Get the dataloader\n",
    "train_loader, test_loader = population_data.get_dataloaders()"
   ]
  },
  {
   "cell_type": "code",
   "execution_count": 7,
   "id": "eed98104",
   "metadata": {},
   "outputs": [],
   "source": [
    "# Define model parameters\n",
    "in_channels = 4  # Number of input features (Age, Constitution, Behaviour, Population)\n",
    "hidden_channels = 24 # Number of hidden features\n",
    "out_channels = 2  # Number of output classes (Infected/Not Infected)"
   ]
  },
  {
   "cell_type": "code",
   "execution_count": 9,
   "id": "13d050be",
   "metadata": {},
   "outputs": [
    {
     "name": "stdout",
     "output_type": "stream",
     "text": [
      "Epoch 1/50, Loss: 29.3107\n",
      "Epoch 2/50, Loss: 24.0393\n",
      "Epoch 3/50, Loss: 19.3344\n",
      "Epoch 4/50, Loss: 14.7627\n",
      "Epoch 5/50, Loss: 10.7780\n",
      "Epoch 6/50, Loss: 9.4247\n",
      "Epoch 7/50, Loss: 8.5331\n",
      "Epoch 8/50, Loss: 7.2775\n",
      "Epoch 9/50, Loss: 5.7617\n",
      "Epoch 10/50, Loss: 4.0560\n",
      "Epoch 11/50, Loss: 2.2467\n",
      "Epoch 12/50, Loss: 0.8125\n",
      "Epoch 13/50, Loss: 1.5383\n",
      "Epoch 14/50, Loss: 2.6188\n",
      "Epoch 15/50, Loss: 3.2691\n",
      "Epoch 16/50, Loss: 3.5377\n",
      "Epoch 17/50, Loss: 3.4951\n",
      "Epoch 18/50, Loss: 3.2014\n",
      "Epoch 19/50, Loss: 2.7072\n",
      "Epoch 20/50, Loss: 2.0593\n",
      "Epoch 21/50, Loss: 1.3282\n",
      "Epoch 22/50, Loss: 0.7547\n",
      "Epoch 23/50, Loss: 0.8854\n",
      "Epoch 24/50, Loss: 1.3750\n",
      "Epoch 25/50, Loss: 1.7185\n",
      "Epoch 26/50, Loss: 1.8212\n",
      "Epoch 27/50, Loss: 1.6978\n",
      "Epoch 28/50, Loss: 1.3960\n",
      "Epoch 29/50, Loss: 1.0069\n",
      "Epoch 30/50, Loss: 0.7219\n",
      "Epoch 31/50, Loss: 0.7540\n",
      "Epoch 32/50, Loss: 0.9747\n",
      "Epoch 33/50, Loss: 1.1541\n",
      "Epoch 34/50, Loss: 1.2106\n",
      "Epoch 35/50, Loss: 1.1412\n",
      "Epoch 36/50, Loss: 0.9791\n",
      "Epoch 37/50, Loss: 0.7942\n",
      "Epoch 38/50, Loss: 0.6945\n",
      "Epoch 39/50, Loss: 0.7433\n",
      "Epoch 40/50, Loss: 0.8609\n",
      "Epoch 41/50, Loss: 0.9358\n",
      "Epoch 42/50, Loss: 0.9229\n",
      "Epoch 43/50, Loss: 0.8378\n",
      "Epoch 44/50, Loss: 0.7379\n",
      "Epoch 45/50, Loss: 0.6927\n",
      "Epoch 46/50, Loss: 0.7226\n",
      "Epoch 47/50, Loss: 0.7812\n",
      "Epoch 48/50, Loss: 0.8154\n",
      "Epoch 49/50, Loss: 0.8042\n",
      "Epoch 50/50, Loss: 0.7584\n",
      "Test Loss: 0.7080, Accuracy: 0.5340\n"
     ]
    },
    {
     "data": {
      "text/plain": [
       "(0.7079915404319763, 0.5339538461538461)"
      ]
     },
     "execution_count": 9,
     "metadata": {},
     "output_type": "execute_result"
    }
   ],
   "source": [
    "# Initialize and train the model\n",
    "gcn = GraphConvolutionalNetwork(in_channels=in_channels, hidden_channels=hidden_channels, out_channels=out_channels)\n",
    "gcn.fit(train_loader, epochs=22)\n",
    "gcn.evaluate(test_loader)"
   ]
  }
 ],
 "metadata": {
  "kernelspec": {
   "display_name": "Python 3",
   "language": "python",
   "name": "python3"
  },
  "language_info": {
   "codemirror_mode": {
    "name": "ipython",
    "version": 3
   },
   "file_extension": ".py",
   "mimetype": "text/x-python",
   "name": "python",
   "nbconvert_exporter": "python",
   "pygments_lexer": "ipython3",
   "version": "3.11.1"
  }
 },
 "nbformat": 4,
 "nbformat_minor": 5
}
