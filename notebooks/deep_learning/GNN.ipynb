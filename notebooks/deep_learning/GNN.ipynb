{
 "cells": [
  {
   "cell_type": "code",
   "execution_count": 1,
   "id": "initial_id",
   "metadata": {
    "collapsed": true
   },
   "outputs": [],
   "source": [
    "import warnings\n",
    "warnings.filterwarnings(\"ignore\")\n",
    "\n",
    "from torch_geometric.nn import GCN\n",
    "from torch.optim import Adam\n",
    "import torch\n",
    "from torch_geometric.data import Data\n",
    "from sklearn.model_selection import train_test_split\n",
    "\n",
    "from utils_data import *\n",
    "from utils_classification import *\n",
    "from utils_training import GraphTrainer\n",
    "from utils_running import GraphRunner\n",
    "from utils_evaluation import evaluate_tensor\n",
    "from utils_plot import plot_confusion_matrix, plot_roc"
   ]
  },
  {
   "cell_type": "code",
   "execution_count": 2,
   "id": "bd82d5c9",
   "metadata": {},
   "outputs": [],
   "source": [
    "device = 'cpu'\n",
    "if torch.cuda.is_available():\n",
    "    device = 'cuda'\n",
    "elif torch.backends.mps.is_available():\n",
    "    device = \"mps\""
   ]
  },
  {
   "cell_type": "code",
   "execution_count": 7,
   "id": "c11e3f5c",
   "metadata": {},
   "outputs": [
    {
     "data": {
      "text/plain": [
       "<utils_data.PopulationData.PopulationData at 0x1f208e3d890>"
      ]
     },
     "execution_count": 7,
     "metadata": {},
     "output_type": "execute_result"
    }
   ],
   "source": [
    "data = PopulationData().load_raw('data/raw/train.csv')\n",
    "data.encode_connection_int()\n",
    "data.encode_normalized_age()\n",
    "data.encode_normalized_constitution()\n",
    "data.encode_normalized_behavior()\n",
    "# data.encode_standardized_age()\n",
    "# data.encode_standardized_constitution()\n",
    "# data.encode_standardized_behavior()\n",
    "#data.encode_connection_lists()\n",
    "data.encode_graph_nx()\n",
    "data.encode_degree()\n",
    "data.encode_degree_centrality()\n",
    "data.encode_clustering_coefficient()\n",
    "data.encode_normalized_degree()\n",
    "# data.encode_normalized_degree_centrality()\n",
    "# data.encode_normalized_clustering_coefficient()\n",
    "# data.encode_standardized_degree()\n",
    "# data.encode_standardized_degree_centrality()\n",
    "# data.encode_standardized_clustering_coefficient()\n",
    "# data.encode_connected_index_patient()\n",
    "data.encode_distance_to_index_patient()\n",
    "data.encode_normalized_distance_to_index_patient()\n",
    "# data.encode_standardized_distance_to_index_patient()\n",
    "data.encode_sum_neighbor_age()\n",
    "data.encode_sum_neighbor_constitution()\n",
    "data.encode_sum_neighbor_behavior()\n",
    "data.encode_sum_neighbor_degree()\n",
    "# data.encode_sum_neighbor_degree_centrality()\n",
    "# data.encode_sum_neighbor_clustering_coefficient()\n",
    "data.encode_normalized_sum_neighbor_age()\n",
    "data.encode_normalized_sum_neighbor_constitution()\n",
    "data.encode_normalized_sum_neighbor_behavior()\n",
    "data.encode_normalized_sum_neighbor_degree()\n",
    "# data.encode_normalized_sum_neighbor_degree_centrality()\n",
    "# data.encode_normalized_sum_neighbor_clustering_coefficient()\n",
    "# data.encode_standardized_sum_neighbor_age()\n",
    "# data.encode_standardized_sum_neighbor_constitution()\n",
    "# data.encode_standardized_sum_neighbor_behavior()\n",
    "# data.encode_standardized_sum_neighbor_degree()\n",
    "# data.encode_standardized_sum_neighbor_degree_centrality()\n",
    "# data.encode_standardized_sum_neighbor_clustering_coefficient()\n",
    "# data.encode_mean_neighbor_age()\n",
    "# data.encode_mean_neighbor_constitution()\n",
    "# data.encode_mean_neighbor_behavior()\n",
    "# data.encode_mean_neighbor_degree()\n",
    "# data.encode_mean_neighbor_degree_centrality()\n",
    "# data.encode_mean_neighbor_clustering_coefficient()\n",
    "# data.encode_normalized_mean_neighbor_age()\n",
    "# data.encode_normalized_mean_neighbor_constitution()\n",
    "# data.encode_normalized_mean_neighbor_behavior()\n",
    "# data.encode_normalized_mean_neighbor_degree()\n",
    "# data.encode_normalized_mean_neighbor_degree_centrality()\n",
    "# data.encode_normalized_mean_neighbor_clustering_coefficient()\n",
    "data.encode_test_train()"
   ]
  },
  {
   "cell_type": "code",
   "execution_count": 8,
   "id": "a35355f8",
   "metadata": {},
   "outputs": [
    {
     "name": "stdout",
     "output_type": "stream",
     "text": [
      "Index(['Population', 'Index_Patient', 'Infected', 'Age', 'Constitution',\n",
      "       'Behaviour', 'Connections', 'Normalized_Age', 'Normalized_Constitution',\n",
      "       'Normalized_Behaviour', 'Degree', 'Degree_Centrality',\n",
      "       'Clustering_Coefficient', 'Normalized_Degree',\n",
      "       'Distance_to_Index_Patient', 'Normalized_Distance_to_Index_Patient',\n",
      "       'Sum_Neighbor_Age', 'Sum_Neighbor_Constitution',\n",
      "       'Sum_Neighbor_Behaviour', 'Sum_Neighbor_Degree',\n",
      "       'Normalized_Sum_Neighbor_Age', 'Normalized_Sum_Neighbor_Constitution',\n",
      "       'Normalized_Sum_Neighbor_Behaviour', 'Normalized_Sum_Neighbor_Degree',\n",
      "       'Train', 'Test'],\n",
      "      dtype='object')\n"
     ]
    }
   ],
   "source": [
    "print(data.data_df.columns)"
   ]
  },
  {
   "cell_type": "code",
   "execution_count": 9,
   "id": "ad586307",
   "metadata": {},
   "outputs": [
    {
     "name": "stdout",
     "output_type": "stream",
     "text": [
      "       Population  Index_Patient  Infected  Age  Constitution  Behaviour   \n",
      "ID                                                                         \n",
      "598886         A0              0         1   49      0.347675          2  \\\n",
      "565531         A0              0         1   80      0.324719          1   \n",
      "367210         A0              0         1   71      0.583583          1   \n",
      "524059         A0              0         1   60      0.439978          2   \n",
      "552292         A0              0         1   49      0.553221          1   \n",
      "\n",
      "                                              Connections  Normalized_Age   \n",
      "ID                                                                          \n",
      "598886  [565531, 367210, 524059, 267616, 500874, 55478...        0.387097  \\\n",
      "565531  [598886, 552292, 334896, 391502, 286958, 41721...        0.637097   \n",
      "367210  [598886, 79928, 395880, 71423, 26551, 548578, ...        0.564516   \n",
      "524059  [598886, 485148, 630714, 538180, 135800, 57967...        0.475806   \n",
      "552292  [565531, 495653, 440801, 184726, 381100, 29278...        0.387097   \n",
      "\n",
      "        Normalized_Constitution  Normalized_Behaviour  ...  Sum_Neighbor_Age   \n",
      "ID                                                     ...                     \n",
      "598886                 0.347675                   1.0  ...               433  \\\n",
      "565531                 0.324719                   0.5  ...               389   \n",
      "367210                 0.583583                   0.5  ...               341   \n",
      "524059                 0.439978                   1.0  ...               365   \n",
      "552292                 0.553221                   0.5  ...               396   \n",
      "\n",
      "        Sum_Neighbor_Constitution  Sum_Neighbor_Behaviour   \n",
      "ID                                                          \n",
      "598886                   2.973752                       9  \\\n",
      "565531                   3.270673                       9   \n",
      "367210                   2.790234                       8   \n",
      "524059                   3.517775                       8   \n",
      "552292                   2.951680                       6   \n",
      "\n",
      "        Sum_Neighbor_Degree  Normalized_Sum_Neighbor_Age   \n",
      "ID                                                         \n",
      "598886                   42                     0.429851  \\\n",
      "565531                   30                     0.386070   \n",
      "367210                   32                     0.338308   \n",
      "524059                   31                     0.362189   \n",
      "552292                   33                     0.393035   \n",
      "\n",
      "        Normalized_Sum_Neighbor_Constitution   \n",
      "ID                                             \n",
      "598886                              0.308828  \\\n",
      "565531                              0.339664   \n",
      "367210                              0.289770   \n",
      "524059                              0.365326   \n",
      "552292                              0.306536   \n",
      "\n",
      "        Normalized_Sum_Neighbor_Behaviour  Normalized_Sum_Neighbor_Degree   \n",
      "ID                                                                          \n",
      "598886                           0.473684                        0.421053  \\\n",
      "565531                           0.473684                        0.294737   \n",
      "367210                           0.421053                        0.315789   \n",
      "524059                           0.421053                        0.305263   \n",
      "552292                           0.315789                        0.326316   \n",
      "\n",
      "        Train   Test  \n",
      "ID                    \n",
      "598886  False   True  \n",
      "565531   True  False  \n",
      "367210   True  False  \n",
      "524059   True  False  \n",
      "552292   True  False  \n",
      "\n",
      "[5 rows x 26 columns]\n"
     ]
    }
   ],
   "source": [
    "# print the data\n",
    "print(data.data_df.head())"
   ]
  },
  {
   "cell_type": "code",
   "execution_count": 10,
   "id": "3d574de0",
   "metadata": {},
   "outputs": [],
   "source": [
    "features = ['Normalized_Age',\n",
    "\t\t\t'Normalized_Behaviour',\n",
    "\t\t\t'Normalized_Constitution',\n",
    "\t\t\t'Normalized_Degree',\n",
    "\t\t\t'Normalized_Distance_to_Index_Patient',\n",
    "\t\t\t'Normalized_Sum_Neighbor_Age',\n",
    "\t\t\t'Normalized_Sum_Neighbor_Behaviour',\n",
    "\t\t\t'Normalized_Sum_Neighbor_Constitution',\n",
    "\t\t\t'Normalized_Sum_Neighbor_Degree']\n",
    "graph = data.get_graph_torch(features=features)"
   ]
  },
  {
   "cell_type": "code",
   "execution_count": 11,
   "id": "58c91f84",
   "metadata": {},
   "outputs": [
    {
     "name": "stdout",
     "output_type": "stream",
     "text": [
      "<class 'torch_geometric.data.data.Data'>\n",
      "Graph Data Attributes:\n",
      "x: tensor([[0.3871, 1.0000, 0.3477,  ..., 0.4737, 0.3088, 0.4211],\n",
      "        [0.6371, 0.5000, 0.3247,  ..., 0.4737, 0.3397, 0.2947],\n",
      "        [0.5645, 0.5000, 0.5836,  ..., 0.4211, 0.2898, 0.3158],\n",
      "        ...,\n",
      "        [0.6371, 0.5000, 0.3684,  ..., 0.1053, 0.0522, 0.0211],\n",
      "        [0.5806, 0.5000, 0.7672,  ..., 0.0526, 0.0274, 0.0421],\n",
      "        [0.2419, 1.0000, 0.5173,  ..., 0.0526, 0.0669, 0.0211]])\n",
      "edge_index: tensor([[598886, 598886, 598886,  ..., 186351, 387064, 628340],\n",
      "        [565531, 367210, 524059,  ..., 123974, 397442, 585987]])\n",
      "y: tensor([1, 1, 1,  ..., 1, 1, 0])\n",
      "train_mask: tensor([ True,  True,  True,  ..., False, False,  True])\n",
      "test_mask: tensor([False, False, False,  ..., False,  True, False])\n"
     ]
    }
   ],
   "source": [
    "print(type(graph))\n",
    "print(\"Graph Data Attributes:\")\n",
    "print(f\"x: {graph.x}\")\n",
    "print(f\"edge_index: {graph.edge_index}\")\n",
    "print(f\"y: {graph.y}\")\n",
    "print(f\"train_mask: {graph.train_mask}\")\n",
    "print(f\"test_mask: {graph.test_mask}\")"
   ]
  },
  {
   "cell_type": "code",
   "execution_count": null,
   "id": "fd6cfe92",
   "metadata": {},
   "outputs": [],
   "source": [
    "#train_loader, test_loader = data.get_graph_train_test_loaders(graph, batch_size=32)"
   ]
  },
  {
   "cell_type": "code",
   "execution_count": 12,
   "id": "eed98104",
   "metadata": {},
   "outputs": [],
   "source": [
    "# Define model parameters\n",
    "in_channels = len(features)  # Number of input features (Age, Constitution, Behaviour, Population)\n",
    "hidden_channels = 24 # Number of hidden features\n",
    "out_channels = 1  # Number of output classes (Infected/Not Infected)"
   ]
  },
  {
   "cell_type": "code",
   "execution_count": 13,
   "id": "13d050be",
   "metadata": {},
   "outputs": [],
   "source": [
    "# Initialize the model\n",
    "model = GCN(in_channels, hidden_channels, out_channels)\n",
    "criteria = torch.nn.CrossEntropyLoss()\n",
    "optimizer = Adam(model.parameters(), lr=0.01)"
   ]
  },
  {
   "cell_type": "code",
   "execution_count": 14,
   "id": "f92a1572",
   "metadata": {},
   "outputs": [
    {
     "name": "stderr",
     "output_type": "stream",
     "text": [
      "100%|██████████| 100/100 [00:07<00:00, 13.57it/s]\n"
     ]
    },
    {
     "name": "stdout",
     "output_type": "stream",
     "text": [
      "Best model found at epoch 99 with evaluation loss: 0.6893\n"
     ]
    }
   ],
   "source": [
    "trainer = GraphTrainer(model, criteria, optimizer)\n",
    "trainer.train(graph, num_epochs=100, device='cuda')"
   ]
  },
  {
   "cell_type": "code",
   "execution_count": 17,
   "id": "3bf83759",
   "metadata": {},
   "outputs": [
    {
     "name": "stdout",
     "output_type": "stream",
     "text": [
      "Test loss: 0.6915\n"
     ]
    }
   ],
   "source": [
    "trainer.test(graph, device='cuda')"
   ]
  },
  {
   "cell_type": "code",
   "execution_count": 18,
   "id": "737cd624",
   "metadata": {},
   "outputs": [],
   "source": [
    "runner = GraphRunner(model)\n",
    "test_probabilities = runner.predict_proba(graph, device=device)\n",
    "test_predictions = runner.predict(graph, device=device)\n",
    "\n",
    "# Apply the test mask\n",
    "test_predictions = test_predictions[graph.test_mask]\n",
    "test_probabilities = test_probabilities[graph.test_mask]\n",
    "test_labels = graph.y[graph.test_mask].to(device)"
   ]
  },
  {
   "cell_type": "code",
   "execution_count": 19,
   "id": "1ef510fc",
   "metadata": {},
   "outputs": [
    {
     "name": "stdout",
     "output_type": "stream",
     "text": [
      "Test Predictions: tensor([0, 0, 0,  ..., 0, 0, 0], device='cuda:0')\n",
      "Test Probabilities: tensor([[ 5.8655,  5.8401, -4.2379,  ..., -3.7233, -5.7654, -4.7766],\n",
      "        [ 5.8541,  5.7881, -4.2978,  ..., -3.7140, -5.7211, -4.6660],\n",
      "        [ 7.3485,  7.2472, -5.3165,  ..., -4.6389, -7.1782, -5.8490],\n",
      "        ...,\n",
      "        [ 6.8508,  6.7182, -4.9684,  ..., -4.3168, -6.6517, -5.4072],\n",
      "        [ 5.6934,  5.6871, -4.0163,  ..., -3.6131, -5.5403, -4.6561],\n",
      "        [ 5.4597,  5.3540, -3.9633,  ..., -3.4767, -5.3008, -4.3208]],\n",
      "       device='cuda:0')\n",
      "Test Labels: tensor([1, 1, 1,  ..., 1, 1, 1], device='cuda:0')\n"
     ]
    }
   ],
   "source": [
    "print(\"Test Predictions:\", test_predictions)\n",
    "print(\"Test Probabilities:\", test_probabilities)\n",
    "print(\"Test Labels:\", test_labels)"
   ]
  },
  {
   "cell_type": "code",
   "execution_count": 20,
   "id": "a5903aa7",
   "metadata": {},
   "outputs": [
    {
     "ename": "RuntimeError",
     "evalue": "CUDA error: device-side assert triggered\nCUDA kernel errors might be asynchronously reported at some other API call, so the stacktrace below might be incorrect.\nFor debugging consider passing CUDA_LAUNCH_BLOCKING=1.\nCompile with `TORCH_USE_CUDA_DSA` to enable device-side assertions.\n",
     "output_type": "error",
     "traceback": [
      "\u001b[1;31m---------------------------------------------------------------------------\u001b[0m",
      "\u001b[1;31mRuntimeError\u001b[0m                              Traceback (most recent call last)",
      "Cell \u001b[1;32mIn[20], line 1\u001b[0m\n\u001b[1;32m----> 1\u001b[0m accuracy, precision, recall, f1, auc_roc, confusion_matrix \u001b[38;5;241m=\u001b[39m \u001b[43mevaluate_tensor\u001b[49m\u001b[43m(\u001b[49m\u001b[43mtest_predictions\u001b[49m\u001b[43m,\u001b[49m\u001b[43m \u001b[49m\u001b[43mtest_probabilities\u001b[49m\u001b[43m,\u001b[49m\u001b[43m \u001b[49m\u001b[43mtest_labels\u001b[49m\u001b[43m,\u001b[49m\u001b[43m \u001b[49m\u001b[43mdevice\u001b[49m\u001b[38;5;241;43m=\u001b[39;49m\u001b[43mdevice\u001b[49m\u001b[43m)\u001b[49m\n\u001b[0;32m      3\u001b[0m \u001b[38;5;28mprint\u001b[39m(\u001b[38;5;124mf\u001b[39m\u001b[38;5;124m'\u001b[39m\u001b[38;5;124mAccuracy: \u001b[39m\u001b[38;5;132;01m{\u001b[39;00maccuracy\u001b[38;5;132;01m:\u001b[39;00m\u001b[38;5;124m.4f\u001b[39m\u001b[38;5;132;01m}\u001b[39;00m\u001b[38;5;124m'\u001b[39m)\n\u001b[0;32m      4\u001b[0m \u001b[38;5;28mprint\u001b[39m(\u001b[38;5;124mf\u001b[39m\u001b[38;5;124m'\u001b[39m\u001b[38;5;124mPrecision: \u001b[39m\u001b[38;5;132;01m{\u001b[39;00mprecision\u001b[38;5;132;01m:\u001b[39;00m\u001b[38;5;124m.4f\u001b[39m\u001b[38;5;132;01m}\u001b[39;00m\u001b[38;5;124m'\u001b[39m)\n",
      "File \u001b[1;32me:\\Desktop\\Desktop Folders\\Northeastern\\CS6140\\Machine-Learning-Kernalized-Gaussian-Discriminant-Analysis-for-Graph-Spread-Prediction\\utils_evaluation\\evaluate_tensor.py:20\u001b[0m, in \u001b[0;36mevaluate_tensor\u001b[1;34m(predicted, probability, actual, device)\u001b[0m\n\u001b[0;32m     18\u001b[0m recall \u001b[38;5;241m=\u001b[39m (Recall(task\u001b[38;5;241m=\u001b[39m\u001b[38;5;124m'\u001b[39m\u001b[38;5;124mbinary\u001b[39m\u001b[38;5;124m'\u001b[39m)\u001b[38;5;241m.\u001b[39mto(device))(predicted, actual)\u001b[38;5;241m.\u001b[39mcpu()\u001b[38;5;241m.\u001b[39mitem()\n\u001b[0;32m     19\u001b[0m f1 \u001b[38;5;241m=\u001b[39m (F1Score(task\u001b[38;5;241m=\u001b[39m\u001b[38;5;124m'\u001b[39m\u001b[38;5;124mbinary\u001b[39m\u001b[38;5;124m'\u001b[39m)\u001b[38;5;241m.\u001b[39mto(device))(predicted, actual)\u001b[38;5;241m.\u001b[39mcpu()\u001b[38;5;241m.\u001b[39mitem()\n\u001b[1;32m---> 20\u001b[0m roc_auc \u001b[38;5;241m=\u001b[39m \u001b[43m(\u001b[49m\u001b[43mAUROC\u001b[49m\u001b[43m(\u001b[49m\u001b[43mtask\u001b[49m\u001b[38;5;241;43m=\u001b[39;49m\u001b[38;5;124;43m'\u001b[39;49m\u001b[38;5;124;43mbinary\u001b[39;49m\u001b[38;5;124;43m'\u001b[39;49m\u001b[43m)\u001b[49m\u001b[38;5;241;43m.\u001b[39;49m\u001b[43mto\u001b[49m\u001b[43m(\u001b[49m\u001b[43mdevice\u001b[49m\u001b[43m)\u001b[49m\u001b[43m)\u001b[49m\u001b[43m(\u001b[49m\u001b[43mprobability\u001b[49m\u001b[43m,\u001b[49m\u001b[43m \u001b[49m\u001b[43mactual\u001b[49m\u001b[43m)\u001b[49m\u001b[38;5;241m.\u001b[39mcpu()\u001b[38;5;241m.\u001b[39mitem()\n\u001b[0;32m     21\u001b[0m confusion \u001b[38;5;241m=\u001b[39m (ConfusionMatrix(task\u001b[38;5;241m=\u001b[39m\u001b[38;5;124m'\u001b[39m\u001b[38;5;124mbinary\u001b[39m\u001b[38;5;124m'\u001b[39m)\u001b[38;5;241m.\u001b[39mto(device))(predicted, actual)\u001b[38;5;241m.\u001b[39mcpu()\u001b[38;5;241m.\u001b[39mnumpy()\n\u001b[0;32m     22\u001b[0m \u001b[38;5;28;01mreturn\u001b[39;00m accuracy, precision, recall, f1, roc_auc, confusion\n",
      "File \u001b[1;32mc:\\Users\\Ryan\\AppData\\Local\\Programs\\Python\\Python311\\Lib\\site-packages\\torch\\nn\\modules\\module.py:1511\u001b[0m, in \u001b[0;36mModule._wrapped_call_impl\u001b[1;34m(self, *args, **kwargs)\u001b[0m\n\u001b[0;32m   1509\u001b[0m     \u001b[38;5;28;01mreturn\u001b[39;00m \u001b[38;5;28mself\u001b[39m\u001b[38;5;241m.\u001b[39m_compiled_call_impl(\u001b[38;5;241m*\u001b[39margs, \u001b[38;5;241m*\u001b[39m\u001b[38;5;241m*\u001b[39mkwargs)  \u001b[38;5;66;03m# type: ignore[misc]\u001b[39;00m\n\u001b[0;32m   1510\u001b[0m \u001b[38;5;28;01melse\u001b[39;00m:\n\u001b[1;32m-> 1511\u001b[0m     \u001b[38;5;28;01mreturn\u001b[39;00m \u001b[38;5;28;43mself\u001b[39;49m\u001b[38;5;241;43m.\u001b[39;49m\u001b[43m_call_impl\u001b[49m\u001b[43m(\u001b[49m\u001b[38;5;241;43m*\u001b[39;49m\u001b[43margs\u001b[49m\u001b[43m,\u001b[49m\u001b[43m \u001b[49m\u001b[38;5;241;43m*\u001b[39;49m\u001b[38;5;241;43m*\u001b[39;49m\u001b[43mkwargs\u001b[49m\u001b[43m)\u001b[49m\n",
      "File \u001b[1;32mc:\\Users\\Ryan\\AppData\\Local\\Programs\\Python\\Python311\\Lib\\site-packages\\torch\\nn\\modules\\module.py:1520\u001b[0m, in \u001b[0;36mModule._call_impl\u001b[1;34m(self, *args, **kwargs)\u001b[0m\n\u001b[0;32m   1515\u001b[0m \u001b[38;5;66;03m# If we don't have any hooks, we want to skip the rest of the logic in\u001b[39;00m\n\u001b[0;32m   1516\u001b[0m \u001b[38;5;66;03m# this function, and just call forward.\u001b[39;00m\n\u001b[0;32m   1517\u001b[0m \u001b[38;5;28;01mif\u001b[39;00m \u001b[38;5;129;01mnot\u001b[39;00m (\u001b[38;5;28mself\u001b[39m\u001b[38;5;241m.\u001b[39m_backward_hooks \u001b[38;5;129;01mor\u001b[39;00m \u001b[38;5;28mself\u001b[39m\u001b[38;5;241m.\u001b[39m_backward_pre_hooks \u001b[38;5;129;01mor\u001b[39;00m \u001b[38;5;28mself\u001b[39m\u001b[38;5;241m.\u001b[39m_forward_hooks \u001b[38;5;129;01mor\u001b[39;00m \u001b[38;5;28mself\u001b[39m\u001b[38;5;241m.\u001b[39m_forward_pre_hooks\n\u001b[0;32m   1518\u001b[0m         \u001b[38;5;129;01mor\u001b[39;00m _global_backward_pre_hooks \u001b[38;5;129;01mor\u001b[39;00m _global_backward_hooks\n\u001b[0;32m   1519\u001b[0m         \u001b[38;5;129;01mor\u001b[39;00m _global_forward_hooks \u001b[38;5;129;01mor\u001b[39;00m _global_forward_pre_hooks):\n\u001b[1;32m-> 1520\u001b[0m     \u001b[38;5;28;01mreturn\u001b[39;00m \u001b[43mforward_call\u001b[49m\u001b[43m(\u001b[49m\u001b[38;5;241;43m*\u001b[39;49m\u001b[43margs\u001b[49m\u001b[43m,\u001b[49m\u001b[43m \u001b[49m\u001b[38;5;241;43m*\u001b[39;49m\u001b[38;5;241;43m*\u001b[39;49m\u001b[43mkwargs\u001b[49m\u001b[43m)\u001b[49m\n\u001b[0;32m   1522\u001b[0m \u001b[38;5;28;01mtry\u001b[39;00m:\n\u001b[0;32m   1523\u001b[0m     result \u001b[38;5;241m=\u001b[39m \u001b[38;5;28;01mNone\u001b[39;00m\n",
      "File \u001b[1;32mc:\\Users\\Ryan\\AppData\\Local\\Programs\\Python\\Python311\\Lib\\site-packages\\torchmetrics\\metric.py:312\u001b[0m, in \u001b[0;36mMetric.forward\u001b[1;34m(self, *args, **kwargs)\u001b[0m\n\u001b[0;32m    310\u001b[0m     \u001b[38;5;28mself\u001b[39m\u001b[38;5;241m.\u001b[39m_forward_cache \u001b[38;5;241m=\u001b[39m \u001b[38;5;28mself\u001b[39m\u001b[38;5;241m.\u001b[39m_forward_full_state_update(\u001b[38;5;241m*\u001b[39margs, \u001b[38;5;241m*\u001b[39m\u001b[38;5;241m*\u001b[39mkwargs)\n\u001b[0;32m    311\u001b[0m \u001b[38;5;28;01melse\u001b[39;00m:\n\u001b[1;32m--> 312\u001b[0m     \u001b[38;5;28mself\u001b[39m\u001b[38;5;241m.\u001b[39m_forward_cache \u001b[38;5;241m=\u001b[39m \u001b[38;5;28;43mself\u001b[39;49m\u001b[38;5;241;43m.\u001b[39;49m\u001b[43m_forward_reduce_state_update\u001b[49m\u001b[43m(\u001b[49m\u001b[38;5;241;43m*\u001b[39;49m\u001b[43margs\u001b[49m\u001b[43m,\u001b[49m\u001b[43m \u001b[49m\u001b[38;5;241;43m*\u001b[39;49m\u001b[38;5;241;43m*\u001b[39;49m\u001b[43mkwargs\u001b[49m\u001b[43m)\u001b[49m\n\u001b[0;32m    314\u001b[0m \u001b[38;5;28;01mreturn\u001b[39;00m \u001b[38;5;28mself\u001b[39m\u001b[38;5;241m.\u001b[39m_forward_cache\n",
      "File \u001b[1;32mc:\\Users\\Ryan\\AppData\\Local\\Programs\\Python\\Python311\\Lib\\site-packages\\torchmetrics\\metric.py:382\u001b[0m, in \u001b[0;36mMetric._forward_reduce_state_update\u001b[1;34m(self, *args, **kwargs)\u001b[0m\n\u001b[0;32m    380\u001b[0m \u001b[38;5;66;03m# calculate batch state and compute batch value\u001b[39;00m\n\u001b[0;32m    381\u001b[0m \u001b[38;5;28mself\u001b[39m\u001b[38;5;241m.\u001b[39mupdate(\u001b[38;5;241m*\u001b[39margs, \u001b[38;5;241m*\u001b[39m\u001b[38;5;241m*\u001b[39mkwargs)\n\u001b[1;32m--> 382\u001b[0m batch_val \u001b[38;5;241m=\u001b[39m \u001b[38;5;28;43mself\u001b[39;49m\u001b[38;5;241;43m.\u001b[39;49m\u001b[43mcompute\u001b[49m\u001b[43m(\u001b[49m\u001b[43m)\u001b[49m\n\u001b[0;32m    384\u001b[0m \u001b[38;5;66;03m# reduce batch and global state\u001b[39;00m\n\u001b[0;32m    385\u001b[0m \u001b[38;5;28mself\u001b[39m\u001b[38;5;241m.\u001b[39m_update_count \u001b[38;5;241m=\u001b[39m _update_count \u001b[38;5;241m+\u001b[39m \u001b[38;5;241m1\u001b[39m\n",
      "File \u001b[1;32mc:\\Users\\Ryan\\AppData\\Local\\Programs\\Python\\Python311\\Lib\\site-packages\\torchmetrics\\metric.py:633\u001b[0m, in \u001b[0;36mMetric._wrap_compute.<locals>.wrapped_func\u001b[1;34m(*args, **kwargs)\u001b[0m\n\u001b[0;32m    625\u001b[0m \u001b[38;5;66;03m# compute relies on the sync context manager to gather the states across processes and apply reduction\u001b[39;00m\n\u001b[0;32m    626\u001b[0m \u001b[38;5;66;03m# if synchronization happened, the current rank accumulated states will be restored to keep\u001b[39;00m\n\u001b[0;32m    627\u001b[0m \u001b[38;5;66;03m# accumulation going if ``should_unsync=True``,\u001b[39;00m\n\u001b[0;32m    628\u001b[0m \u001b[38;5;28;01mwith\u001b[39;00m \u001b[38;5;28mself\u001b[39m\u001b[38;5;241m.\u001b[39msync_context(\n\u001b[0;32m    629\u001b[0m     dist_sync_fn\u001b[38;5;241m=\u001b[39m\u001b[38;5;28mself\u001b[39m\u001b[38;5;241m.\u001b[39mdist_sync_fn,\n\u001b[0;32m    630\u001b[0m     should_sync\u001b[38;5;241m=\u001b[39m\u001b[38;5;28mself\u001b[39m\u001b[38;5;241m.\u001b[39m_to_sync,\n\u001b[0;32m    631\u001b[0m     should_unsync\u001b[38;5;241m=\u001b[39m\u001b[38;5;28mself\u001b[39m\u001b[38;5;241m.\u001b[39m_should_unsync,\n\u001b[0;32m    632\u001b[0m ):\n\u001b[1;32m--> 633\u001b[0m     value \u001b[38;5;241m=\u001b[39m _squeeze_if_scalar(\u001b[43mcompute\u001b[49m\u001b[43m(\u001b[49m\u001b[38;5;241;43m*\u001b[39;49m\u001b[43margs\u001b[49m\u001b[43m,\u001b[49m\u001b[43m \u001b[49m\u001b[38;5;241;43m*\u001b[39;49m\u001b[38;5;241;43m*\u001b[39;49m\u001b[43mkwargs\u001b[49m\u001b[43m)\u001b[49m)\n\u001b[0;32m    634\u001b[0m     \u001b[38;5;66;03m# clone tensor to avoid in-place operations after compute, altering already computed results\u001b[39;00m\n\u001b[0;32m    635\u001b[0m     value \u001b[38;5;241m=\u001b[39m apply_to_collection(value, Tensor, \u001b[38;5;28;01mlambda\u001b[39;00m x: x\u001b[38;5;241m.\u001b[39mclone())\n",
      "File \u001b[1;32mc:\\Users\\Ryan\\AppData\\Local\\Programs\\Python\\Python311\\Lib\\site-packages\\torchmetrics\\classification\\auroc.py:124\u001b[0m, in \u001b[0;36mBinaryAUROC.compute\u001b[1;34m(self)\u001b[0m\n\u001b[0;32m    122\u001b[0m \u001b[38;5;250m\u001b[39m\u001b[38;5;124;03m\"\"\"Compute metric.\"\"\"\u001b[39;00m\n\u001b[0;32m    123\u001b[0m state \u001b[38;5;241m=\u001b[39m (dim_zero_cat(\u001b[38;5;28mself\u001b[39m\u001b[38;5;241m.\u001b[39mpreds), dim_zero_cat(\u001b[38;5;28mself\u001b[39m\u001b[38;5;241m.\u001b[39mtarget)) \u001b[38;5;28;01mif\u001b[39;00m \u001b[38;5;28mself\u001b[39m\u001b[38;5;241m.\u001b[39mthresholds \u001b[38;5;129;01mis\u001b[39;00m \u001b[38;5;28;01mNone\u001b[39;00m \u001b[38;5;28;01melse\u001b[39;00m \u001b[38;5;28mself\u001b[39m\u001b[38;5;241m.\u001b[39mconfmat\n\u001b[1;32m--> 124\u001b[0m \u001b[38;5;28;01mreturn\u001b[39;00m \u001b[43m_binary_auroc_compute\u001b[49m\u001b[43m(\u001b[49m\u001b[43mstate\u001b[49m\u001b[43m,\u001b[49m\u001b[43m \u001b[49m\u001b[38;5;28;43mself\u001b[39;49m\u001b[38;5;241;43m.\u001b[39;49m\u001b[43mthresholds\u001b[49m\u001b[43m,\u001b[49m\u001b[43m \u001b[49m\u001b[38;5;28;43mself\u001b[39;49m\u001b[38;5;241;43m.\u001b[39;49m\u001b[43mmax_fpr\u001b[49m\u001b[43m)\u001b[49m\n",
      "File \u001b[1;32mc:\\Users\\Ryan\\AppData\\Local\\Programs\\Python\\Python311\\Lib\\site-packages\\torchmetrics\\functional\\classification\\auroc.py:89\u001b[0m, in \u001b[0;36m_binary_auroc_compute\u001b[1;34m(state, thresholds, max_fpr, pos_label)\u001b[0m\n\u001b[0;32m     83\u001b[0m \u001b[38;5;28;01mdef\u001b[39;00m \u001b[38;5;21m_binary_auroc_compute\u001b[39m(\n\u001b[0;32m     84\u001b[0m     state: Union[Tensor, Tuple[Tensor, Tensor]],\n\u001b[0;32m     85\u001b[0m     thresholds: Optional[Tensor],\n\u001b[0;32m     86\u001b[0m     max_fpr: Optional[\u001b[38;5;28mfloat\u001b[39m] \u001b[38;5;241m=\u001b[39m \u001b[38;5;28;01mNone\u001b[39;00m,\n\u001b[0;32m     87\u001b[0m     pos_label: \u001b[38;5;28mint\u001b[39m \u001b[38;5;241m=\u001b[39m \u001b[38;5;241m1\u001b[39m,\n\u001b[0;32m     88\u001b[0m ) \u001b[38;5;241m-\u001b[39m\u001b[38;5;241m>\u001b[39m Tensor:\n\u001b[1;32m---> 89\u001b[0m     fpr, tpr, _ \u001b[38;5;241m=\u001b[39m \u001b[43m_binary_roc_compute\u001b[49m\u001b[43m(\u001b[49m\u001b[43mstate\u001b[49m\u001b[43m,\u001b[49m\u001b[43m \u001b[49m\u001b[43mthresholds\u001b[49m\u001b[43m,\u001b[49m\u001b[43m \u001b[49m\u001b[43mpos_label\u001b[49m\u001b[43m)\u001b[49m\n\u001b[0;32m     90\u001b[0m     \u001b[38;5;28;01mif\u001b[39;00m max_fpr \u001b[38;5;129;01mis\u001b[39;00m \u001b[38;5;28;01mNone\u001b[39;00m \u001b[38;5;129;01mor\u001b[39;00m max_fpr \u001b[38;5;241m==\u001b[39m \u001b[38;5;241m1\u001b[39m \u001b[38;5;129;01mor\u001b[39;00m fpr\u001b[38;5;241m.\u001b[39msum() \u001b[38;5;241m==\u001b[39m \u001b[38;5;241m0\u001b[39m \u001b[38;5;129;01mor\u001b[39;00m tpr\u001b[38;5;241m.\u001b[39msum() \u001b[38;5;241m==\u001b[39m \u001b[38;5;241m0\u001b[39m:\n\u001b[0;32m     91\u001b[0m         \u001b[38;5;28;01mreturn\u001b[39;00m _auc_compute_without_check(fpr, tpr, \u001b[38;5;241m1.0\u001b[39m)\n",
      "File \u001b[1;32mc:\\Users\\Ryan\\AppData\\Local\\Programs\\Python\\Python311\\Lib\\site-packages\\torchmetrics\\functional\\classification\\roc.py:54\u001b[0m, in \u001b[0;36m_binary_roc_compute\u001b[1;34m(state, thresholds, pos_label)\u001b[0m\n\u001b[0;32m     52\u001b[0m     thres \u001b[38;5;241m=\u001b[39m thresholds\u001b[38;5;241m.\u001b[39mflip(\u001b[38;5;241m0\u001b[39m)\n\u001b[0;32m     53\u001b[0m \u001b[38;5;28;01melse\u001b[39;00m:\n\u001b[1;32m---> 54\u001b[0m     fps, tps, thres \u001b[38;5;241m=\u001b[39m \u001b[43m_binary_clf_curve\u001b[49m\u001b[43m(\u001b[49m\u001b[43mpreds\u001b[49m\u001b[38;5;241;43m=\u001b[39;49m\u001b[43mstate\u001b[49m\u001b[43m[\u001b[49m\u001b[38;5;241;43m0\u001b[39;49m\u001b[43m]\u001b[49m\u001b[43m,\u001b[49m\u001b[43m \u001b[49m\u001b[43mtarget\u001b[49m\u001b[38;5;241;43m=\u001b[39;49m\u001b[43mstate\u001b[49m\u001b[43m[\u001b[49m\u001b[38;5;241;43m1\u001b[39;49m\u001b[43m]\u001b[49m\u001b[43m,\u001b[49m\u001b[43m \u001b[49m\u001b[43mpos_label\u001b[49m\u001b[38;5;241;43m=\u001b[39;49m\u001b[43mpos_label\u001b[49m\u001b[43m)\u001b[49m\n\u001b[0;32m     55\u001b[0m     \u001b[38;5;66;03m# Add an extra threshold position to make sure that the curve starts at (0, 0)\u001b[39;00m\n\u001b[0;32m     56\u001b[0m     tps \u001b[38;5;241m=\u001b[39m torch\u001b[38;5;241m.\u001b[39mcat([torch\u001b[38;5;241m.\u001b[39mzeros(\u001b[38;5;241m1\u001b[39m, dtype\u001b[38;5;241m=\u001b[39mtps\u001b[38;5;241m.\u001b[39mdtype, device\u001b[38;5;241m=\u001b[39mtps\u001b[38;5;241m.\u001b[39mdevice), tps])\n",
      "File \u001b[1;32mc:\\Users\\Ryan\\AppData\\Local\\Programs\\Python\\Python311\\Lib\\site-packages\\torchmetrics\\functional\\classification\\precision_recall_curve.py:69\u001b[0m, in \u001b[0;36m_binary_clf_curve\u001b[1;34m(preds, target, sample_weights, pos_label)\u001b[0m\n\u001b[0;32m     64\u001b[0m weight \u001b[38;5;241m=\u001b[39m sample_weights[desc_score_indices] \u001b[38;5;28;01mif\u001b[39;00m sample_weights \u001b[38;5;129;01mis\u001b[39;00m \u001b[38;5;129;01mnot\u001b[39;00m \u001b[38;5;28;01mNone\u001b[39;00m \u001b[38;5;28;01melse\u001b[39;00m \u001b[38;5;241m1.0\u001b[39m\n\u001b[0;32m     66\u001b[0m \u001b[38;5;66;03m# pred typically has many tied values. Here we extract\u001b[39;00m\n\u001b[0;32m     67\u001b[0m \u001b[38;5;66;03m# the indices associated with the distinct values. We also\u001b[39;00m\n\u001b[0;32m     68\u001b[0m \u001b[38;5;66;03m# concatenate a value for the end of the curve.\u001b[39;00m\n\u001b[1;32m---> 69\u001b[0m distinct_value_indices \u001b[38;5;241m=\u001b[39m \u001b[43mtorch\u001b[49m\u001b[38;5;241;43m.\u001b[39;49m\u001b[43mwhere\u001b[49m\u001b[43m(\u001b[49m\u001b[43mpreds\u001b[49m\u001b[43m[\u001b[49m\u001b[38;5;241;43m1\u001b[39;49m\u001b[43m:\u001b[49m\u001b[43m]\u001b[49m\u001b[43m \u001b[49m\u001b[38;5;241;43m-\u001b[39;49m\u001b[43m \u001b[49m\u001b[43mpreds\u001b[49m\u001b[43m[\u001b[49m\u001b[43m:\u001b[49m\u001b[38;5;241;43m-\u001b[39;49m\u001b[38;5;241;43m1\u001b[39;49m\u001b[43m]\u001b[49m\u001b[43m)\u001b[49m[\u001b[38;5;241m0\u001b[39m]\n\u001b[0;32m     70\u001b[0m threshold_idxs \u001b[38;5;241m=\u001b[39m F\u001b[38;5;241m.\u001b[39mpad(distinct_value_indices, [\u001b[38;5;241m0\u001b[39m, \u001b[38;5;241m1\u001b[39m], value\u001b[38;5;241m=\u001b[39mtarget\u001b[38;5;241m.\u001b[39msize(\u001b[38;5;241m0\u001b[39m) \u001b[38;5;241m-\u001b[39m \u001b[38;5;241m1\u001b[39m)\n\u001b[0;32m     71\u001b[0m target \u001b[38;5;241m=\u001b[39m (target \u001b[38;5;241m==\u001b[39m pos_label)\u001b[38;5;241m.\u001b[39mto(torch\u001b[38;5;241m.\u001b[39mlong)\n",
      "\u001b[1;31mRuntimeError\u001b[0m: CUDA error: device-side assert triggered\nCUDA kernel errors might be asynchronously reported at some other API call, so the stacktrace below might be incorrect.\nFor debugging consider passing CUDA_LAUNCH_BLOCKING=1.\nCompile with `TORCH_USE_CUDA_DSA` to enable device-side assertions.\n"
     ]
    }
   ],
   "source": [
    "accuracy, precision, recall, f1, auc_roc, confusion_matrix = evaluate_tensor(test_predictions, test_probabilities, test_labels, device=device)\n",
    "\n",
    "print(f'Accuracy: {accuracy:.4f}')\n",
    "print(f'Precision: {precision:.4f}')\n",
    "print(f'Recall: {recall:.4f}')\n",
    "print(f'F1: {f1:.4f}')\n",
    "print(f'AUC-ROC: {auc_roc:.4f}')"
   ]
  },
  {
   "cell_type": "code",
   "execution_count": null,
   "id": "dfce9444",
   "metadata": {},
   "outputs": [],
   "source": [
    "plot_confusion_matrix(confusion_matrix, ['Healthy', 'Infected'])\n",
    "plot_roc(test_probabilities.cpu().numpy(), graph.y[graph.test_mask].cpu().numpy())"
   ]
  }
 ],
 "metadata": {
  "kernelspec": {
   "display_name": "Python 3",
   "language": "python",
   "name": "python3"
  },
  "language_info": {
   "codemirror_mode": {
    "name": "ipython",
    "version": 3
   },
   "file_extension": ".py",
   "mimetype": "text/x-python",
   "name": "python",
   "nbconvert_exporter": "python",
   "pygments_lexer": "ipython3",
   "version": "3.11.1"
  }
 },
 "nbformat": 4,
 "nbformat_minor": 5
}
